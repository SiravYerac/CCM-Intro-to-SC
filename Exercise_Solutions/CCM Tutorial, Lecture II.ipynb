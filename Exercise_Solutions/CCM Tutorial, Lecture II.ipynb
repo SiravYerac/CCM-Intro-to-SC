{
 "cells": [
  {
   "cell_type": "markdown",
   "metadata": {},
   "source": [
    "# CCM Tutorial, Lecture II\n",
    "\n",
    "In this lecture, we will explore how to control workflow in a code using conditionals and loops. For more information, we recommend reviewing some of the online documentation available at https://docs.python.org/2/tutorial/controlflow.html. We will also see how to make code more modular by creating user defined functions. \n",
    "\n",
    "## Conditionals & Comparisons in Python\n",
    "    \n",
    "### Conditionals in Python    \n",
    "0. In Python, there are no \"case\" or \"switch\" options that are available in other languages, but we can get the same functionality by using dictionary mappings. However, this is beyond the scope of this tutorial. \n",
    "1. You will find that most things can be done using the if/elif/else syntax:\n",
    "```\n",
    "if condition:\n",
    "    #do stuff\n",
    "elif condition:\n",
    "    #do stuff\n",
    "else:\n",
    "    #do stuff\n",
    "```       \n",
    "\n",
    "***All parts of the conditional are indented.*** Unlike other languages that use terms like \"end\" or \"end if\" (or perhaps make use of brackets like \"{ }\") to signify the block of code corresponding to an if-elseif-else, Python interprets everything in terms of indenting. This is also true in for-loops as we will see below.\n",
    "       \n",
    "### Comparison operators  (*LET a=3, b=5*)\n",
    "==:\tIf the values of two operands are equal, then the condition becomes true.\t*(a == b) is not true.*\n",
    "\n",
    "!=:\tIf values of two operands are not equal, then condition becomes true.  *(a != b) is true.* (Alternatively, one could use `<>` in place of `!=`, but this is not very common.)\n",
    "\n",
    " \">\":\tIf the value of left operand is greater than the value of right operand, then condition becomes true.\t*(a > b) is not true.*\n",
    "\n",
    "\"<\": If the value of left operand is less than the value of right operand, then condition becomes true.\t*(a < b) is true.*\n",
    "\n",
    "\">=\":\tIf the value of left operand is greater than or equal to the value of right operand, then condition becomes true.\t*(a >= b) is not true.*\n",
    "\n",
    "\"<=\":\tIf the value of left operand is less than or equal to the value of right operand, then condition becomes true.\t*(a <= b) is true.*\n",
    "\n",
    "We can use **and** and **or** to combine sets of comparison operators and **not** to negate a statement. \n",
    "\n",
    "Try changing different values of `x` in the code snippets below and see what happens."
   ]
  },
  {
   "cell_type": "code",
   "execution_count": null,
   "metadata": {
    "collapsed": false
   },
   "outputs": [],
   "source": [
    "import numpy as np\n",
    "x = -1\n",
    "if x >= 0 and not(x == 2 or x == 3):\n",
    "    f = np.power(x,.5)/((x-2.0)*(x-3.0))\n",
    "    print f\n",
    "elif x < 0:\n",
    "    print 'Square root of negative number'\n",
    "    f = np.nan\n",
    "elif x == 2.0:\n",
    "    print 'Division by zero with different limits'\n",
    "    f = np.nan"
   ]
  },
  {
   "cell_type": "code",
   "execution_count": null,
   "metadata": {
    "collapsed": false
   },
   "outputs": [],
   "source": [
    "# if x > 1 or x < -1 f(x)=0\n",
    "# elif x<= 0 f(x)=1+x\n",
    "# else f(x)=1-x\n",
    "\n",
    "x=-.25\n",
    "if x> 1 or x< -1:\n",
    "    f=0.0\n",
    "elif x<=0:\n",
    "    f=1.0+x\n",
    "else: \n",
    "    f=1.0-x\n",
    "print f"
   ]
  },
  {
   "cell_type": "markdown",
   "metadata": {},
   "source": [
    "## Functions in Python \n",
    "In the code snippets above, a value of `x` serves as the input into a conditional statement that determines what output value `f` should be assigned based on the value of `x`. If we wish to use this functionality many times in the code, we would probably like to avoid writing the if/elif/else structure at each point where it is to be used for a variety of reasons including, but not limited to, the following:\n",
    "- If we ever decide to change how `f` is computed, then we would have to find/replace every instance of it within the code.\n",
    "- Even the most terse scientific code can easily become hundreds if not thousands of lines long, and we want to avoid making the code more difficult to read, use, and debug than is absolutely necessary. \n",
    "\n",
    "This motivates the development of user-defined functions in Python. The basic syntax is shown below.\n",
    "\n",
    "```\n",
    "def functionname( parameters ):\n",
    "   \"\"\"function_docstring\"\"\"\n",
    "   function_suite\n",
    "   return [expression]\n",
    "```\n",
    "### A brief discussion on docstrings and commenting in code\n",
    "The (triple) quotes is where you put in a documentation string for your function.  It is entirely optional, but it is always a good idea to document your code even when it is entirely in the developmental/testing phase. There are some best practices that you can read about at https://docs.python.org/devguide/documenting.html or http://docs.python-guide.org/en/latest/writing/documentation/. \n",
    "\n",
    "Good tools such as Sphinx http://www.sphinx-doc.org/en/1.4.8/ can turn properly documented code into easy to read/navigate html files to help expand the community of users for any code you develop. For example, see http://ut-chg.github.io/BET/ where Sphinx was used to generate the documentation. \n",
    "\n",
    "### parameters and keyword arguments in a function\n",
    "Notice that in the definition of the function, there is a `parameters` variable, which is often a list of parameters (as shown below). These are normally ordered **UNLESS** you supplement them with *keyword args* in the function call (i.e., when you actually use the function you may specify which argument corresponds to which parameter).  The next two code snippet illustrates this."
   ]
  },
  {
   "cell_type": "code",
   "execution_count": null,
   "metadata": {
    "collapsed": false
   },
   "outputs": [],
   "source": [
    "def myfun(x,y):\n",
    "    if x<y:\n",
    "        z = x+2*y\n",
    "    else:\n",
    "        z= x-2*y\n",
    "    return z\n",
    "\n",
    "print myfun(2,3)\n",
    "print myfun(2.0,3.0)\n",
    "print myfun(3.0,2.0) #switching order of inputs\n",
    "\n",
    "print myfun(x=2,y=3.0) #keyword argument\n",
    "print myfun(y=3.0,x=2.0) #switching the order of inputs of keyword arguments does nothing\n",
    "\n",
    "# Above, try printing myfun(x=2,3.0). \n",
    "# The take home message? Once you commit to using keywords in a function call, then you better be all in.\n",
    "\n",
    "print myfun('silly ','test')    \n",
    "\n",
    "z = myfun(2,3)\n",
    "print z"
   ]
  },
  {
   "cell_type": "markdown",
   "metadata": {},
   "source": [
    "Obviously Python does not use type-checking for functions, but it allows useful types of polymorphism.\n",
    "\n",
    "Python also allows to set defaults within the parameter list of a function call.  Let's tweak myfun a little.\n",
    "\n",
    "Defaults need to **come after** functions parameters with non-default values."
   ]
  },
  {
   "cell_type": "code",
   "execution_count": null,
   "metadata": {
    "collapsed": false,
    "scrolled": true
   },
   "outputs": [],
   "source": [
    "def myfun2(x=1,y=2):\n",
    "    if x<y:\n",
    "        z = x+2*y\n",
    "    else:\n",
    "        z= x-2*y\n",
    "    return z\n",
    "\n",
    "print myfun2()\n",
    "print myfun2(1.0)\n",
    "print myfun2(y=3)"
   ]
  },
  {
   "cell_type": "markdown",
   "metadata": {},
   "source": [
    "**We can even pass a function to another function!**"
   ]
  },
  {
   "cell_type": "code",
   "execution_count": null,
   "metadata": {
    "collapsed": false
   },
   "outputs": [],
   "source": [
    "print myfun(myfun2(),myfun2(y=3))"
   ]
  },
  {
   "cell_type": "markdown",
   "metadata": {},
   "source": [
    "### Python is pass by reference OR pass by value\n",
    "\n",
    "####  *Pass by reference*\n",
    "This means Python passes the reference to the variable, not just the value.  This can cause some different behavior when certain *in place* operators are used.  Classes, numpy arrays, etc. are passed by reference.\n",
    "\n",
    "#### *Pass by value* \n",
    "This means Python passes the value and creates a new copy within the function. Variables that are strings, floats, and ints are passed by value (*they are immutable data types* meaning that the value is left unchanged by the function).\n",
    "\n",
    "Python variables created within a function also have local *scope*.\n",
    "- *scope* usually refers to the visibility of variables. In other words, which parts of your program can see or use it.  ***Local scope*** usually means only within the called function. "
   ]
  },
  {
   "cell_type": "code",
   "execution_count": null,
   "metadata": {
    "collapsed": false
   },
   "outputs": [],
   "source": [
    "import numpy as np\n",
    "def tester(var):\n",
    "    var *= 2      #if var is mutable, replaces in place (pass-by-reference)\n",
    "    print 'within tester, the passed variable is changed to \\n var = ', var\n",
    "    a = 3\n",
    "    print 'tester changed a in the scope of the function to', a\n",
    "    return\n",
    "\n",
    "a=2\n",
    "print 'before tester, a = ', a\n",
    "tester(a)\n",
    "print 'after tester, a = ', a\n",
    "A=np.ones([2,2])\n",
    "print 'before tester, \\n A = ', A\n",
    "tester(A)\n",
    "print 'after tester, \\n A = ', A\n",
    "tester(A)\n",
    "print 'after tester(2*A), \\n A = ', A\n"
   ]
  },
  {
   "cell_type": "markdown",
   "metadata": {},
   "source": [
    "### Wait a minute...\n",
    "\n",
    "What if I want to do local work to a *mutable* data type (i.e. a numpy array) but not have the change reflected back after function exit?  \n",
    "\n",
    "The answer is to not use *in place* operators like +=, \\*=, etc.  `var = var*2` creates a local copy of var and adds 2 to every entry."
   ]
  },
  {
   "cell_type": "code",
   "execution_count": null,
   "metadata": {
    "collapsed": false
   },
   "outputs": [],
   "source": [
    "def tester2(var):\n",
    "    var = var*2    #if mutable, creates local copy of var.\n",
    "    print 'within tester2, the passed variable is changed to, \\n input = ',var\n",
    "    return \n",
    "\n",
    "A=np.eye(3) # creates 3x3 array with a_ii = 1, 0 otherwise.\n",
    "print 'before tester2,\\n A = ', A\n",
    "tester2(A)\n",
    "print 'after tester2,\\n A = ', A"
   ]
  },
  {
   "cell_type": "markdown",
   "metadata": {},
   "source": [
    "## Looping in Python\n",
    "\n",
    "### For loops\n",
    "\n",
    "**Syntax** \n",
    "```\n",
    "for iterator in list:\n",
    "    #indent for the loop\n",
    "    #do cool stuff in the loop\n",
    "#noindent to close the loop'\n",
    "```\n",
    "The list can be strings, for example:\n",
    "```\n",
    "for string in ('Alpha','Romeo','Sailor','Foxtrot'):\n",
    "    #string takes on values 'Alpha', 'Romeo', etc. in order.\n",
    "    print string\n",
    "```\n",
    "    \n",
    "\n",
    "You will commonly use the ``xrange`` command to build lists of numbers for iterating (see https://docs.python.org/2/library/functions.html#xrange).\n",
    "This is better than ``range`` for long sets of numbers or if you break the loop earlier.\n",
    "\n",
    "**SYNTAX** \n",
    "```\n",
    "xrange(stop)  #assumes start=0\n",
    "xrange(start, stop[, step])\n",
    "```\n",
    "\n",
    "Note that it **DOES NOT** execute the stop value.\n",
    "\n",
    "Let's  sum the first 20 terms of the geometric series corresponding to $2^{-x}$"
   ]
  },
  {
   "cell_type": "code",
   "execution_count": null,
   "metadata": {
    "collapsed": false
   },
   "outputs": [],
   "source": [
    "sum=0\n",
    "for n in xrange(20):   #identical so xrange(0,20) or xrange(0,20,1)\n",
    "    sum += 2**(-n)\n",
    "    print n, 'Sum = ', sum\n",
    "    \n",
    "print 'Now start subtracting from the sum'\n",
    "    \n",
    "for n in xrange(19,-1,-1): #you need the colon\n",
    "    sum -= 2**(-n)  #all the things at the level of the loop get one indent\n",
    "    print n, 'Sum = ', sum #done with the loop variable"
   ]
  },
  {
   "cell_type": "markdown",
   "metadata": {},
   "source": [
    "### While loops \n",
    "\n",
    "We often use ***while*** loops for iterative methods, such as fixed-point iterations. These are typically used when we are unsure exactly how many iterations a process should take.\n",
    "\n",
    "```\n",
    "while condition:   #this condition is true\n",
    "    do something cool\n",
    "    update condition, or use break or continue for loop control\n",
    "#no indent as at end of loop\n",
    "```\n",
    "If the the ``condition`` never becomes false, then this will result in an infinite loop, so be careful. It is therefore fairly common practice to include some type of counter which tracks the number of iterations, and negating the condition if the counter reaches a specified value.\n",
    "\n",
    "You can also exit from any for loop by using ``break`` to exit the innermost loop, and ``continue`` to continue to the next iteration of this loop\n",
    "\n",
    "Let's look at an example where we are trying to iterate a logistic equation $x_{n+1}=a*x_n*(1-x_n)$ until we arrive at a fixed point:"
   ]
  },
  {
   "cell_type": "code",
   "execution_count": null,
   "metadata": {
    "collapsed": false
   },
   "outputs": [],
   "source": [
    "import math as m\n",
    "#from math import fabs  #absolute value function\n",
    "a = 2.0\n",
    "xnew = .1\n",
    "tol = 1E-8\n",
    "doit = True  #boolean True and False \n",
    "while doit:\n",
    "    xold = xnew\n",
    "    xnew *= a * (1-xnew)\n",
    "    if m.fabs(xnew-xold) > tol:\n",
    "        print 'Iterating, X = ', xnew\n",
    "        #continue  #play it again, Sam\n",
    "    else:\n",
    "        break\n",
    "    print 'This is skipped if the continue command is not commented out above.'\n",
    "print \"Fixed Point=\",xnew"
   ]
  },
  {
   "cell_type": "markdown",
   "metadata": {},
   "source": [
    "# Exercise: Simple Finite-Difference Discretization of a PDE\n",
    "\n",
    "Recall the following simplified form of the heat equation seen in Lecture I:\n",
    "\n",
    "\\begin{equation}\n",
    "\\Large \\left\\{\\begin{array}{l}\\frac{\\partial T}{\\partial t} - \\alpha_x\\frac{\\partial^2 T}{\\partial x^2}  - \\alpha_y\\frac{\\partial^2 T}{\\partial y^2} = f(x,y,t), &(x,y,t)\\in\\Omega\\times(0,t_f] \\\\\n",
    " \\nabla T(x,y,t) \\cdot \\mathbf{n} = g(x,y,t), & (x,y,t)\\in\\partial\\Omega\\times(0,t_f] \\\\\n",
    " T(x,y,0) = h(x,y), & (x,y)\\in\\Omega\n",
    " \\end{array}\\right.\n",
    "\\end{equation}\n",
    "\n",
    "Let $\\Omega = (0,1)\\times (0,1)$ and $t_f = \\ln(10)$ as before. \n",
    "\n",
    "Suppose to discretize $\\overline{\\Omega}$ we use a regular grid of $(M_x+1)\\times (M_y+1)$ points as shown in the figure below so that $$\\large x_i = i\\Delta_x, 0\\leq i\\leq M_x, \\text{ where } \\Delta_x = \\frac{1}{M_x},$$\n",
    "and\n",
    "$$ \\large y_j = j\\Delta_y, 0\\leq j\\leq M_y, \\text{ where } \\Delta_y = \\frac{1}{M_y}.$$\n",
    "![title](imgs/FD-mesh-space-2D.png)\n",
    "\n",
    "To discretize $[0,t_f]$, use a uniform grid of $N+1$ points $$\\large 0=t_0<t_1<t_2<\\cdots<t_N=t_f, \\text{ where } t_n = n\\Delta_t, 0\\leq n\\leq N, \\text{ and } \\Delta_t=\\frac{t_f}{N}.$$\n",
    "\n",
    "Let $T_{i,j}^n$ denote the approximation to $T(x,y,t)$ at the point in space-time given by $(x_i,y_j,t_n)$. \n",
    "\n",
    "Then, using centered finite difference schemes in space and a forward Euler scheme in space, we have the following equations that depend upon the choice of $(x_i,y_j)$.\n",
    "* If $0<i<M_x$ and $0<j<M_y$, then\n",
    "$$\n",
    "\\large\n",
    "T_{i,j}^{n+1} = T_{i,j}^n + \\Delta_t \\left(\\alpha_x\\frac{T_{i+1,j}^n - 2T_{i,j}^n + T_{i-1,j}^n}{\\Delta_x^2} + \\alpha_y\\frac{T_{i,j+1}^n - 2T_{i,j}^n + T_{i,j-1}^n}{\\Delta_y^2} + f(x_i,y_j,t_n)\\right)\n",
    "$$\n",
    "\n",
    "* Else-If $i=0$ and $0< j < M_y$, then\n",
    "$$\n",
    "\\large\n",
    "T_{i,j}^{n+1} = T_{i,j}^n + \\Delta_t \\left(\\alpha_x\\frac{T_{i+1,j}^n - 2T_{i,j}^n + \\color{blue}{\\left[T_{i+1,j}^n+2\\Delta_xg(x_i,y_j,t_n)\\right]}}{\\Delta_x^2} + \\alpha_y\\frac{T_{i,j+1}^n - 2T_{i,j}^n + T_{i,j-1}^n}{\\Delta_y^2} \\right)\n",
    "$$\n",
    "\n",
    "* Else-If $i=M_x$ and $0< j< M_y$, then\n",
    "$$\n",
    "\\large\n",
    "T_{i,j}^{n+1} = T_{i,j}^n + \\Delta_t \\left(\\alpha_x\\frac{\\color{blue}{\\left[T_{i-1,j}^n+2\\Delta_xg(x_i,y_j,t_n)\\right]} - 2T_{i,j}^n + T_{i-1,j}^n}{\\Delta_x^2} + \\alpha_y\\frac{T_{i,j+1}^n - 2T_{i,j}^n + T_{i,j-1}^n}{\\Delta_y^2} \\right)\n",
    "$$\n",
    "\n",
    "* Else-If $0<i<M_x$ and $j=0$, then\n",
    "$$\n",
    "\\large\n",
    "T_{i,j}^{n+1} = T_{i,j}^n + \\Delta_t \\left(\\alpha_x\\frac{T_{i+1,j}^n - 2T_{i,j}^n + T_{i-1,j}^n}{\\Delta_x^2} + \\alpha_y\\frac{T_{i,j+1}^n - 2T_{i,j}^n + \\color{red}{\\left[T_{i,j+1}^n+2\\Delta_yg(x_i,y_j,t_n)\\right]}}{\\Delta_y^2} \\right)\n",
    "$$\n",
    "\n",
    "* Else-If $0<i<M_x$ and $j=M_y$, then\n",
    "$$\n",
    "\\large\n",
    "T_{i,j}^{n+1} = T_{i,j}^n + \\Delta_t \\left(\\alpha_x\\frac{T_{i+1,j}^n - 2T_{i,j}^n + T_{i-1,j}^n}{\\Delta_x^2} + \\alpha_y\\frac{\\color{red}{\\left[T_{i,j-1}^n+2\\Delta_yg(x_i,y_j,t_n)\\right]} - 2T_{i,j}^n + T_{i,j-1}^n}{\\Delta_y^2} \\right)\n",
    "$$\n",
    "\n",
    "* Else-If $i=0$ and $j=0$, then\n",
    "$$\n",
    "\\Large \n",
    "T_{i,j}^{n+1} = T_{i,j}^n + \\Delta_t \\left(\\alpha_x\\frac{T_{i+1,j}^n - 2T_{i,j}^n + \\color{blue}{\\left[T_{i+1,j}^n+2\\Delta_xg(x_i,y_j,t_n)\\right]}}{\\Delta_x^2} + \\alpha_y\\frac{T_{i,j+1}^n - 2T_{i,j}^n +  \\color{red}{\\left[T_{i,j+1}^n+2\\Delta_yg(x_i,y_j,t_n)\\right]}}{\\Delta_y^2} \\right)\n",
    "$$\n",
    "\n",
    "* Else-If $i=0$ and $j=M_y$, then\n",
    "$$\n",
    "\\large \n",
    "T_{i,j}^{n+1} = T_{i,j}^n + \\Delta_t \\left(\\alpha_x\\frac{T_{i+1,j}^n - 2T_{i,j}^n + \\color{blue}{\\left[T_{i+1,j}^n+2\\Delta_xg(x_i,y_j,t_n)\\right]}}{\\Delta_x^2} + \\alpha_y\\frac{\\color{red}{\\left[T_{i,j-1}^n+2\\Delta_yg(x_i,y_j,t_n)\\right]} - 2T_{i,j}^n + T_{i,j-1}^n}{\\Delta_y^2} \\right)\n",
    "$$\n",
    "\n",
    "* Else-If $i=M_x$ and $j=0$, then\n",
    "$$\n",
    "\\large\n",
    "T_{i,j}^{n+1} = T_{i,j}^n + \\Delta_t \\left(\\alpha_x\\frac{\\color{blue}{\\left[T_{i-1,j}^n+2\\Delta_xg(x_i,y_j,t_n)\\right]} - 2T_{i,j}^n + T_{i-1,j}^n}{\\Delta_x^2} + \\alpha_y\\frac{T_{i,j+1}^n - 2T_{i,j}^n + \\color{red}{\\left[T_{i,j+1}^n+2\\Delta_yg(x_i,y_j,t_n)\\right]}}{\\Delta_y^2}\\right)\n",
    "$$\n",
    "\n",
    "* Else (when $i=M_x$ and $j=M_y$), then\n",
    "$$\n",
    "\\large\n",
    "T_{i,j}^{n+1} = T_{i,j}^n + \\Delta_t \\left(\\alpha_x\\frac{\\color{blue}{\\left[T_{i-1,j}^n+2\\Delta_xg(x_i,y_j,t_n)\\right]} - 2T_{i,j}^n + T_{i-1,j}^n}{\\Delta_x^2} + \\alpha_y\\frac{\\color{red}{\\left[T_{i,j-1}^n+2\\Delta_yg(x_i,y_j,t_n)\\right]} - 2T_{i,j}^n + T_{i,j-1}^n}{\\Delta_y^2} \\right)\n",
    "$$\n",
    "\n",
    "Assume that $\\alpha_x=\\alpha_y = 1/2\\pi^2$, $h(x,y) = \\sin(\\pi x)\\sin(\\pi y)$, $f(x,y,t) \\equiv 0$ for all $(x,y,t)\\in\\Omega\\times(0,t_f]$, and $g(x,y,t)=-10\\pi \\exp(-t)\\sin(\\pi y)$ if $x=0$ or $x=1$ and $g(x,y,t)=-10\\pi\\exp(-t)\\sin(\\pi x)$ if $y=0$ or $y=1$.\n",
    "### Do the following (be very careful with the indexing using `meshgrid`):\n",
    "\n",
    "* Step 1: Create user-defined functions called `eval_f`, `eval_h`, and `eval_g` for evaluating the \"data\" $f$, $h$, and $g$ at points in the space-time domain.\n",
    "\n",
    "\n",
    "* Step 2: Create a user-defined function called `get_T_new` for determining $T_{i,j}^{n+1}$ where the first three inputs are the indices `i`, `j`, and the ***array*** `T_old`, the next inputs are the required values of $f$ and $g$ followed by the values of `M_x`, `M_y`, and `N`, and for the last inputs ($\\alpha_x$ and $\\alpha_y$) use defaults values so that these inputs are optional. This function should include an if-elif-else structure and return a ***scalar*** `T_new`.\n",
    "\n",
    "\n",
    "* Step 3: Define  `M_x=5`, `M_y=5`, and `N=int(np.log(10)*M_x**2)` and use a nested for-loop to initialize $T_{i,j}^0$ using the `eval_h` function. Make a plot to verify you have initialized this array properly. \n",
    "\n",
    "\n",
    "* Step 4: Use nested for-loops for all space-time points $(x_i,y_j,t_n)$ to construct $T_{i,j}^{n}$, plot this approximation at $t_1$, $t_{int(N/2)}$, and $t_{-1}$ and plot the errors at these same times using a single figure with subplots on a $2\\times 3$ array. To compute the errors, recall from the first lecture that the exact solution is given by\n",
    "$$\n",
    "  \\large  T(x,y,t) = 10 e^{-t} \\sin(\\pi x)\\sin(\\pi y)\n",
    "$$\n",
    "\n",
    "\n",
    "* Step 5: Compute and plot the maximum absolute spatial error as a function of time. *Hint: Use `np.max`*\n",
    "\n",
    "\n",
    "* Step 6 [Optional]: Use a while-loop to double `M_x`, `M_y`, and `N` until either the maximum spatial error is less than a tolerance of `1E-4` for all time or until `M_x` is greater than `40`.  "
   ]
  },
  {
   "cell_type": "markdown",
   "metadata": {},
   "source": [
    "Step 1. Create the user-defined functions for evaluating the data"
   ]
  },
  {
   "cell_type": "code",
   "execution_count": null,
   "metadata": {
    "collapsed": true
   },
   "outputs": [],
   "source": [
    "import numpy as np\n",
    "%matplotlib inline \n",
    "import matplotlib.pyplot as plt \n",
    "from mpl_toolkits.mplot3d import axes3d\n",
    "\n",
    "def eval_f(x_i, y_j, t_n):\n",
    "    return 0\n",
    "\n",
    "def eval_h(x_i,y_j):\n",
    "    z = 10*np.sin(np.pi*x_i)*np.sin(np.pi*y_j)\n",
    "    return z\n",
    "\n",
    "def eval_g(x_i, y_j, t_n):\n",
    "    if x_i == 0.0 or x_i == 1.0:\n",
    "        z = -10*np.pi*np.exp(-t_n)*np.sin(np.pi*y_j)\n",
    "    else:\n",
    "        z = -10*np.pi*np.exp(-t_n)*np.sin(np.pi*x_i)\n",
    "    return z"
   ]
  },
  {
   "cell_type": "markdown",
   "metadata": {},
   "source": [
    "Step 2. Create the user-defined function `get_T_new`"
   ]
  },
  {
   "cell_type": "code",
   "execution_count": null,
   "metadata": {
    "collapsed": false
   },
   "outputs": [],
   "source": [
    "def get_T_new( i, j, T_old, f_val, g_val, M_x, M_y, N, alpha_x = 1/(2*np.pi**2), alpha_y = 1/(2*np.pi**2)):\n",
    "    Delta_x = 1./M_x\n",
    "    Delta_y = 1./M_y\n",
    "    Delta_t = np.log(10)/N\n",
    "    if ( 0 < i ) & ( i < M_x ) & ( 0 < j ) & ( j < M_y ):\n",
    "        \n",
    "        T_new = T_old[j,i] + Delta_t * (alpha_x / Delta_x**2 * (T_old[j,i+1]-2*T_old[j,i]+T_old[j,i-1]) + \\\n",
    "            alpha_y / Delta_y**2 * (T_old[j+1,i]-2*T_old[j,i]+T_old[j-1,i]) + f_val)\n",
    "        \n",
    "    elif ( i == 0 ) & ( 0 < j ) & ( j < M_y ): \n",
    "        \n",
    "        T_new = T_old[j,i] + Delta_t * (alpha_x / Delta_x**2 * (T_old[j,i+1]-2*T_old[j,i]+(T_old[j,i+1] + 2*Delta_x*g_val)) + \\\n",
    "            alpha_y / Delta_y**2 * (T_old[j+1,i]-2*T_old[j,i]+T_old[j-1,i]))\n",
    "        \n",
    "    elif (i == M_x ) & ( 0 < j ) & ( j < M_y ):\n",
    "        \n",
    "        T_new = T_old[j,i] + Delta_t * (alpha_x / Delta_x**2 * ((T_old[j,i-1]+2*Delta_x*g_val)-2*T_old[j,i]+T_old[j,i-1]) + \\\n",
    "            alpha_y / Delta_y**2 * (T_old[j+1,i]-2*T_old[j,i]+T_old[j-1,i]))\n",
    "        \n",
    "    elif ( 0 < i ) & ( i < M_x ) & ( j == 0 ):\n",
    "        \n",
    "        T_new = T_old[j,i] + Delta_t * (alpha_x / Delta_x**2 * (T_old[j,i+1]-2*T_old[j,i]+T_old[j,i-1]) + \\\n",
    "            alpha_y / Delta_y**2 * (T_old[j+1,i]-2*T_old[j,i]+(T_old[j+1,i]+2*Delta_y*g_val)))\n",
    "        \n",
    "    elif ( 0 < i ) & ( i < M_x ) & ( j== M_y ):\n",
    "        \n",
    "        T_new = T_old[j,i] + Delta_t * (alpha_x / Delta_x**2 * (T_old[j,i+1]-2*T_old[j,i]+T_old[j,i-1]) + \\\n",
    "            alpha_y / Delta_y**2 * ((T_old[j-1,i]+2*Delta_y*g_val)-2*T_old[j,i]+T_old[j-1,i]))\n",
    "        \n",
    "    elif ( i == 0 ) & ( j == 0 ):\n",
    "        \n",
    "        T_new = T_old[j,i] + Delta_t * (alpha_x / Delta_x**2 * (T_old[j,i+1]-2*T_old[j,i]+(T_old[j,i+1] + 2*Delta_x*g_val)) + \\\n",
    "            alpha_y / Delta_y**2 * (T_old[j+1,i]-2*T_old[j,i]+(T_old[j+1,i]+2*Delta_y*g_val)))\n",
    "        \n",
    "    elif ( i == 0 ) & ( j == M_y ):\n",
    "        \n",
    "        T_new = T_old[j,i] + Delta_t * (alpha_x / Delta_x**2 * (T_old[j,i+1]-2*T_old[j,i]+(T_old[j,i+1] + 2*Delta_x*g_val)) + \\\n",
    "            alpha_y / Delta_y**2 * ((T_old[j-1,i]+2*Delta_y*g_val)-2*T_old[j,i]+T_old[j-1,i]))\n",
    "        \n",
    "    elif ( i == M_x ) & ( j == 0 ):\n",
    "        \n",
    "        T_new = T_old[j,i] + Delta_t * (alpha_x / Delta_x**2 * ((T_old[j,i-1]+2*Delta_x*g_val)-2*T_old[j,i]+T_old[j,i-1]) + \\\n",
    "            alpha_y / Delta_y**2 * (T_old[j+1,i]-2*T_old[j,i]+(T_old[j+1,i]+2*Delta_y*g_val)))\n",
    "        \n",
    "    else:\n",
    "        \n",
    "        T_new = T_old[j,i] + Delta_t * (alpha_x / Delta_x**2 * ((T_old[j,i-1]+2*Delta_x*g_val)-2*T_old[j,i]+T_old[j,i-1]) + \\\n",
    "            alpha_y / Delta_y**2 * ((T_old[j-1,i]+2*Delta_y*g_val)-2*T_old[j,i]+T_old[j-1,i]))\n",
    "        \n",
    "    return T_new"
   ]
  },
  {
   "cell_type": "markdown",
   "metadata": {},
   "source": [
    "Step 3: Create the grid and initialize the $T_{i,j}^0$ array."
   ]
  },
  {
   "cell_type": "code",
   "execution_count": null,
   "metadata": {
    "collapsed": false
   },
   "outputs": [],
   "source": [
    "M_x = 5\n",
    "M_y = 5\n",
    "N = int(np.log(10)*M_x**2)\n",
    "\n",
    "x = np.linspace(0,1,M_x+1)\n",
    "y = np.linspace(0,1,M_y+1)\n",
    "t = np.linspace(0,np.log(10),N+1)\n",
    "x, y, t = np.meshgrid(x,y,t,indexing=\"xy\")\n",
    "\n",
    "T = 0*x #initialize T array\n",
    "for i in range(0,M_x+1):\n",
    "    for j in range(0,M_y+1):\n",
    "        T[j,i,0] = eval_h(x[j,i,0],y[j,i,0])\n",
    "\n",
    "fig = plt.figure(1, figsize=(6,6))\n",
    "\n",
    "ax1 = fig.add_subplot(1, 1, 1, projection='3d')\n",
    "ax1.plot_wireframe(x[:,:,0], y[:,:,0], T[:,:,0]) #we then plot A over this grid as a scatter plot\n",
    "ax1.set_xlabel('x')\n",
    "ax1.set_ylabel('y')\n",
    "ax1.set_zlabel('T')\n",
    "ax1.set_zlim([0,10])\n",
    "ax1.set_title('Time $t=0$', fontsize=18)"
   ]
  },
  {
   "cell_type": "markdown",
   "metadata": {},
   "source": [
    "Step 4: Loop through the space-time points to evaluate $T_{i,j}^n$ and plot at $t_1$, $t_{N/2}$ and $t_{-1}$"
   ]
  },
  {
   "cell_type": "code",
   "execution_count": null,
   "metadata": {
    "collapsed": false
   },
   "outputs": [],
   "source": [
    "for n in range(0,N):\n",
    "    for i in range(0,M_x+1):\n",
    "        for j in range(0,M_y+1):\n",
    "            g_val = eval_g(x[j,i,n],y[j,i,n],t[j,i,n])\n",
    "            f_val = eval_f(x[j,i,n],y[j,i,n],t[j,i,n])\n",
    "            T[j,i,n+1] = get_T_new(i, j, T[:,:,n], f_val, g_val, M_x, M_y, N)\n",
    "\n",
    "T_exact = 10*np.exp(-t)*np.sin(np.pi*x)*np.sin(np.pi*y)\n",
    "\n",
    "fig = plt.figure(1, figsize=(18,12))\n",
    "\n",
    "ax1 = fig.add_subplot(2, 3, 1, projection='3d')\n",
    "ax1.plot_wireframe(x[:,:,0], y[:,:,0], T[:,:,1]) #we then plot A over this grid as a scatter plot\n",
    "ax1.set_xlabel('x')\n",
    "ax1.set_ylabel('y')\n",
    "ax1.set_zlabel('T')\n",
    "ax1.set_zticks([0,2,4,6,8,10])\n",
    "ax1.set_zlim([0,10])\n",
    "ax1.set_title('Approx. Soln at Time $t_1$', fontsize=18)\n",
    "\n",
    "ax2 = fig.add_subplot(2, 3, 2, projection='3d')\n",
    "ax2.plot_wireframe(x[:,:,0], y[:,:,0], T[:,:,int(N/2)]) #we then plot A over this grid as a wireframe\n",
    "ax2.set_xlabel('x')\n",
    "ax2.set_ylabel('y')\n",
    "ax2.set_zlabel('T')\n",
    "ax2.set_zticks([0,2,4,6,8,10])\n",
    "ax2.set_zlim([0,10])\n",
    "ax2.set_title('Approx. Soln at Time $t_{N/2}$', fontsize=18)\n",
    "\n",
    "ax3 = fig.add_subplot(2, 3, 3, projection='3d')\n",
    "ax3.plot_wireframe(x[:,:,0], y[:,:,0], T[:,:,-1]) #we then plot A over this grid as a surface\n",
    "ax3.set_xlabel('x')\n",
    "ax3.set_ylabel('y')\n",
    "ax3.set_zlabel('T')\n",
    "ax3.set_zticks([0,2,4,6,8,10])\n",
    "ax3.set_zlim([0,10])\n",
    "ax3.set_title('Approx. Soln at Time $t=t_f$', fontsize=18)\n",
    "\n",
    "ax4 = fig.add_subplot(2, 3, 4, projection='3d')\n",
    "ax4.plot_wireframe(x[:,:,0], y[:,:,0], T_exact[:,:,1]-T[:,:,1]) #we then plot A over this grid as a scatter plot\n",
    "ax4.set_xlabel('x')\n",
    "ax4.set_ylabel('y')\n",
    "ax4.set_title('Error at Time $t_1$', fontsize=18)\n",
    "\n",
    "ax5 = fig.add_subplot(2, 3, 5, projection='3d')\n",
    "ax5.plot_wireframe(x[:,:,0], y[:,:,0], T_exact[:,:,int(N/2)]-T[:,:,int(N/2)]) #we then plot A over this grid as a wireframe\n",
    "ax5.set_xlabel('x')\n",
    "ax5.set_ylabel('y')\n",
    "ax5.set_title('Error at Time $t_{N/2}$', fontsize=18)\n",
    "\n",
    "ax6 = fig.add_subplot(2, 3, 6, projection='3d')\n",
    "ax6.plot_wireframe(x[:,:,0], y[:,:,0], T_exact[:,:,-1]-T[:,:,-1]) #we then plot A over this grid as a surface\n",
    "ax6.set_xlabel('x')\n",
    "ax6.set_ylabel('y')\n",
    "ax6.set_title('Error at Time $t=t_f$', fontsize=18)\n",
    "\n",
    "fig.tight_layout()\n",
    "\n",
    "plt.show()"
   ]
  },
  {
   "cell_type": "markdown",
   "metadata": {},
   "source": [
    "Step 5: Compute and plot the maximum spatial error as a function of time using `np.max` to get the maximum spatial error."
   ]
  },
  {
   "cell_type": "code",
   "execution_count": null,
   "metadata": {
    "collapsed": false
   },
   "outputs": [],
   "source": [
    "max_spatial_error = np.zeros(N+1)\n",
    "for n in range(0,N+1):\n",
    "    max_spatial_error[n] = np.max(np.fabs(T_exact[:,:,n]-T[:,:,n]))\n",
    "\n",
    "plt.title('Maximum Abs. Spatial Error vs. Time', fontsize=18)\n",
    "plt.plot(t[0,0,:],max_spatial_error)"
   ]
  },
  {
   "cell_type": "markdown",
   "metadata": {},
   "source": [
    "Step 6 [Optional]: Combine parts of Steps 3 and 4 below inside of a while-loop that increases the number of grid points until either an error tolerance or a maximum number of grid points is reached. "
   ]
  },
  {
   "cell_type": "code",
   "execution_count": null,
   "metadata": {
    "collapsed": true
   },
   "outputs": [],
   "source": []
  },
  {
   "cell_type": "markdown",
   "metadata": {},
   "source": [
    "Use the code block below for testing things."
   ]
  },
  {
   "cell_type": "code",
   "execution_count": null,
   "metadata": {
    "collapsed": true
   },
   "outputs": [],
   "source": []
  }
 ],
 "metadata": {
  "anaconda-cloud": {},
  "kernelspec": {
   "display_name": "Python 2",
   "language": "python",
   "name": "python2"
  },
  "language_info": {
   "codemirror_mode": {
    "name": "ipython",
    "version": 2
   },
   "file_extension": ".py",
   "mimetype": "text/x-python",
   "name": "python",
   "nbconvert_exporter": "python",
   "pygments_lexer": "ipython2",
   "version": "2.7.11"
  }
 },
 "nbformat": 4,
 "nbformat_minor": 0
}
