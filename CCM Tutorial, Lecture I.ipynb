{
 "cells": [
  {
   "cell_type": "markdown",
   "metadata": {},
   "source": [
    "# Python Tutorial I: Python Basics\n",
    "\n",
    "We focus on presenting the basics of Python for scientific computing. It is intended only to help break down the barriers of entry into using Python and some of the basic tools commonly used in scientific computing. \n",
    "\n",
    "For more thorough tutorials over some of the topics we are touching upon in these lectures, we recommend bookmarking https://docs.python.org/2/tutorial/index.html for more details on Python basics (e.g., data structures, conditionals, and loops) and http://scipy.org/ for more details on useful libraries that unlock the power of Python for scientific computing.  \n",
    "\n",
    "## Learning Objectives\n",
    "- Assign values to variables and perform basic *arithmetic* operations.\n",
    "- Understand what a library is, and what libraries are used for.\n",
    "- Load a Python library and use its functions.\n",
    "- Perform operations on arrays of data.\n",
    "- Display simple graphs via *matplotlib*\n",
    "\n",
    "\n",
    "Along the way, we will use some simple ***built-in functions within Python.*** In particular, we will make use of the functions `print`, `type`, and `range` early on in this tutorial. Take a moment and review some of the documentation on these available at https://docs.python.org/2/library/functions.html."
   ]
  },
  {
   "cell_type": "markdown",
   "metadata": {},
   "source": [
    "## Introduction to variables"
   ]
  },
  {
   "cell_type": "markdown",
   "metadata": {
    "collapsed": true
   },
   "source": [
    "### Integers:\n",
    "\n",
    "***Key Points:***\n",
    "\n",
    "- Integers are whole numbers that are specified without decimals.\n",
    "- Arithmetic involving **only** integers will produce the result as an **integer**.\n",
    "    * This is called ***casting*** and we say that an operation/function \"will cast the result as...\" to describe the type of output produced by the operation/function. More details are given below."
   ]
  },
  {
   "cell_type": "code",
   "execution_count": 4,
   "metadata": {
    "collapsed": false
   },
   "outputs": [
    {
     "name": "stdout",
     "output_type": "stream",
     "text": [
      "(<type 'int'>, <type 'int'>)\n",
      "<type 'int'>\n"
     ]
    }
   ],
   "source": [
    "one = 1\n",
    "two = 2\n",
    "print(type(one), type(two))\n",
    "\n",
    "print(type(one/two))"
   ]
  },
  {
   "cell_type": "code",
   "execution_count": 8,
   "metadata": {
    "collapsed": false
   },
   "outputs": [
    {
     "name": "stdout",
     "output_type": "stream",
     "text": [
      "What is integer one divided by integer two?  0\n",
      "What is integer two divided by integer three? 0\n",
      "What is negative one divided by two? -1\n",
      "It appears that integer division rounds down.\n"
     ]
    }
   ],
   "source": [
    "print 'What is integer one divided by integer two? ', one/two\n",
    "\n",
    "three = 3\n",
    "\n",
    "print 'What is integer two divided by integer three?', two/three\n",
    "\n",
    "neg_one = -1\n",
    "\n",
    "print 'What is negative one divided by two?', neg_one/two\n",
    "\n",
    "print 'It appears that integer division rounds down.'"
   ]
  },
  {
   "cell_type": "markdown",
   "metadata": {
    "collapsed": false
   },
   "source": [
    "### Floats and Casting:\n",
    "\n",
    "***Key Points:***\n",
    "\n",
    "- Floats allow for arithmetic results to behave like we generally expect.\n",
    "- We can specify how we want an integer or float to be treated to allow for greater control in the code. This is also referred to as **casting** whenever we specify that a variable should be treated as a different type from what it is in a particular context.\n",
    "- An arithmetic operation will **cast** the result as the type of the ***most general variable used in the operation***, so whether or not we worry about casting depends upon what result we desire from the operation."
   ]
  },
  {
   "cell_type": "code",
   "execution_count": 9,
   "metadata": {
    "collapsed": false
   },
   "outputs": [
    {
     "name": "stdout",
     "output_type": "stream",
     "text": [
      "(<type 'int'>, <type 'float'>)\n"
     ]
    }
   ],
   "source": [
    "one_int = 1\n",
    "one_float = 1. #no need to do 1.0\n",
    "print(type(one_int), type(one_float))"
   ]
  },
  {
   "cell_type": "code",
   "execution_count": 10,
   "metadata": {
    "collapsed": false
   },
   "outputs": [
    {
     "name": "stdout",
     "output_type": "stream",
     "text": [
      "Is two a float?  2.0 <type 'float'>\n"
     ]
    }
   ],
   "source": [
    "two = one_int + one_float\n",
    "print 'Is two a float? ', two, type(two)"
   ]
  },
  {
   "cell_type": "code",
   "execution_count": 12,
   "metadata": {
    "collapsed": false
   },
   "outputs": [
    {
     "name": "stdout",
     "output_type": "stream",
     "text": [
      "What is two now?  2 <type 'int'>\n",
      "Did one_flat change type? <type 'float'>\n"
     ]
    }
   ],
   "source": [
    "two = one_int + int(one_float)\n",
    "print 'What is two now? ', two, type(two)\n",
    "\n",
    "print 'Did one_flat change type?', type(one_float)"
   ]
  },
  {
   "cell_type": "code",
   "execution_count": 16,
   "metadata": {
    "collapsed": false
   },
   "outputs": [
    {
     "name": "stdout",
     "output_type": "stream",
     "text": [
      "-3.7 <type 'float'>\n",
      "-3\n",
      "1.0\n"
     ]
    }
   ],
   "source": [
    "x = -3.7\n",
    "print x, type(x)\n",
    "\n",
    "print int(x)\n",
    "\n",
    "print float(one_int)"
   ]
  },
  {
   "cell_type": "code",
   "execution_count": 22,
   "metadata": {
    "collapsed": false
   },
   "outputs": [
    {
     "name": "stdout",
     "output_type": "stream",
     "text": [
      "0\n",
      "\n",
      "\n",
      "0.5\n",
      "0.5\n",
      "0.5 2\n"
     ]
    }
   ],
   "source": [
    "print one_int / 2\n",
    "print '\\n' #Prints a new line to make reading output easier\n",
    "print one_int / 2.\n",
    "print float(one_int) / 2\n",
    "print one_float / 2,  \\\n",
    "    2"
   ]
  },
  {
   "cell_type": "markdown",
   "metadata": {},
   "source": [
    "***Casting*** only occurs at variable assignment; the entire line of code is ***not*** converted to floating point arithmetic."
   ]
  },
  {
   "cell_type": "code",
   "execution_count": 27,
   "metadata": {
    "collapsed": false
   },
   "outputs": [
    {
     "name": "stdout",
     "output_type": "stream",
     "text": [
      "0.0\n",
      "0.0\n",
      "1.0\n",
      "Operations work from left to right\n"
     ]
    }
   ],
   "source": [
    "two_float=2.0  \n",
    "print two_float*(one_int / 2)  # This will not be equal to one_float!!\n",
    "\n",
    "print one_int / 2 * two_float\n",
    "\n",
    "print two_float * one_int / 2\n",
    "\n",
    "print 'Operations work from left to right'"
   ]
  },
  {
   "cell_type": "markdown",
   "metadata": {},
   "source": [
    "How do we raise a number to a power?"
   ]
  },
  {
   "cell_type": "code",
   "execution_count": 28,
   "metadata": {
    "collapsed": false
   },
   "outputs": [
    {
     "name": "stdout",
     "output_type": "stream",
     "text": [
      "0.1 cubed = 0.001\n"
     ]
    }
   ],
   "source": [
    "ptone = 0.1\n",
    "print '0.1 cubed =', ptone**3"
   ]
  },
  {
   "cell_type": "markdown",
   "metadata": {},
   "source": [
    "### Complex valued variables\n",
    "Python uses the electrical engineering $j$ convention."
   ]
  },
  {
   "cell_type": "code",
   "execution_count": 34,
   "metadata": {
    "collapsed": false
   },
   "outputs": [
    {
     "name": "stdout",
     "output_type": "stream",
     "text": [
      "(3-4j)  has length 5.0\n",
      "3.68439876\n"
     ]
    }
   ],
   "source": [
    "j = 3.68439876\n",
    "complex = 3.0-4.0j\n",
    "print complex, ' has length', abs(complex)\n",
    "print j"
   ]
  },
  {
   "cell_type": "markdown",
   "metadata": {},
   "source": [
    "### Strings:\n",
    "- Many binary operations do not apply to strings, but one can do + to concatenate two strings into one. \n",
    "***Concatenation is particularly useful when creating filenames for saving/loading data in loops.*** We will examine that in a future lesson.\n",
    "- We can also create multiples of the text."
   ]
  },
  {
   "cell_type": "code",
   "execution_count": 40,
   "metadata": {
    "collapsed": false
   },
   "outputs": [
    {
     "name": "stdout",
     "output_type": "stream",
     "text": [
      "Hello, World : \n",
      "\n",
      "\n",
      "Hello, World : Hello, World : Hello, World : \n"
     ]
    }
   ],
   "source": [
    "text = 'Hello'\n",
    "text += ', World : '\n",
    "print text\n",
    "text *= 3\n",
    "print '\\n'\n",
    "print text"
   ]
  },
  {
   "cell_type": "markdown",
   "metadata": {},
   "source": [
    "### Python Lists\n",
    "Lists are ***ordered arrays*** of almost any type of variable or mixed-types of variables you can think of using in Python. You can even make a ***list of lists***. You use lists when the order matters in the code, e.g., when you plan on looping through the elements of the list in some ordered way. Other popular ways to handle data structures include dictionaries and sets (e.g., see https://docs.python.org/2/tutorial/datastructures.html)."
   ]
  },
  {
   "cell_type": "code",
   "execution_count": 43,
   "metadata": {
    "collapsed": false
   },
   "outputs": [
    {
     "name": "stdout",
     "output_type": "stream",
     "text": [
      "float_list =  [1.0, 2.0, 3.0]\n",
      "\n",
      "\n",
      "float_list*2 =  [1.0, 2.0, 3.0, 1.0, 2.0, 3.0]\n",
      "\n",
      "\n",
      "float_list[0]*2 =  2.0\n",
      "\n",
      "\n",
      "int_list =  [1, 3, 5, 7, 9, 11, 13, 15, 17, 19]\n",
      "\n",
      "\n",
      "(type(int_list), type(float_list)) =  (<type 'list'>, <type 'list'>)\n",
      "\n",
      "\n",
      "mixed_list =  [[1.0, 2.0, 3.0], [1, 3, 5, 7, 9, 11, 13, 15, 17, 19]]\n",
      "\n",
      "\n",
      "mixed_list[0] =  [1.0, 2.0, 3.0]\n",
      "\n",
      "\n",
      "conc_list =  [1.0, 2.0, 3.0, 1, 3, 5, 7, 9, 11, 13, 15, 17, 19]\n",
      "\n",
      "\n",
      "mixed_list[0][1] =  2.0\n"
     ]
    }
   ],
   "source": [
    "float_list = [1.0, 2.0, 3.0]  #list of floats  \n",
    "print 'float_list = ', float_list\n",
    "print '\\n'\n",
    "print 'float_list*2 = ', float_list*2 #What do you think this should produce?\n",
    "print '\\n'\n",
    "print 'float_list[0]*2 = ', float_list[0]*2\n",
    "int_list = range(1,20,2) #build a list, start with 1, add 2 while less than 20\n",
    "print '\\n'\n",
    "print 'int_list = ', int_list\n",
    "print '\\n'\n",
    "print '(type(int_list), type(float_list)) = ', (type(int_list), type(float_list))\n",
    "mixed_list = [float_list,int_list]\n",
    "print '\\n'\n",
    "print 'mixed_list = ', mixed_list\n",
    "print '\\n'\n",
    "print 'mixed_list[0] = ', mixed_list[0]\n",
    "conc_list = float_list + int_list\n",
    "print '\\n'\n",
    "print 'conc_list = ', conc_list\n",
    "print '\\n'\n",
    "print 'mixed_list[0][1] = ', mixed_list[0][1]"
   ]
  },
  {
   "cell_type": "markdown",
   "metadata": {},
   "source": [
    "### A few quick notes about lists\n",
    "* While we can build a list of numbers, their group behavior does ***not*** match the individual behavior. For example, in the code above, `float_list*2` produces a list of floats that is not equal to the floats within the list multiplied by 2.\n",
    "* Later, we'll work with **numpy** *arrays* which are lists that behave more like vectors and matrices. Generally, if the objective is to do actual scientific computations on the lists that are like matrix or vector operations, then we want to use `numpy` arrays not lists."
   ]
  },
  {
   "cell_type": "markdown",
   "metadata": {},
   "source": [
    "### Who's Who in Memory (the first magic command)\n",
    "- IPython \"magic\" commands are conventionally prefaced by %. \n",
    "- The `%whos` command is particularly useful for debugging."
   ]
  },
  {
   "cell_type": "code",
   "execution_count": 44,
   "metadata": {
    "collapsed": false,
    "scrolled": true
   },
   "outputs": [
    {
     "name": "stdout",
     "output_type": "stream",
     "text": [
      "Variable     Type       Data/Info\n",
      "---------------------------------\n",
      "complex      complex    (3-4j)\n",
      "conc_list    list       n=13\n",
      "float_list   list       n=3\n",
      "int_list     list       n=10\n",
      "j            float      3.68439876\n",
      "mixed_list   list       n=2\n",
      "neg_one      int        -1\n",
      "one          int        1\n",
      "one_float    float      1.0\n",
      "one_int      int        1\n",
      "ptone        float      0.1\n",
      "text         str        Hello, World : Hello, World : Hello, World : \n",
      "three        int        3\n",
      "two          int        2\n",
      "two_float    float      2.0\n",
      "x            float      -3.7\n"
     ]
    }
   ],
   "source": [
    "%whos"
   ]
  },
  {
   "cell_type": "markdown",
   "metadata": {},
   "source": [
    "## Importing Packages (sometimes called Libraries), Subpackages, and Modules\n",
    "- A module is a single file of python code that is meant to be imported.\n",
    "\n",
    "- A package is a collection of Python modules under a common namespace (in computing, a namespace is a set of symbols that are used to organize objects of various kinds, so that these objects may be referred to by name). In practice one is created by placing multiple python modules in a directory with a special `__init__.py` module (file). \n",
    "\n",
    "- Unlike many scripting languages, Python follows the conventions of many compiled languages by accessing packages (libraries) via the **import** statement.  Three of the libraries you'll find yourself importing often are `numpy` (https://docs.scipy.org/doc/numpy/), `scipy` (https://docs.scipy.org/doc/scipy/reference/), and `matplotlib` (http://matplotlib.org/). There are several other libraries used commonly with Python when doing scientific computing, and the documentation at https://scipy.org/ is a particularly useful starting point.   "
   ]
  },
  {
   "cell_type": "code",
   "execution_count": 45,
   "metadata": {
    "collapsed": true
   },
   "outputs": [],
   "source": [
    "import numpy  #imports numpy as is"
   ]
  },
  {
   "cell_type": "markdown",
   "metadata": {},
   "source": [
    "To access a function or class in a library, the syntax is `libraryname.functioname(args)`.\n",
    "\n",
    "For example, to access the `sin` function within `numpy` and evaluate it at $\\pi$, we do the following,"
   ]
  },
  {
   "cell_type": "code",
   "execution_count": 46,
   "metadata": {
    "collapsed": false
   },
   "outputs": [
    {
     "name": "stdout",
     "output_type": "stream",
     "text": [
      "1.22464679915e-16\n"
     ]
    }
   ],
   "source": [
    "print numpy.sin(numpy.pi)  #numpy.pi is a library constant"
   ]
  },
  {
   "cell_type": "markdown",
   "metadata": {},
   "source": [
    "We can also import a library and assign it a convenient nickname. ***This is how we typically do things.***"
   ]
  },
  {
   "cell_type": "code",
   "execution_count": 49,
   "metadata": {
    "collapsed": false
   },
   "outputs": [
    {
     "name": "stdout",
     "output_type": "stream",
     "text": [
      "1.0\n"
     ]
    }
   ],
   "source": [
    "import numpy as np\n",
    "print np.log(np.e) #np.e is also a library constant"
   ]
  },
  {
   "cell_type": "markdown",
   "metadata": {},
   "source": [
    "Of course, you may just want to import a particular function or subpackage."
   ]
  },
  {
   "cell_type": "code",
   "execution_count": 50,
   "metadata": {
    "collapsed": false
   },
   "outputs": [
    {
     "name": "stdout",
     "output_type": "stream",
     "text": [
      "-0.327660240203\n"
     ]
    }
   ],
   "source": [
    "from math import log     #imports a specific subpackage or function\n",
    "from numpy import random #imports sublibrary \n",
    "\n",
    "normal=log(random.lognormal()) #generate one sample from lognormal dist. deriv. from N(0,1)\n",
    "print normal "
   ]
  },
  {
   "cell_type": "markdown",
   "metadata": {},
   "source": [
    "### Cautionary Note On Importing\n",
    "You can avoid typing the library name or nickname altogether by importing everything as `*`, e.g., typing \n",
    "\n",
    "    import numpy as * \n",
    "    \n",
    "loads every subpackage and function within the `numpy` library into the current namespace.\n",
    "\n",
    "This is ***discouraged*** because it\n",
    "- provides the opportunity for namespace collisions (e.g., if you had a variable name pi prior to the import of `numpy`);\n",
    "- may be inefficient (e.g., if the number of objects imported is big);\n",
    "- does not explicitly document the origin of the variable/method/class, which provides a type of auto-documentation in the program that makes it easier for others to know what you are doing (and for you to know what you are doing when you look at your code weeks, months, or even years later).\n"
   ]
  },
  {
   "cell_type": "markdown",
   "metadata": {},
   "source": [
    "## Numpy arrays (and why we use these more than lists)\n",
    "Numpy arrays are not just more efficient than lists, they are also more convenient. You get a lot of vector and matrix operations for free, which means we can often avoid unnecessary work that would be required if we were to just use lists. They are also more memory efficient. Lists are more flexible, but there is a heavy price that is paid for that flexibility in terms of memory and not being able to apply a lot of built-in functionality on the lists.\n",
    "\n",
    "\n",
    "We make heavy use of `numpy` arrays. Here are some examples of array constructions. "
   ]
  },
  {
   "cell_type": "code",
   "execution_count": 51,
   "metadata": {
    "collapsed": false
   },
   "outputs": [
    {
     "name": "stdout",
     "output_type": "stream",
     "text": [
      "[1 2 3 4]\n",
      "[[1 2]\n",
      " [3 4]]\n",
      "[[[1 2]\n",
      "  [3 4]]\n",
      "\n",
      " [[5 6]\n",
      "  [7 8]]]\n",
      "Dimension of multi-d array ten (2L, 2L, 2L)\n"
     ]
    }
   ],
   "source": [
    "vec=np.array([1,2,3,4])  #1D Array\n",
    "arr=np.array([[1,2],[3,4]]) #2D array\n",
    "ten=np.array([[[1,2],[3,4]],[[5,6],[7,8]]]) #3D array\n",
    "print vec\n",
    "print arr\n",
    "print ten\n",
    "#array attribute\n",
    "print 'Dimension of multi-d array ten', ten.shape"
   ]
  },
  {
   "cell_type": "markdown",
   "metadata": {},
   "source": [
    "The default *cast* from the numpy array constructor is the minimal data type to hold the elements of the input list."
   ]
  },
  {
   "cell_type": "code",
   "execution_count": 55,
   "metadata": {
    "collapsed": false
   },
   "outputs": [
    {
     "name": "stdout",
     "output_type": "stream",
     "text": [
      "[0 0 0 0]\n"
     ]
    }
   ],
   "source": [
    "vec2=np.array([2,3,4,5])\n",
    "print vec/vec2"
   ]
  },
  {
   "cell_type": "markdown",
   "metadata": {},
   "source": [
    "`numpy` arrays are re-cast as different types using the special `astype` function, which creates a copy of the specified array that are cast to a specified type\n",
    "\n",
    "You may also specify the data type during the array creation call"
   ]
  },
  {
   "cell_type": "code",
   "execution_count": 53,
   "metadata": {
    "collapsed": false
   },
   "outputs": [
    {
     "name": "stdout",
     "output_type": "stream",
     "text": [
      "copy of ten array as a float \n",
      "[[[ 1.  2.]\n",
      "  [ 3.  4.]]\n",
      "\n",
      " [[ 5.  6.]\n",
      "  [ 7.  8.]]]\n",
      "\n",
      "ten array itself is still an integer array \n",
      "[[[1 2]\n",
      "  [3 4]]\n",
      "\n",
      " [[5 6]\n",
      "  [7 8]]]\n",
      "\n",
      "copy of ten array as a str \n",
      "[[['1' '2']\n",
      "  ['3' '4']]\n",
      "\n",
      " [['5' '6']\n",
      "  ['7' '8']]]\n",
      "\n",
      "Now the elementwise division of the two arrays is floating point \n",
      "[ 0.5         0.66666667  0.75        0.8       ]\n"
     ]
    }
   ],
   "source": [
    "print 'copy of ten array as a float \\n', ten.astype(float)\n",
    "print \n",
    "print 'ten array itself is still an integer array \\n',ten\n",
    "print \n",
    "print 'copy of ten array as a str \\n', ten.astype(str)\n",
    "print\n",
    "vec2=np.array([2,3,4,5],dtype='float')\n",
    "print 'Now the elementwise division of the two arrays is floating point \\n',vec/vec2"
   ]
  },
  {
   "cell_type": "markdown",
   "metadata": {},
   "source": [
    "### Python indexing is 0 based\n",
    "***REMEMBER THIS!!!***\n",
    "There are also two common conventions for accessing components of arrays.\n",
    "\n",
    "The following diagram may prove useful for typical 2-D arrays.\n",
    "\n",
    "![title](imgs/sample_array_basics.png)"
   ]
  },
  {
   "cell_type": "code",
   "execution_count": 56,
   "metadata": {
    "collapsed": false
   },
   "outputs": [
    {
     "name": "stdout",
     "output_type": "stream",
     "text": [
      "(1,1) component of arr is given by arr[0,0] = 1\n",
      "(1,1) component of arr is also given by arr[0][0] = 1\n",
      "(1,2) component of arr is given by arr[0,1] = 2\n",
      "(2,1) component of arr is given by arr[1,0] = 3\n",
      "(2,2) component of arr is given by arr[1,1] = 4\n",
      "(1,1) component of ten is an array given by ten[0,0] = [1 2]\n",
      "(1,1,2) component of ten is given by ten[0,0,1] = 2\n",
      "(1,1,2) component of ten is also given by ten[0,0][1] = 2\n",
      "(1,1,2) component of ten is also given by ten[0][0][1] = 2\n",
      "(1,1,2) component of ten is also given by ten[0][0,1] = 2\n"
     ]
    }
   ],
   "source": [
    "#Recall that arr=np.array([[1,2],[3,4]])\n",
    "print '(1,1) component of arr is given by arr[0,0] =',  arr[0,0]\n",
    "print '(1,1) component of arr is also given by arr[0][0] =',arr[0][0]\n",
    "\n",
    "print '(1,2) component of arr is given by arr[0,1] =', arr[0,1]\n",
    "print '(2,1) component of arr is given by arr[1,0] =', arr[1,0]\n",
    "print '(2,2) component of arr is given by arr[1,1] =', arr[1,1]\n",
    "\n",
    "#Try uncommenting the next line to see an error\n",
    "#print arr[2,2] \n",
    "\n",
    "print '(1,1) component of ten is an array given by ten[0,0] =', ten[0,0]\n",
    "\n",
    "print '(1,1,2) component of ten is given by ten[0,0,1] =', ten[0,0,1]\n",
    "print '(1,1,2) component of ten is also given by ten[0,0][1] =', ten[0,0,1]\n",
    "print '(1,1,2) component of ten is also given by ten[0][0][1] =', ten[0,0,1]\n",
    "print '(1,1,2) component of ten is also given by ten[0][0,1] =', ten[0,0,1]"
   ]
  },
  {
   "cell_type": "code",
   "execution_count": 64,
   "metadata": {
    "collapsed": false
   },
   "outputs": [
    {
     "name": "stdout",
     "output_type": "stream",
     "text": [
      "first row of arr =  [1 2]\n",
      "first row of arr =  [1 2]\n",
      "first column of arr =  [1 3]\n"
     ]
    }
   ],
   "source": [
    "print 'first row of arr = ', arr[0,:]\n",
    "print 'first row of arr = ', arr[0]\n",
    "\n",
    "print 'first column of arr = ', arr[:,0]"
   ]
  },
  {
   "cell_type": "markdown",
   "metadata": {},
   "source": [
    "### Array Slicing\n",
    "The colon `:` operator is used to specify a range of values in a matrix.\n",
    "- The entry to the left of the `:` is included but the entry to the right of the `:` is not.\n",
    "- Think of `i:j` being interpreted as \"all entries starting at i up to, but ***not*** including, j\""
   ]
  },
  {
   "cell_type": "code",
   "execution_count": 68,
   "metadata": {
    "collapsed": false
   },
   "outputs": [
    {
     "name": "stdout",
     "output_type": "stream",
     "text": [
      "The full matrix A is given by \n",
      "[[ 1  2  3  4]\n",
      " [ 5  6  7  8]\n",
      " [ 9 10 11 12]]\n",
      "To display just the 2nd and 3rd columns of A,  recall that we begin indexing from 0, so we use A[:,1:3] \n",
      "[[ 2  3]\n",
      " [ 6  7]\n",
      " [10 11]]\n"
     ]
    }
   ],
   "source": [
    "A = np.reshape(range(1,13),(3,4)) # create a 3x4 array with the 1st 12 integers in it.\n",
    "print 'The full matrix A is given by \\n', A\n",
    "print 'To display just the 2nd and 3rd columns of A, ', \\\n",
    "    'recall that we begin indexing from 0, so we use A[:,1:3] \\n', \\\n",
    "    A[:,1:3]   #All rows, 2nd and 3rd (but not 4th) column"
   ]
  },
  {
   "cell_type": "markdown",
   "metadata": {},
   "source": [
    "# If you leave off a (later) index, it is implicity treated as if you had used a colon."
   ]
  },
  {
   "cell_type": "code",
   "execution_count": 69,
   "metadata": {
    "collapsed": false
   },
   "outputs": [
    {
     "name": "stdout",
     "output_type": "stream",
     "text": [
      "[[0 0 0 0]\n",
      " [0 0 0 0]]\n"
     ]
    }
   ],
   "source": [
    "print A[0:2]-A[0:2,:]"
   ]
  },
  {
   "cell_type": "markdown",
   "metadata": {
    "collapsed": false
   },
   "source": [
    "However, observe what gets returned when we slice out a column of the matrix $A$."
   ]
  },
  {
   "cell_type": "code",
   "execution_count": 71,
   "metadata": {
    "collapsed": false
   },
   "outputs": [
    {
     "name": "stdout",
     "output_type": "stream",
     "text": [
      "A[:,1] = [ 2  6 10]\n",
      "\n",
      "A[:,1].shape = (3L,)\n",
      "\n",
      "A[:,1:2] =\n",
      "[[ 2]\n",
      " [ 6]\n",
      " [10]]\n",
      "\n",
      "A[:,1:2].shape = (3L, 1L)\n",
      "[[ 0  4  8]\n",
      " [-4  0  4]\n",
      " [-8 -4  0]]\n"
     ]
    }
   ],
   "source": [
    "print 'A[:,1] =', A[:,1]\n",
    "print '\\nA[:,1].shape =', A[:,1].shape\n",
    "print '\\nA[:,1:2] =\\n', A[:,1:2]\n",
    "print '\\nA[:,1:2].shape =', A[:,1:2].shape\n",
    "\n",
    "print A[:,1] - A[:,1:2]"
   ]
  },
  {
   "cell_type": "markdown",
   "metadata": {},
   "source": [
    "The -n slice allows you to access entries from the last valid index.\n",
    "- Using a -1 in a slice will select the very last entry in the array\n",
    "    - This implies that if you want to index from the 3rd entry in an array up to, but not including, the last entry in the array, then you would use `2:-1` in the slice"
   ]
  },
  {
   "cell_type": "code",
   "execution_count": 73,
   "metadata": {
    "collapsed": false
   },
   "outputs": [
    {
     "name": "stdout",
     "output_type": "stream",
     "text": [
      "[ 9 10 11 12]\n",
      "[[ 3  4]\n",
      " [ 7  8]\n",
      " [11 12]]\n",
      "[[ 2  3  4]\n",
      " [ 6  7  8]\n",
      " [10 11 12]]\n",
      "[[ 2  3]\n",
      " [ 6  7]\n",
      " [10 11]]\n",
      "[[ 2  4]\n",
      " [ 6  8]\n",
      " [10 12]]\n"
     ]
    }
   ],
   "source": [
    "print A[-1,:]   #the last row\n",
    "print A[:,-2:] #the last two columns\n",
    "print A[:,1:] #the second column through the last\n",
    "print A[:,1:-1] #the second column up to, but not including, the \n",
    "\n",
    "print A[:,[1,3]]"
   ]
  },
  {
   "cell_type": "markdown",
   "metadata": {},
   "source": [
    "### Elementwise vs standard operations in `numpy`\n",
    "\n",
    "`numpy` has functions for both elementwise multiplication of arrays (of the same size) and standard matrix-matrix/vector multiplication (where inner dimensions agree).\n",
    "- Use the `np.multiply` function for elementwise multiplication\n",
    "- Use the `np.dot` function for standard matrix-matrix, or matrix-vector multiplication"
   ]
  },
  {
   "cell_type": "markdown",
   "metadata": {},
   "source": [
    "Array multiplication is **not** matrix multiplication.  It is an *elementwise* operation."
   ]
  },
  {
   "cell_type": "code",
   "execution_count": 76,
   "metadata": {
    "collapsed": false
   },
   "outputs": [
    {
     "name": "stdout",
     "output_type": "stream",
     "text": [
      "[[  1   4   9  16]\n",
      " [ 25  36  49  64]\n",
      " [ 81 100 121 144]]\n",
      "[[ 30  70 110]\n",
      " [ 70 174 278]\n",
      " [110 278 446]]\n"
     ]
    }
   ],
   "source": [
    "print A*A  #(not defined if matrix multiplication)\n",
    "\n",
    "print np.dot(A,A.transpose())"
   ]
  },
  {
   "cell_type": "code",
   "execution_count": 77,
   "metadata": {
    "collapsed": false
   },
   "outputs": [
    {
     "name": "stdout",
     "output_type": "stream",
     "text": [
      "[[ 0  0  1  2]\n",
      " [ 5  6  7  8]\n",
      " [16 16 17 18]]\n"
     ]
    }
   ],
   "source": [
    "print A*A/A[1,:]  #elementwise INTEGER division of A*A by the entries of the 2nd of A. "
   ]
  },
  {
   "cell_type": "code",
   "execution_count": 78,
   "metadata": {
    "collapsed": false
   },
   "outputs": [
    {
     "name": "stdout",
     "output_type": "stream",
     "text": [
      "[[  1   4   9  16]\n",
      " [ 25  36  49  64]\n",
      " [ 81 100 121 144]]\n",
      "[[ 30  70 110]\n",
      " [ 70 174 278]\n",
      " [110 278 446]]\n"
     ]
    }
   ],
   "source": [
    "print np.multiply(A,A)\n",
    "print np.dot(A,np.transpose(A))"
   ]
  },
  {
   "cell_type": "markdown",
   "metadata": {},
   "source": [
    "### More numpy functions and subpackages\n",
    "\n",
    "https://docs.scipy.org/doc/numpy/reference/ is a great reference. In particular, you should check out the available documentation on the `matlib`, `linalg`, and `random` subpackages. These are extremely useful subpackages that can do most of your everyday computations in undergraduate/beginning graduate mathematics.\n",
    "- The page on N-dimensional arrays (https://docs.scipy.org/doc/numpy/reference/arrays.ndarray.html) is also very useful. Arrays inherent many methods (i.e., functions) from the `numpy` namespace that allow for quicker access to certain functionality (and shorter, more readable code).\n",
    "    - Many methods can be applied in one line of code where the order of operation is specified by the order in which the methods appear from left to right."
   ]
  },
  {
   "cell_type": "code",
   "execution_count": 79,
   "metadata": {
    "collapsed": false
   },
   "outputs": [
    {
     "name": "stdout",
     "output_type": "stream",
     "text": [
      "6.5\n",
      "6.5\n",
      "[[ 1  5  9]\n",
      " [ 2  6 10]\n",
      " [ 3  7 11]\n",
      " [ 4  8 12]]\n",
      "[[ 1  5  9]\n",
      " [ 2  6 10]\n",
      " [ 3  7 11]\n",
      " [ 4  8 12]]\n",
      "12\n"
     ]
    }
   ],
   "source": [
    "print np.mean(A)\n",
    "print A.mean()\n",
    "print np.transpose(A)\n",
    "print A.transpose()\n",
    "print A.max()"
   ]
  },
  {
   "cell_type": "markdown",
   "metadata": {},
   "source": [
    "***We sometimes only want to apply a function across rows or columns.***\n",
    "It is common to arrange a set of samples as an array where each row defines a single sample, and the columns define the various quantitative entries associated with that sample (e.g., think of how a Jacobian matrix is ordered). We often then want to perform some sort of computation across the columns to determine some bulk characteristic for each sample.\n",
    "- If this is true, then remember that we index from 0 and the rows are the first index (axis=0) and the columns are the second index (axis=1) in the array when you specify which axis you want to perform computations *across*.\n",
    "\n",
    "![title](imgs/sample_array.png)"
   ]
  },
  {
   "cell_type": "code",
   "execution_count": 80,
   "metadata": {
    "collapsed": false
   },
   "outputs": [
    {
     "name": "stdout",
     "output_type": "stream",
     "text": [
      "[  2.5   6.5  10.5]\n",
      "[  2.5   6.5  10.5]\n",
      "[ 5.  6.  7.  8.]\n",
      "[ 5.  6.  7.  8.]\n"
     ]
    }
   ],
   "source": [
    "print np.mean(A, axis=1)\n",
    "print A.mean(axis=1)\n",
    "print A.mean(axis=0)\n",
    "print A.transpose().mean(axis=1)"
   ]
  },
  {
   "cell_type": "markdown",
   "metadata": {},
   "source": [
    "### Python help\n",
    "If you are coding without internet activity and want to look something up about a Python library or function, then use the help command. Note that this will also provide information about where to find the proper documentation online in most cases."
   ]
  },
  {
   "cell_type": "code",
   "execution_count": null,
   "metadata": {
    "collapsed": false
   },
   "outputs": [],
   "source": [
    "help(numpy)"
   ]
  },
  {
   "cell_type": "markdown",
   "metadata": {},
   "source": [
    "## Plotting and `matplotlib`\n",
    "The mathematician Richard Hamming once said, “The purpose of computing is insight, not numbers,” and the best way to develop insight is often to visualize data. Visualization deserves an entire lecture (of course) of its own, but we can explore a few features of Python’s `matplotlib` library here. While there is no “official” plotting library, this package is the de facto standard. First, we will import the `pyplot` module from `matplotlib`. "
   ]
  },
  {
   "cell_type": "markdown",
   "metadata": {},
   "source": [
    "Python's `matplotlib` library emulates many features of Matlab plotting and uses the same layout for how it creates plots as illustrated below.\n",
    "\n",
    "![title](imgs/matplotlib_layout.png)"
   ]
  },
  {
   "cell_type": "code",
   "execution_count": 81,
   "metadata": {
    "collapsed": false
   },
   "outputs": [],
   "source": [
    "#The next line enables the display of graphical output within Jupyter Notebooks and is NOT needed outside of Notebooks\n",
    "%matplotlib inline \n",
    "\n",
    "#This next line IS needed even outside of Jupyter Notebook\n",
    "import matplotlib.pyplot as plt "
   ]
  },
  {
   "cell_type": "markdown",
   "metadata": {},
   "source": [
    "The basic plot command plots xdata versus ydata.  The default behavior is to connect data pairs via a straight solid line.\n",
    "\n",
    "The `np.linspace(a,b,n)` generates $n$ points in the closed interval $[a,b]$, including the endpoints."
   ]
  },
  {
   "cell_type": "code",
   "execution_count": 82,
   "metadata": {
    "collapsed": false
   },
   "outputs": [
    {
     "data": {
      "text/plain": [
       "[<matplotlib.lines.Line2D at 0x6a21a20>]"
      ]
     },
     "execution_count": 82,
     "metadata": {},
     "output_type": "execute_result"
    },
    {
     "data": {
      "image/png": "[encoded data removed]",
      "text/plain": [
       "<matplotlib.figure.Figure at 0x6a21a58>"
      ]
     },
     "metadata": {},
     "output_type": "display_data"
    }
   ],
   "source": [
    "x = np.linspace(-np.pi,np.pi,1000)\n",
    "y = x*np.sin(1.0/x)\n",
    "plt.title('$f(x)=x\\sin(x^{-1})$', fontsize=18)\n",
    "plt.plot(x,y)"
   ]
  },
  {
   "cell_type": "markdown",
   "metadata": {},
   "source": [
    "Another handy way of generating a vector is using `numpy.arange(start,stop,increment)`\n",
    "This will fill up the half-open interval $[start,stop)$."
   ]
  },
  {
   "cell_type": "code",
   "execution_count": 83,
   "metadata": {
    "collapsed": false
   },
   "outputs": [
    {
     "data": {
      "text/plain": [
       "[<matplotlib.lines.Line2D at 0x7e1b048>]"
      ]
     },
     "execution_count": 83,
     "metadata": {},
     "output_type": "execute_result"
    },
    {
     "data": {
      "image/png": "[encoded data removed]",
      "text/plain": [
       "<matplotlib.figure.Figure at 0x6b4b2b0>"
      ]
     },
     "metadata": {},
     "output_type": "display_data"
    }
   ],
   "source": [
    "x_1 = np.arange(-np.pi,np.pi,1E-2)\n",
    "y_1 = x_1*np.sin(x_1)\n",
    "plt.plot(x_1,y_1,linestyle='--',c='r')  #dashed lines, red coloring"
   ]
  },
  {
   "cell_type": "markdown",
   "metadata": {},
   "source": [
    "Let's do a *scatter* plot of a noisy linear function"
   ]
  },
  {
   "cell_type": "code",
   "execution_count": 88,
   "metadata": {
    "collapsed": false
   },
   "outputs": [
    {
     "data": {
      "image/png": "[encoded data removed]",
      "text/plain": [
       "<matplotlib.figure.Figure at 0x873c2b0>"
      ]
     },
     "metadata": {},
     "output_type": "display_data"
    }
   ],
   "source": [
    "xcor = np.random.rand(100)\n",
    "ycor = 5*xcor + np.random.rand(100)\n",
    "f_plot = plt.scatter(xcor,ycor)\n",
    "plt.show()"
   ]
  },
  {
   "cell_type": "markdown",
   "metadata": {},
   "source": [
    "### Subplots and 3d plots using `mpl_toolkits`\n",
    "Subplots are one way to arrange multiple plots into one axes. The subplot function takes the following arguments: ** `add_subplot(nrows, ncols, plot_number)`**\n",
    "\n",
    "You may find https://docs.scipy.org/doc/numpy/reference/generated/numpy.meshgrid.html to be a useful reference when determining how you want to index an array in 2- or 3-D. "
   ]
  },
  {
   "cell_type": "code",
   "execution_count": 91,
   "metadata": {
    "collapsed": false
   },
   "outputs": [
    {
     "data": {
      "image/png": "[encoded data removed]",
      "text/plain": [
       "<matplotlib.figure.Figure at 0x946def0>"
      ]
     },
     "metadata": {},
     "output_type": "display_data"
    },
    {
     "name": "stdout",
     "output_type": "stream",
     "text": [
      "[[ 0.          0.33333333  0.66666667  1.        ]\n",
      " [ 0.          0.33333333  0.66666667  1.        ]\n",
      " [ 0.          0.33333333  0.66666667  1.        ]]\n",
      "[[ 0.   0.   0.   0. ]\n",
      " [ 0.5  0.5  0.5  0.5]\n",
      " [ 1.   1.   1.   1. ]]\n",
      "[[ 1  2  3  4]\n",
      " [ 5  6  7  8]\n",
      " [ 9 10 11 12]]\n"
     ]
    },
    {
     "data": {
      "image/png": "[encoded data removed]",
      "text/plain": [
       "<matplotlib.figure.Figure at 0x92f4d68>"
      ]
     },
     "metadata": {},
     "output_type": "display_data"
    }
   ],
   "source": [
    "fig = plt.figure(1, figsize=(10, 6))\n",
    "\n",
    "axes1 = fig.add_subplot(1, 3, 1) #the first plot in a 1x3 array\n",
    "axes2 = fig.add_subplot(1, 3, 2) #the second plot in a 1x3 array\n",
    "axes3 = fig.add_subplot(1, 3, 3) #the third plot in a 1x3 array\n",
    "\n",
    "axes1.set_ylabel('average')\n",
    "axes1.scatter(np.arange(A.shape[1]),np.mean(A, axis=0))\n",
    "axes1.set_xticks(np.arange(A.shape[1]))\n",
    "axes1.set_aspect(1)\n",
    "\n",
    "axes2.set_ylabel('max')\n",
    "axes2.plot(np.max(A, axis=0))\n",
    "axes2.set_xticks(np.arange(A.shape[1]))\n",
    "axes2.set_aspect(2)\n",
    "\n",
    "axes3.set_ylabel('min')\n",
    "axes3.plot(np.min(A, axis=0))\n",
    "axes3.set_aspect(3)\n",
    "\n",
    "fig.tight_layout()\n",
    "\n",
    "plt.show()\n",
    "\n",
    "#We will pretend that A is a function over the unit square in the xy-plane that we want to plot\n",
    "x = np.linspace(0,1,4) #we create a regular uniform grid in the x-direction\n",
    "y = np.linspace(0,1,3) #we create a regular uniform grid in the y-direction\n",
    "x, y = np.meshgrid(x,y,indexing='xy') #we then create a meshgrid in the xy-plane\n",
    "print x\n",
    "print y\n",
    "print A\n",
    "\n",
    "from mpl_toolkits.mplot3d import axes3d #This enables 3d plotting\n",
    "\n",
    "fig = plt.figure(2, figsize=(10, 6))\n",
    "\n",
    "ax1 = fig.add_subplot(1, 3, 1, projection='3d')\n",
    "ax1.scatter(x, y, A) #we then plot A over this grid as a scatter plot\n",
    "ax1.set_xlabel('x')\n",
    "ax1.set_ylabel('y')\n",
    "ax1.set_zlabel('A')\n",
    "\n",
    "ax2 = fig.add_subplot(1, 3, 2, projection='3d')\n",
    "ax2.plot_wireframe(x, y, A) #we then plot A over this grid as a wireframe\n",
    "ax2.set_xlabel('x')\n",
    "ax2.set_ylabel('y')\n",
    "ax2.set_zlabel('A')\n",
    "\n",
    "from matplotlib import cm #Allow for more colormaps\n",
    "ax3 = fig.add_subplot(1, 3, 3, projection='3d')\n",
    "ax3.plot_surface(x, y, A, rstride=1, cstride=1, cmap=cm.coolwarm) #we then plot A over this grid as a surface\n",
    "ax3.set_xlabel('x')\n",
    "ax3.set_ylabel('y')\n",
    "ax3.set_zlabel('A')\n",
    "\n",
    "fig.tight_layout()\n",
    "\n",
    "plt.show()"
   ]
  },
  {
   "cell_type": "markdown",
   "metadata": {},
   "source": [
    "# Exercise: Discretize and plot a solution to a PDE \n",
    "\n",
    "A simplified form of the equation for heat condution in 2D is:\n",
    "\n",
    "\\begin{equation}\n",
    "\\Large \\left\\{\\begin{array}{l}\\frac{\\partial T}{\\partial t} - \\alpha_x\\frac{\\partial^2 T}{\\partial x^2}  - \\alpha_y\\frac{\\partial^2 T}{\\partial y^2} = f(x,y,t), &(x,y,t)\\in\\Omega\\times(0,t_f] \\\\\n",
    " \\nabla T(x,y,t) \\cdot \\mathbf{n} = g(x,y,t), & (x,y,t)\\in\\partial\\Omega\\times(0,t_f] \\\\\n",
    " T(x,y,0) = h(x,y), & (x,y)\\in\\Omega\n",
    " \\end{array}\\right.\n",
    "\\end{equation}\n",
    "\n",
    "where $T$ is the temperature, $x$ and $y$ are the horizontal and vertical coordinates in the 2D spatial domain $\\Omega$, $t$ is time and $[0,t_f]$ is the time domain, $f$ is an external heat source, and $g$ and $h$ are used to describe boundary and initial conditions, respectively. The parameters $\\alpha_x$ and $\\alpha_y$ denote diffusion parameters in the $x$- and $y$-directions, respectively.\n",
    "\n",
    "If $\\Omega = (0,1)\\times (0,1)$ with boundary $\\partial\\Omega$ so that $\\overline{\\Omega} = \\Omega\\cup\\partial\\Omega = [0,1]\\times[0,1]$, $\\alpha_x=\\alpha_y = 1/2\\pi^2$, $h(x,y) = 10\\sin(\\pi x)\\sin(\\pi y)$, $f(x,y,t) \\equiv 0$ for all $(x,y,t)\\in\\Omega\\times(0,t_f]$, and $g(x,y,t)=-10\\pi \\exp(-t)\\sin(\\pi y)$ if $x=0$ or $x=1$ and $g(x,y,t)=-10\\pi\\exp(-t)\\sin(\\pi x)$ if $y=0$ or $y=1$, then  \n",
    "\n",
    "$$\n",
    "  \\large  T(x,y,t) = 10 e^{-t} \\sin(\\pi x)\\sin(\\pi y)\n",
    "$$\n",
    "\n",
    "Suppose $t_f = \\ln(10)$. \n",
    "\n",
    "### Do the following:\n",
    "* Discretize $\\overline{\\Omega}\\times[0,t_f]$ into a $21\\times 21\\times 10$ uniform grid and compute $T(x,y,t)$ on this grid, and store the result in a 3D array. \n",
    "* Make three vertically stacked subplots showing the solution at the initial time, an approximation of the solution at $t=t_f/2$ obtained by averaging the two time steps closest to $t_f/2$, and the solution at the final time. Also, add a title to each of these subplots indicating the time value associated with the plot. Make sure the x-, y-, and z-axes all have the same tick marks and z-limits to make comparisons across the plots visually simple. You may find useful the attributes `set_zticks([0,2,4,6,8,10])` and `set_zlim([0,10])` to ensure this across the different axes in the subplots. \n",
    "\n",
    "We setup four separate code blocks below to help get you started. The first three blocks are to help you do the above two parts of this exercise. It is a good idea to approach any coding project in terms of ***blocks*** of code that all serve a separate and distinctive purpose. This helps us write modular code that is easier to debug and in some cases identify certain functionality that should be developed separately into a module or library to be imported in other codes. \n",
    "- The first block involves setting up the environment. This is the first to-do in any code and is often edited as the code evolves. It is a good idea to keep all the libraries and functions imported into the code grouped together at the very top of the code. \n",
    "- The second block of code involves setting up and interrogating the grid as well as evaluating $T(x,y,t)$ on this grid.\n",
    "- The third block of code involves the plotting part of this exercise.\n",
    "- ***The fourth block of code is to simulate the situation where a separate terminal is open with ipython running to test different ideas/snippest of code as the main code is being developed in its own terminal/text editor.*** We put in just a few items in that block that are pertinent to this exercise. "
   ]
  },
  {
   "cell_type": "markdown",
   "metadata": {},
   "source": [
    "### First setup the environment"
   ]
  },
  {
   "cell_type": "code",
   "execution_count": null,
   "metadata": {
    "collapsed": false
   },
   "outputs": [],
   "source": [
    "# First setup the environment\n",
    "import numpy as np\n",
    "%matplotlib inline \n",
    "import matplotlib.pyplot as plt \n",
    "from mpl_toolkits.mplot3d import axes3d "
   ]
  },
  {
   "cell_type": "markdown",
   "metadata": {},
   "source": [
    "### Setup the grids and evaluate $T$ on the grid"
   ]
  },
  {
   "cell_type": "code",
   "execution_count": null,
   "metadata": {
    "collapsed": false
   },
   "outputs": [],
   "source": [
    "# Setup and study the grid using np.linspace and np.meshgrid\n",
    "x = \n",
    "y = \n",
    "t = \n",
    "x, y, t = \n",
    "# Print out the shape of x, x[0:2,:,0], y[0:2,:,0], t[0:2,:,0], and t[0,0,:] to make sense of the structure of these arrays\n",
    "print x.shape\n",
    "print '\\n'\n",
    "print x[0:2,:,0]\n",
    "print '\\n'\n",
    "print y[0:2,:,0]\n",
    "print '\\n'\n",
    "print t[0:2,:,0]\n",
    "print '\\n'\n",
    "print t[0,0,:]\n",
    "# Evaluate T on this grid\n",
    "T = "
   ]
  },
  {
   "cell_type": "markdown",
   "metadata": {},
   "source": [
    "### Make the plots"
   ]
  },
  {
   "cell_type": "code",
   "execution_count": null,
   "metadata": {
    "collapsed": false
   },
   "outputs": [],
   "source": [
    "# Now make the plots\n",
    "fig = plt.figure(1, figsize=(6,18))\n",
    "\n",
    "ax1 = \n",
    "\n",
    "ax2 = \n",
    "\n",
    "ax3 = \n",
    "\n",
    "fig.tight_layout()\n",
    "\n",
    "plt.show()"
   ]
  },
  {
   "cell_type": "markdown",
   "metadata": {},
   "source": [
    "### Use this last code block for testing things"
   ]
  },
  {
   "cell_type": "code",
   "execution_count": null,
   "metadata": {
    "collapsed": false
   },
   "outputs": [],
   "source": [
    "# Use this for testing things\n",
    "z = np.log(np.e)\n",
    "print z\n",
    "print np.log(10)/2"
   ]
  },
  {
   "cell_type": "markdown",
   "metadata": {},
   "source": [
    "# Summary\n",
    "\n",
    "We have seen how to \n",
    "* Cast variables, print to screen using `print`, and make arrays/lists using built-in Python functions.\n",
    "* Import and use a library. \n",
    "* Use the numpy library to work with arrays in Python.\n",
    "* The expression array.shape gives the shape of an array.\n",
    "* Use array[x, y] to select a single element from an array and correctly select components of an array by understanding that array indices start at 0, not 1.\n",
    "* Use low:high to specify a slice that includes the indices from low to high-1.\n",
    "* Use `#` to add some kind of explanation in the form of comments to programs.\n",
    "* Use numpy.mean(array), numpy.max(array), and numpy.min(array) to calculate simple statistics.\n",
    "* Use numpy.mean(array, axis=0) or numpy.mean(array, axis=1) to calculate statistics across the specified axis.\n",
    "* Use the pyplot library from matplotlib for creating simple visualizations.\n",
    "* Use numpy.linspace, and numpy.meshgrid to create regular grids.\n",
    "\n",
    "# So what is next?\n",
    "\n",
    "Much of scientific programming involves applications of basic logic (e.g., using conditional statements to determine an action), repeating operations across arrays (e.g., using for-loops), and making user-defined functions to handle problem-specific issues (e.g., defining a function that takes as input a spatial-temporal point $(x,y,t)$ and returns a temperature $T(x,y,t)$). We will study these ideas in more depth in the next notebook of our short course.  \n"
   ]
  }
 ],
 "metadata": {
  "anaconda-cloud": {},
  "kernelspec": {
   "display_name": "Python [default]",
   "language": "python",
   "name": "python2"
  },
  "language_info": {
   "codemirror_mode": {
    "name": "ipython",
    "version": 2
   },
   "file_extension": ".py",
   "mimetype": "text/x-python",
   "name": "python",
   "nbconvert_exporter": "python",
   "pygments_lexer": "ipython2",
   "version": "2.7.12"
  }
 },
 "nbformat": 4,
 "nbformat_minor": 0
}
