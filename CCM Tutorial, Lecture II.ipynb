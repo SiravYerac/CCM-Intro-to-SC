{
 "cells": [
  {
   "cell_type": "markdown",
   "metadata": {},
   "source": [
    "# CCM Tutorial, Lecture II\n",
    "\n",
    "## Conditionals \\& Comparisons in Python\n",
    "    \n",
    "### Conditionals in Python    \n",
    "1. No Case statement\n",
    "2. if/elif/else SYNTAX\n",
    "```\n",
    "if condition:\n",
    "    #do stuff\n",
    "elif condition:\n",
    "    #do stuff\n",
    "else:\n",
    "    #do stuff\n",
    "```       \n",
    "All parts of the conditional are indented.\n",
    "       \n",
    "### Comparison operators  (*LET a=3, b=5*)\n",
    "==:\tIf the values of two operands are equal, then the condition becomes true.\t*(a == b) is not true.*\n",
    "\n",
    "!=:\tIf values of two operands are not equal, then condition becomes true.\n",
    "\n",
    "<>:\tIf values of two operands are not equal, then condition becomes true.\n",
    "\n",
    " \">\":\tIf the value of left operand is greater than the value of right operand, then condition becomes true.\t*(a > b) is not true.*\n",
    "\n",
    "\"<\": If the value of left operand is less than the value of right operand, then condition becomes true.\t*(a < b) is true.*\n",
    "\n",
    "\">=\":\tIf the value of left operand is greater than or equal to the value of right operand, then condition becomes true.\t*(a >= b) is not true.*\n",
    "\n",
    "\"<=\":\tIf the value of left operand is less than or equal to the value of right operand, then condition becomes true.\t*(a <= b) is true.*\n",
    "\n",
    "We can us **and** and **or** to combine sets of comparison operators and **not** to negate a statement. \n",
    "\n",
    "Example: \n",
    "```\n",
    "if x >= 0 and not(x==2 or x==3):\n",
    "            f=np.pow(x,.5)/((x-2.0)*(x-3.0)\n",
    "         elseif x<0:\n",
    "             print 'Square root of negative number'\n",
    "            f=np.nan\n",
    "         elseif x=2.0:\n",
    "             print 'Division by zero with different limits'\n",
    "             f=np.nan\n",
    "```\n",
    "Let's do an example for computing the finite element chapeaux function corresponding to node $x=0$ and meshsize= 2."
   ]
  },
  {
   "cell_type": "code",
   "execution_count": null,
   "metadata": {
    "collapsed": false
   },
   "outputs": [],
   "source": [
    "# if x > 1 or x < -1 f(x)=0\n",
    "# elif x<= 0 f(x)=1+x\n",
    "# else f(x)=1-x\n",
    "\n",
    "x=-.25\n",
    "if x> 1 or x< -1:\n",
    "    f=0.0\n",
    "elif x<=0:\n",
    "    f=1.0+x\n",
    "else: \n",
    "    f=1.0-x\n",
    "print f\n",
    "\n",
    "\n"
   ]
  },
  {
   "cell_type": "markdown",
   "metadata": {},
   "source": [
    "## Looping in Python\n",
    "\n",
    "### For loops\n",
    "\n",
    "**Syntax** \n",
    "```\n",
    "for iterator in list:\n",
    "    #indent for the loop\n",
    "    #do cool stuff in the loop\n",
    "#noindent to close the loop'\n",
    "```\n",
    "The list can be strings, for example:\n",
    "```\n",
    "for string in ('Alpha','Romeo','Sailor','Foxtrot'):\n",
    "    #string takes on values 'Alpha', 'Romeo', etc. in order.\n",
    "    print string\n",
    "```\n",
    "    \n",
    "\n",
    "You will commonly use the **xrange** command to build lists of numbers to iterate on.\n",
    "This is better than **range** for long sets of numbers or if you break the loop earlier.\n",
    "\n",
    "**SYNTAX** \n",
    "```\n",
    "xrange(stop)  #assumes start=0\n",
    "xrange(start, stop[, step])\n",
    "```\n",
    "\n",
    "Note that it **DOES NOT** execute the stop value.\n",
    "\n",
    "Let's  sum the first 20 terms of the geometric series corresponding to $2^{-x}$"
   ]
  },
  {
   "cell_type": "code",
   "execution_count": 5,
   "metadata": {
    "collapsed": false
   },
   "outputs": [
    {
     "name": "stdout",
     "output_type": "stream",
     "text": [
      "0 Sum= 1\n",
      "1 Sum= 1.5\n",
      "2 Sum= 1.75\n",
      "3 Sum= 1.875\n",
      "4 Sum= 1.9375\n",
      "5 Sum= 1.96875\n",
      "6 Sum= 1.984375\n",
      "7 Sum= 1.9921875\n",
      "8 Sum= 1.99609375\n",
      "9 Sum= 1.998046875\n",
      "10 Sum= 1.9990234375\n",
      "11 Sum= 1.99951171875\n",
      "12 Sum= 1.99975585938\n",
      "13 Sum= 1.99987792969\n",
      "14 Sum= 1.99993896484\n",
      "15 Sum= 1.99996948242\n",
      "16 Sum= 1.99998474121\n",
      "17 Sum= 1.99999237061\n",
      "18 Sum= 1.9999961853\n",
      "19 Sum= 1.99999809265\n",
      "19 Sum= 1.9999961853\n",
      "18 Sum= 1.99999237061\n",
      "17 Sum= 1.99998474121\n",
      "16 Sum= 1.99996948242\n",
      "15 Sum= 1.99993896484\n",
      "14 Sum= 1.99987792969\n",
      "13 Sum= 1.99975585938\n",
      "12 Sum= 1.99951171875\n",
      "11 Sum= 1.9990234375\n",
      "10 Sum= 1.998046875\n",
      "9 Sum= 1.99609375\n",
      "8 Sum= 1.9921875\n",
      "7 Sum= 1.984375\n",
      "6 Sum= 1.96875\n",
      "5 Sum= 1.9375\n",
      "4 Sum= 1.875\n",
      "3 Sum= 1.75\n",
      "2 Sum= 1.5\n",
      "1 Sum= 1.0\n",
      "0 Sum= 0.0\n"
     ]
    }
   ],
   "source": [
    "sum=0\n",
    "for n in xrange(20):   #identical so xrange(0,20) or xrange(0,20,1)\n",
    "    sum+=2**(-n)\n",
    "    print n,'Sum=',sum\n",
    "for n in xrange(19,-1,-1): #you need the colon\n",
    "    sum-=2**(-n)  #all the things at the level of the loop get one indent\n",
    "    print n,'Sum=',sum #done with the loop variable"
   ]
  },
  {
   "cell_type": "markdown",
   "metadata": {},
   "source": [
    "## Looping in Python: While loops \n",
    "\n",
    "We often use while loops for iterative methods, such as fixed-point iterations. \n",
    "```\n",
    "error=float(1)\n",
    "tol=1E-8\n",
    "while condition:   #this condition is true\n",
    "    do something cool\n",
    "    update condition, or use break or continue for loop control\n",
    "#no indent as at end of loop\n",
    "```\n",
    "If the *err > tol* never becomes invalid this will result in an infinite loop, so be careful.\n",
    "\n",
    "You can also exit from any for loop by using **break** to exit the innermost loop, and **continue** to continue to the next iteration of this loop\n",
    "\n",
    "Let's look at an example where we are trying to iterate a logistic equation $x_{n+1}=a*x*(1-x)$ until we arrive at a fixed point:"
   ]
  },
  {
   "cell_type": "code",
   "execution_count": null,
   "metadata": {
    "collapsed": false
   },
   "outputs": [],
   "source": [
    "import math as m\n",
    "#from math import fabs  #absolute value function\n",
    "a=2.0\n",
    "xnew=.1\n",
    "doit=True  #boolean True and False \n",
    "while doit:\n",
    "    xold=xnew\n",
    "    xnew*=a*(1-xnew)\n",
    "    if m.fabs(xnew-xold) > 1E-8:\n",
    "        print 'Iterating, X=',xnew\n",
    "        continue  #play it again, Sam\n",
    "    else:\n",
    "        break\n",
    "print \"Fixed Point=\",xnew"
   ]
  },
  {
   "cell_type": "markdown",
   "metadata": {},
   "source": [
    "## **Functions in Python**  \n",
    "```\n",
    "def functionname( parameters ):\n",
    "   \"function_docstring\"\n",
    "   function_suite\n",
    "   return [expression]\n",
    "```\n",
    "The quotes is where you put in a documentation string for your function.  It is entirely optional.\n",
    "\n",
    "parameters are normally ordered **UNLESS** you supplement them with *keyword args* in the function call.  For example:"
   ]
  },
  {
   "cell_type": "code",
   "execution_count": 6,
   "metadata": {
    "collapsed": false
   },
   "outputs": [
    {
     "name": "stdout",
     "output_type": "stream",
     "text": [
      "5\n",
      "5.0\n",
      "5.0\n",
      "5.0\n",
      "silly test\n"
     ]
    }
   ],
   "source": [
    "def myfun(x,y):\n",
    "    return x+y\n",
    "\n",
    "print myfun(2,3)\n",
    "print myfun(2.0,3.0)\n",
    "print myfun(y=2.0,x=3.0)\n",
    "print myfun(x=3,y=2.0)\n",
    "print myfun('silly ','test')    "
   ]
  },
  {
   "cell_type": "markdown",
   "metadata": {},
   "source": [
    "Obviously Python does not use type-checking for functions, but it allows useful types of polymorphism.\n",
    "\n",
    "Python also allows to set defaults within the parameter list of a function call.  Let's tweak myfun a little.\n",
    "\n",
    "Defaults need to **come after** functions parameters with non-default values."
   ]
  },
  {
   "cell_type": "code",
   "execution_count": 17,
   "metadata": {
    "collapsed": false
   },
   "outputs": [
    {
     "name": "stdout",
     "output_type": "stream",
     "text": [
      "0\n",
      "0.5\n",
      "0\n"
     ]
    }
   ],
   "source": [
    "def myfun2(x=1,y=2):\n",
    "    return x/y\n",
    "\n",
    "print myfun2()\n",
    "print myfun2(1.0)\n",
    "print myfun2(y=3)"
   ]
  },
  {
   "cell_type": "markdown",
   "metadata": {},
   "source": [
    "Can I pass a function to another function: **YES!**\n",
    "\n",
    "Example: *secant method* for solving $f(x)=0$."
   ]
  },
  {
   "cell_type": "code",
   "execution_count": 14,
   "metadata": {
    "collapsed": false
   },
   "outputs": [
    {
     "name": "stdout",
     "output_type": "stream",
     "text": [
      "Iteration 1 :X= -0.392363212133\n",
      "Iteration 2 :X= -0.331154383525\n",
      "Iteration 3 :X= -0.238361762951\n",
      "Iteration 4 :X= -0.182944883534\n",
      "Iteration 5 :X= -0.137116837399\n",
      "Iteration 6 :X= -0.103748384711\n",
      "Iteration 7 :X= -0.0782288331826\n",
      "Iteration 8 :X= -0.0590710983367\n",
      "Iteration 9 :X= -0.0445829062275\n",
      "Iteration 10 :X= -0.0336556832203\n",
      "Iteration 1 :X= 4.65979236633\n",
      "Iteration 2 :X= 1.93149385608\n",
      "Iteration 3 :X= 2.1105411114\n",
      "Iteration 4 :X= 2.13267610613\n",
      "Iteration 5 :X= 2.13226696793\n",
      "Iteration 6 :X= 2.13226772525\n"
     ]
    }
   ],
   "source": [
    "import numpy as np\n",
    "def secant(function,guess=np.array([1.0,2.0]),tolerance=1E-8,max_iter=10):\n",
    "    from math import fabs\n",
    "    iter=0\n",
    "    while fabs(function(guess[1])) > tolerance and iter < max_iter:\n",
    "        temp=guess[1]-function(guess[1])*(guess[1]-guess[0])/(function(guess[1])-function(guess[0])) #secant update\n",
    "        guess=[guess[1],temp]  #update secant vector\n",
    "        iter+=1 #update iteration count\n",
    "        print 'Iteration', iter,':X=',guess[1] #output iteration, current root guess\n",
    "    return guess[1]    \n",
    "\n",
    "def myfunc(x):\n",
    "    from math import sin\n",
    "    return x-sin(x)\n",
    "\n",
    "def functwo(x):\n",
    "    from math import atan\n",
    "    return x-1-atan(x)\n",
    "\n",
    "root=secant(myfunc,np.array([-.5,-.75])) #slow convergence, multiple root\n",
    "root2=secant(functwo,np.array([-1.0,1])) "
   ]
  },
  {
   "cell_type": "markdown",
   "metadata": {},
   "source": [
    "### Python is pass by reference OR pass by value\n",
    "\n",
    "####  *Pass by reference*\n",
    "This means python passes the reference to the variable, not just the value.  This can cause some different behavior.  Classes, numpy arrays, etc. are passed by reference\n",
    "\n",
    "#### *Pass by value* \n",
    "This means python passes the value and creates a new copy within the function. strings, floats, and ints are passed by value (*they are immutable data types*)\n",
    "\n",
    "Python variables created within a function also have local *scope*."
   ]
  },
  {
   "cell_type": "code",
   "execution_count": 9,
   "metadata": {
    "collapsed": false
   },
   "outputs": [
    {
     "name": "stdout",
     "output_type": "stream",
     "text": [
      "before tester, a= 2\n",
      "var= 4\n",
      "tester  changed a to 3\n",
      "after tester, a= 2\n",
      "before tester, array A= [[ 1.  1.]\n",
      " [ 1.  1.]]\n",
      "var= [[ 2.  2.]\n",
      " [ 2.  2.]]\n",
      "tester  changed a to 3\n",
      "after tester, array A= [[ 2.  2.]\n",
      " [ 2.  2.]]\n",
      "a= [[ 4.  4.]\n",
      " [ 4.  4.]]\n",
      "[[ 2.  2.]\n",
      " [ 2.  2.]]\n"
     ]
    }
   ],
   "source": [
    "import numpy as np\n",
    "def tester(var):\n",
    "    var*=2      #if var is mutable, replaces in place(pass-by-reference)\n",
    "    print 'var=',var\n",
    "    a=3\n",
    "    print 'tester  changed a to',a #I can access a global variable here, and change it locally.\n",
    "    return\n",
    "\n",
    "a=2\n",
    "print 'before tester, a=',a\n",
    "tester(a)\n",
    "print 'after tester, a=',a\n",
    "A=np.ones([2,2])\n",
    "print 'before tester, array A=',A\n",
    "tester(A)\n",
    "print 'after tester, array A=',A\n",
    "tester2(A)\n",
    "print 'after tester 2, array A='\n"
   ]
  },
  {
   "cell_type": "markdown",
   "metadata": {},
   "source": [
    "What if I want to do local work to a *mutable* data type(i.e. a numpy array) but not have the change reflected back \n",
    "after function exit?  \n",
    "\n",
    "The answer is to not use *in place* operators like +=, \\*=, etc.  var=var+2 creates a local copy of var and adds 2 to every entry."
   ]
  },
  {
   "cell_type": "code",
   "execution_count": 12,
   "metadata": {
    "collapsed": false
   },
   "outputs": [
    {
     "name": "stdout",
     "output_type": "stream",
     "text": [
      "before tester2, A= [[ 1.  0.  0.]\n",
      " [ 0.  1.  0.]\n",
      " [ 0.  0.  1.]]\n",
      "in function, input= [[ 2.  0.  0.]\n",
      " [ 0.  2.  0.]\n",
      " [ 0.  0.  2.]]\n",
      "after tester2, A= [[ 1.  0.  0.]\n",
      " [ 0.  1.  0.]\n",
      " [ 0.  0.  1.]]\n"
     ]
    }
   ],
   "source": [
    "def tester2(var):\n",
    "    var=var*2    #if mutable, creates local copy of var.\n",
    "    print 'in function, input=',var\n",
    "    return \n",
    "\n",
    "A=np.eye(3) # creates 3x3 array with a_ii = 1, 0 otherwise.\n",
    "print 'before tester2, A=',A\n",
    "tester2(A)\n",
    "print 'after tester2, A=',A"
   ]
  }
 ],
 "metadata": {
  "anaconda-cloud": {},
  "kernelspec": {
   "display_name": "Python [Root]",
   "language": "python",
   "name": "Python [Root]"
  },
  "language_info": {
   "codemirror_mode": {
    "name": "ipython",
    "version": 2
   },
   "file_extension": ".py",
   "mimetype": "text/x-python",
   "name": "python",
   "nbconvert_exporter": "python",
   "pygments_lexer": "ipython2",
   "version": "2.7.12"
  }
 },
 "nbformat": 4,
 "nbformat_minor": 0
}
