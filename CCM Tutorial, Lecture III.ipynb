{
 "cells": [
  {
   "cell_type": "markdown",
   "metadata": {},
   "source": [
    "# Python Tutorial III: Modules and Classes\n",
    "\n",
    "In today's tutorial we'll learn how to build our own python modules and classes.  We'll start with modules:\n",
    "\n",
    "## Modules\n",
    "\n",
    "### When to use:\n",
    "* Your script gets very long and you want to have easier maintenance. \n",
    "* You want to reuse a function in several programs or scripts without copy/paste.\n",
    "* Performance reasons."
   ]
  },
  {
   "cell_type": "markdown",
   "metadata": {},
   "source": [
    "### What is it?\n",
    "* A file containing Python definitions and statements.\n",
    "* The file name is the module name with the suffix .py appended.\n",
    "* Within a module, the module's name is available as the valuable of the global variable *__name__*.\n",
    "\n",
    "Let's look at an example:"
   ]
  },
  {
   "cell_type": "code",
   "execution_count": 1,
   "metadata": {
    "collapsed": true
   },
   "outputs": [],
   "source": [
    "# module difference.py\n",
    "def for_diff(function,x=0,h=.1):\n",
    "    deriv=(function(x+h)-function(x))/h\n",
    "    return deriv\n",
    "\n",
    "def back_diff(function,x=0,h=.1):\n",
    "    deriv=(function(x)-function(x-h))/h\n",
    "    return deriv\n",
    "\n",
    "def cent_diff(function,x=0,h=.1):\n",
    "    deriv=(function(x+h)-function(x-h))/(2*h)\n",
    "    return derive"
   ]
  },
  {
   "cell_type": "markdown",
   "metadata": {},
   "source": [
    "We **import** modules just like we import libraries like ``numpy``, ``math``, and ``scipy``"
   ]
  },
  {
   "cell_type": "code",
   "execution_count": 3,
   "metadata": {
    "collapsed": false,
    "scrolled": true
   },
   "outputs": [
    {
     "data": {
      "text/plain": [
       "<function matplotlib.pyplot.show>"
      ]
     },
     "execution_count": 3,
     "metadata": {},
     "output_type": "execute_result"
    },
    {
     "data": {
      "image/png": "[encoded data removed]",
      "text/plain": [
       "<matplotlib.figure.Figure at 0x7f32113c5dd0>"
      ]
     },
     "metadata": {},
     "output_type": "display_data"
    }
   ],
   "source": [
    "%matplotlib inline   \n",
    "import differences as diff\n",
    "import matplotlib.pyplot as plt\n",
    "import numpy as np\n",
    "\n",
    "def myfun(x=0):\n",
    "    import numpy as np\n",
    "    return np.exp(-x**2)*np.sin(np.pi*x)\n",
    "\n",
    "def myder(x=0):\n",
    "    from math import sin,exp,pi\n",
    "    temp=np.exp(-x**2)\n",
    "    return temp*(pi*np.cos(np.pi*x)-2*x*np.sin(np.pi*x))\n",
    "    \n",
    "X=np.linspace(0,1,100)\n",
    "dX=diff.for_diff(myfun,X,.01)\n",
    "abs_err=np.abs(dX-myder(X))\n",
    "\n",
    "plt.plot(X,abs_err)\n",
    "plt.show"
   ]
  },
  {
   "cell_type": "markdown",
   "metadata": {},
   "source": [
    "## Where does the module file need to go?\n",
    "\n",
    "Say you are trying to **import spam**.\n",
    "\n",
    "When imported, the interpreter searches for spam in(in order):\n",
    "1. A built-in module with that name. \n",
    "2. *spam.py* in a list of directories given by the variable *sys.path*. \n",
    "    1. The directory containing the input script (or the current directory when no file is specified).\n",
    "    2. PYTHONPATH (a list of directory names, syntax as shell variable PATH).\n",
    "    3. The installation-dependent default.\n",
    "\n",
    "## Generalizations of Modules: Packages\n",
    "\n",
    "Packages are modules with a directory structure.\n",
    "You can even make packages with subpackages and simply exploit the dot.dot reference to navigate through the package to get to the function you want (e.g. matplotlib.pyplot.plot).  \n",
    "If you want to develop a well-comparmentalized package you can look at online help: https://python-packaging.readthedocs.io/en/latest/\n",
    "\n",
    "\n",
    " "
   ]
  },
  {
   "cell_type": "markdown",
   "metadata": {},
   "source": [
    "## Classes\n",
    "\n",
    "Classes are a basic feature of object-oriented programming.  They are a little more complex than the *struct* features in Matlab."
   ]
  },
  {
   "cell_type": "code",
   "execution_count": 5,
   "metadata": {
    "collapsed": false
   },
   "outputs": [
    {
     "name": "stdout",
     "output_type": "stream",
     "text": [
      "M5660\n",
      "['Michael', 'Megan']\n",
      "[]\n"
     ]
    }
   ],
   "source": [
    "class myClass:\n",
    "    #Class attributes are variables that are shared by all objects of this class\n",
    "    teacher='Varis Carey'\n",
    "    off_hours='MW 1-2 TR 12:30-1:30'\n",
    "    #instance variables are variables particular to an instance of the class and are\n",
    "    #set in the CONSTRUCTOR\n",
    "    def __init__(self,name,room):\n",
    "        self.name=name\n",
    "        self.room=room\n",
    "        self.students=[] #empty student list\n",
    "    \n",
    "    #We can have other function within myclass-here is a METHOD to add_students\n",
    "    def add_student(self,name):\n",
    "        self.students.append(name)\n",
    "\n",
    "c=myClass('M5660','AB4017')\n",
    "d=myClass('M4650','AB4125')\n",
    "print c.name\n",
    "c.add_student('Michael')\n",
    "c.add_student('Megan')\n",
    "print c.students\n",
    "print d.students\n",
    "\n",
    "    "
   ]
  },
  {
   "cell_type": "markdown",
   "metadata": {},
   "source": [
    "Let's look at an example where we encounter another example of classical object oriented programming, **Inheritance**.\n",
    "\n",
    "There's a file in the Tutuorial II directory that has the *solvers* module which contains classes used in this example."
   ]
  },
  {
   "cell_type": "code",
   "execution_count": 6,
   "metadata": {
    "collapsed": false
   },
   "outputs": [
    {
     "name": "stdout",
     "output_type": "stream",
     "text": [
      "Iterate= 0\n",
      "Residual= 1.0\n",
      "Iteration= 0\n",
      "Iterate= 0.739086151123\n",
      "Residual= 1.7035832659e-06\n",
      "Iteration= 20\n",
      "Iterate= 0\n",
      "Residual= 1.0\n",
      "Iteration= 0\n",
      "Iterate= 0.739085137844\n",
      "Residual= 7.7470245774e-09\n",
      "Iteration= 6\n",
      "Root= 0.739085137844\n"
     ]
    }
   ],
   "source": [
    "class Solver:\n",
    "    \n",
    "    def __init__(self,function,start=0,tolerance=1E-8,maxiter=20):\n",
    "        self.fn=function\n",
    "        self.guess=start\n",
    "        self.tolerance=tolerance\n",
    "        self.maxiter=20\n",
    "        self.iteration=0  #iteration counter\n",
    "        self.root=None\n",
    "    \n",
    "    def state(self):\n",
    "        print 'Iterate=',self.guess\n",
    "        print 'Residual=',abs(self.fn(self.guess))\n",
    "        print 'Iteration=',self.iteration\n",
    "        if self.root!=None:\n",
    "            print 'Root=',self.root\n",
    "\n",
    "class BracketSolver(Solver):\n",
    "    def __init__(self,function,guess=0,tolerance=1E-8,maxiter=20,left=-1,right=1):\n",
    "            Solver.__init__(self,function,guess,tolerance,maxiter)\n",
    "            self.left=left\n",
    "            self.right=right\n",
    "            self.lval=self.fn(left)\n",
    "            self.rval=self.fn(right)\n",
    "            if self.lval*self.rval > 0:\n",
    "                print 'Warning: No Root guarantee',self.fn(left),self.fn(right)\n",
    "            if self.left >= self.right:\n",
    "                print 'Warning, Invalid Interval'\n",
    "            \n",
    "    def solve(self,type='bisection'):\n",
    "            self.iteration+=1\n",
    "            while self.iteration < self.maxiter:\n",
    "                if type=='bisection':\n",
    "                    self.guess=.5*(self.left+self.right) #bisect bracket\n",
    "                    test=self.fn(self.guess)\n",
    "                    if abs(test)<self.tolerance:  #we found a root\n",
    "                        self.root=self.guess\n",
    "                        return \n",
    "                    else:   #iterate\n",
    "                        if self.lval*test < 0:\n",
    "                            self.rval=test\n",
    "                            self.right=self.guess\n",
    "                            self.iteration+=1\n",
    "                        else:\n",
    "                            self.lval=test\n",
    "                            self.left=self.guess\n",
    "                            self.iteration+=1\n",
    "\n",
    "def myfun(x):\n",
    "    from math import cos\n",
    "    return cos(x)-x\n",
    "\n",
    "g=BracketSolver(myfun)\n",
    "g.state()\n",
    "g.solve()\n",
    "g.state()\n",
    "h=BracketSolver(myfun,left=g.left,right=g.right)\n",
    "h.state()\n",
    "h.solve()\n",
    "h.state()\n",
    "\n",
    "\n",
    "                            "
   ]
  },
  {
   "cell_type": "markdown",
   "metadata": {},
   "source": [
    "The inherited class (or subclass) can override methods(think functions) and attributes in the base class.  "
   ]
  },
  {
   "cell_type": "code",
   "execution_count": null,
   "metadata": {
    "collapsed": true
   },
   "outputs": [],
   "source": [
    "class Parabolic_Solver:\n",
    "    \n",
    "    def __init__(self,rhs,timestep,delta_x=.1,delta_y=.1,time_0=0.0,initial,time_adaptive=False):\n",
    "        self.rhs=rhs\n",
    "        self.initial=initial\n",
    "        self.state=Parabolic_Solver.init_cond(self,initial)\n",
    "        self.time_adaptive=time_adaptive\n",
    "        gridx=np.linspace(0,1,np.int(1.0/delta_x+1))\n",
    "        gridy=np.linspace(0,1,np.int(1.0/delta_y+1))\n",
    "        self.grid=np.meshgrid(gridx,gridy)\n",
    "        \n",
    "    def init_cond(self):\n",
    "\n",
    "        \n",
    "class Implicit_Time_Solver(Parabolic_Solver):\n",
    "\n",
    "    def __init__(self,method='BE'):\n",
    "        \n",
    "\n",
    "\n",
    "class Explicit_Time_Solver(Parabolic_Solver):\n",
    "        \n",
    "    def __init__(self,method='FE'):\n",
    "        \n",
    "    def advance(\n",
    "    "
   ]
  },
  {
   "cell_type": "code",
   "execution_count": 8,
   "metadata": {
    "collapsed": false
   },
   "outputs": [
    {
     "name": "stdout",
     "output_type": "stream",
     "text": [
      "Interval=[ -1 , 1 ]\n",
      "Iterate= 0\n",
      "Residual= 1.0\n",
      "Iteration= 0\n",
      "Interval=[ 0.739082336426 , 0.739086151123 ]\n",
      "Iterate= 0.739086151123\n",
      "Residual= 1.7035832659e-06\n",
      "Iteration= 20\n",
      "Interval=[ 0.739082336426 , 0.739086151123 ]\n",
      "Iterate= 0\n",
      "Residual= 1.0\n",
      "Iteration= 0\n",
      "Interval=[ 0.739085078239 , 0.739085197449 ]\n",
      "Iterate= 0.739085137844\n",
      "Residual= 7.7470245774e-09\n",
      "Iteration= 6\n",
      "Root= 0.739085137844\n"
     ]
    }
   ],
   "source": [
    "class Solver:\n",
    "    \n",
    "    def __init__(self,function,start=0,tolerance=1E-8,maxiter=20):\n",
    "        self.fn=function\n",
    "        self.guess=start\n",
    "        self.tolerance=tolerance\n",
    "        self.maxiter=20\n",
    "        self.iteration=0  #iteration counter\n",
    "        self.root=None\n",
    "    \n",
    "    def state(self):\n",
    "        print 'Iterate=',self.guess\n",
    "        print 'Residual=',abs(self.fn(self.guess))\n",
    "        print 'Iteration=',self.iteration\n",
    "        if self.root!=None:\n",
    "            print 'Root=',self.root\n",
    "\n",
    "class BracketSolver(Solver):\n",
    "    def __init__(self,function,guess=0,tolerance=1E-8,maxiter=20,left=-1,right=1):\n",
    "            Solver.__init__(self,function,guess,tolerance,maxiter)\n",
    "            self.left=left\n",
    "            self.right=right\n",
    "            self.lval=self.fn(left)\n",
    "            self.rval=self.fn(right)\n",
    "            if self.lval*self.rval > 0:\n",
    "                print 'Warning: No Root guarantee',self.fn(left),self.fn(right)\n",
    "            if self.left >= self.right:\n",
    "                print 'Warning, Invalid Interval'\n",
    "            \n",
    "    def solve(self,type='bisection'):\n",
    "            self.iteration+=1\n",
    "            while self.iteration < self.maxiter:\n",
    "                if type=='bisection':\n",
    "                    self.guess=.5*(self.left+self.right) #bisect bracket\n",
    "                    test=self.fn(self.guess)\n",
    "                    if abs(test)<self.tolerance:  #we found a root\n",
    "                        self.root=self.guess\n",
    "                        return \n",
    "                    else:   #iterate\n",
    "                        if self.lval*test < 0:\n",
    "                            self.rval=test\n",
    "                            self.right=self.guess\n",
    "                            self.iteration+=1\n",
    "                        else:\n",
    "                            self.lval=test\n",
    "                            self.left=self.guess\n",
    "                            self.iteration+=1\n",
    "    def state(self):\n",
    "        print 'Interval=[',self.left,',',self.right,']'\n",
    "        #now call Solver's state function but you must call it directly!\n",
    "        Solver.state(self)\n",
    "    \n",
    "\n",
    "def myfun(x):\n",
    "    from math import cos\n",
    "    return cos(x)-x\n",
    "\n",
    "g=BracketSolver(myfun)\n",
    "g.state()\n",
    "g.solve()\n",
    "g.state()\n",
    "h=BracketSolver(myfun,left=g.left,right=g.right)\n",
    "h.state()\n",
    "h.solve()\n",
    "h.state()\n",
    "\n",
    "\n",
    "                            "
   ]
  }
 ],
 "metadata": {
  "anaconda-cloud": {},
  "kernelspec": {
   "display_name": "Python [default]",
   "language": "python",
   "name": "python2"
  },
  "language_info": {
   "codemirror_mode": {
    "name": "ipython",
    "version": 2
   },
   "file_extension": ".py",
   "mimetype": "text/x-python",
   "name": "python",
   "nbconvert_exporter": "python",
   "pygments_lexer": "ipython2",
   "version": "2.7.12"
  }
 },
 "nbformat": 4,
 "nbformat_minor": 0
}
