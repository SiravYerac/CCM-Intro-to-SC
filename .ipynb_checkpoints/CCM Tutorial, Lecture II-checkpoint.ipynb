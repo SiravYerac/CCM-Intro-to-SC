{
 "cells": [
  {
   "cell_type": "markdown",
   "metadata": {},
   "source": [
    "# CCM Tutorial, Lecture II\n",
    "\n",
    "In this lecture, we will explore how to control workflow in a code using conditionals and loops. For more information, we recommend reviewing some of the online documentation available at https://docs.python.org/2/tutorial/controlflow.html. We will also see how to make code more modular by creating user defined functions. \n",
    "\n",
    "## Conditionals & Comparisons in Python\n",
    "    \n",
    "### Conditionals in Python    \n",
    "0. In Python, there are no \"case\" or \"switch\" options that are available in other languages, but we can get the same functionality by using dictionary mappings. However, this is beyond the scope of this tutorial. \n",
    "1. You will find that most things can be done using the if/elif/else syntax:\n",
    "```\n",
    "if condition:\n",
    "    #do stuff\n",
    "elif condition:\n",
    "    #do stuff\n",
    "else:\n",
    "    #do stuff\n",
    "```       \n",
    "\n",
    "***All parts of the conditional are indented.*** Unlike other languages that use terms like \"end\" or \"end if\" (or perhaps make use of brackets like \"{ }\") to signify the block of code corresponding to an if-elseif-else, Python interprets everything in terms of indenting. This is also true in for-loops as we will see below.\n",
    "       \n",
    "### Comparison operators  (*LET a=3, b=5*)\n",
    "==:\tIf the values of two operands are equal, then the condition becomes true.\t*(a == b) is not true.*\n",
    "\n",
    "!=:\tIf values of two operands are not equal, then condition becomes true.  *(a != b) is true.* (Alternatively, one could use `<>` in place of `!=`, but this is not very common.)\n",
    "\n",
    " \">\":\tIf the value of left operand is greater than the value of right operand, then condition becomes true.\t*(a > b) is not true.*\n",
    "\n",
    "\"<\": If the value of left operand is less than the value of right operand, then condition becomes true.\t*(a < b) is true.*\n",
    "\n",
    "\">=\":\tIf the value of left operand is greater than or equal to the value of right operand, then condition becomes true.\t*(a >= b) is not true.*\n",
    "\n",
    "\"<=\":\tIf the value of left operand is less than or equal to the value of right operand, then condition becomes true.\t*(a <= b) is true.*\n",
    "\n",
    "We can use **and** and **or** to combine sets of comparison operators and **not** to negate a statement. \n",
    "\n",
    "Try changing different values of `x` in the code snippets below and see what happens."
   ]
  },
  {
   "cell_type": "code",
   "execution_count": 17,
   "metadata": {
    "collapsed": false
   },
   "outputs": [
    {
     "name": "stdout",
     "output_type": "stream",
     "text": [
      "Square root of negative number\n"
     ]
    }
   ],
   "source": [
    "import numpy as np\n",
    "x = -1\n",
    "if x >= 0 and not(x == 2 or x == 3):\n",
    "    f = np.power(x,.5)/((x-2.0)*(x-3.0))\n",
    "    print f\n",
    "elif x < 0:\n",
    "    print 'Square root of negative number'\n",
    "    f = np.nan\n",
    "elif x == 2.0:\n",
    "    print 'Division by zero with different limits'\n",
    "    f = np.nan"
   ]
  },
  {
   "cell_type": "code",
   "execution_count": 18,
   "metadata": {
    "collapsed": false
   },
   "outputs": [
    {
     "name": "stdout",
     "output_type": "stream",
     "text": [
      "0.75\n"
     ]
    }
   ],
   "source": [
    "# if x > 1 or x < -1 f(x)=0\n",
    "# elif x<= 0 f(x)=1+x\n",
    "# else f(x)=1-x\n",
    "\n",
    "x=-.25\n",
    "if x> 1 or x< -1:\n",
    "    f=0.0\n",
    "elif x<=0:\n",
    "    f=1.0+x\n",
    "else: \n",
    "    f=1.0-x\n",
    "print f"
   ]
  },
  {
   "cell_type": "markdown",
   "metadata": {},
   "source": [
    "## Functions in Python \n",
    "In the code snippets above, a value of `x` serves as the input into a conditional statement that determines what output value `f` should be assigned based on the value of `x`. If we wish to use this functionality many times in the code, we would probably like to avoid writing the if/elif/else structure at each point where it is to be used for a variety of reasons including, but not limited to, the following:\n",
    "- If we ever decide to change how `f` is computed, then we would have to find/replace every instance of it within the code.\n",
    "- Even the most terse scientific code can easily become hundreds if not thousands of lines long, and we want to avoid making the code more difficult to read, use, and debug than is absolutely necessary. \n",
    "\n",
    "This motivates the development of user-defined functions in Python. The basic syntax is shown below.\n",
    "\n",
    "```\n",
    "def functionname( parameters ):\n",
    "   \"\"\"function_docstring\"\"\"\n",
    "   function_suite\n",
    "   return [expression]\n",
    "```\n",
    "### A brief discussion on docstrings and commenting in code\n",
    "The (triple) quotes is where you put in a documentation string for your function.  It is entirely optional, but it is always a good idea to document your code even when it is entirely in the developmental/testing phase. There are some best practices that you can read about at https://docs.python.org/devguide/documenting.html or http://docs.python-guide.org/en/latest/writing/documentation/. \n",
    "\n",
    "Good tools such as Sphinx http://www.sphinx-doc.org/en/1.4.8/ can turn properly documented code into easy to read/navigate html files to help expand the community of users for any code you develop. For example, see http://ut-chg.github.io/BET/ where Sphinx was used to generate the documentation. \n",
    "\n",
    "### parameters and keyword arguments in a function\n",
    "Notice that in the definition of the function, there is a `parameters` variable, which is often a list of parameters (as shown below). These are normally ordered **UNLESS** you supplement them with *keyword args* in the function call (i.e., when you actually use the function you may specify which argument corresponds to which parameter).  The next two code snippet illustrates this."
   ]
  },
  {
   "cell_type": "code",
   "execution_count": 3,
   "metadata": {
    "collapsed": false
   },
   "outputs": [
    {
     "name": "stdout",
     "output_type": "stream",
     "text": [
      "8\n",
      "8.0\n",
      "-1.0\n",
      "8.0\n",
      "8.0\n",
      "silly testtest\n",
      "8\n"
     ]
    }
   ],
   "source": [
    "def myfun(x,y):\n",
    "    if x<y:\n",
    "        z = x+2*y\n",
    "    else:\n",
    "        z= x-2*y\n",
    "    return z\n",
    "\n",
    "print myfun(2,3)\n",
    "print myfun(2.0,3.0)\n",
    "print myfun(3.0,2.0) #switching order of inputs\n",
    "\n",
    "print myfun(x=2,y=3.0) #keyword argument\n",
    "print myfun(y=3.0,x=2.0) #switching the order of inputs of keyword arguments does nothing\n",
    "\n",
    "# Above, try printing myfun(x=2,3.0). \n",
    "# The take home message? Once you commit to using keywords in a function call, then you better be all in.\n",
    "\n",
    "print myfun('silly ','test')    \n",
    "\n",
    "z = myfun(2,3)\n",
    "print z"
   ]
  },
  {
   "cell_type": "markdown",
   "metadata": {},
   "source": [
    "Obviously Python does not use type-checking for functions, but it allows useful types of polymorphism.\n",
    "\n",
    "Python also allows to set defaults within the parameter list of a function call.  Let's tweak myfun a little.\n",
    "\n",
    "Defaults need to **come after** functions parameters with non-default values."
   ]
  },
  {
   "cell_type": "code",
   "execution_count": 2,
   "metadata": {
    "collapsed": false,
    "scrolled": true
   },
   "outputs": [
    {
     "name": "stdout",
     "output_type": "stream",
     "text": [
      "5\n"
     ]
    },
    {
     "ename": "NameError",
     "evalue": "name 'z' is not defined",
     "output_type": "error",
     "traceback": [
      "\u001b[1;31m---------------------------------------------------------------------------\u001b[0m",
      "\u001b[1;31mNameError\u001b[0m                                 Traceback (most recent call last)",
      "\u001b[1;32m<ipython-input-2-ca0ba42963e3>\u001b[0m in \u001b[0;36m<module>\u001b[1;34m()\u001b[0m\n\u001b[0;32m      7\u001b[0m \u001b[1;33m\u001b[0m\u001b[0m\n\u001b[0;32m      8\u001b[0m \u001b[1;32mprint\u001b[0m \u001b[0mmyfun2\u001b[0m\u001b[1;33m(\u001b[0m\u001b[1;33m)\u001b[0m\u001b[1;33m\u001b[0m\u001b[0m\n\u001b[1;32m----> 9\u001b[1;33m \u001b[1;32mprint\u001b[0m \u001b[0mz\u001b[0m\u001b[1;33m\u001b[0m\u001b[0m\n\u001b[0m\u001b[0;32m     10\u001b[0m \u001b[1;32mprint\u001b[0m \u001b[0mmyfun2\u001b[0m\u001b[1;33m(\u001b[0m\u001b[1;36m1.0\u001b[0m\u001b[1;33m)\u001b[0m\u001b[1;33m\u001b[0m\u001b[0m\n\u001b[0;32m     11\u001b[0m \u001b[1;32mprint\u001b[0m \u001b[0mmyfun2\u001b[0m\u001b[1;33m(\u001b[0m\u001b[0my\u001b[0m\u001b[1;33m=\u001b[0m\u001b[1;36m3\u001b[0m\u001b[1;33m)\u001b[0m\u001b[1;33m\u001b[0m\u001b[0m\n",
      "\u001b[1;31mNameError\u001b[0m: name 'z' is not defined"
     ]
    }
   ],
   "source": [
    "def myfun2(x=1,y=2):\n",
    "    if x<y:\n",
    "        z = x+2*y\n",
    "    else:\n",
    "        z= x-2*y\n",
    "    return z\n",
    "\n",
    "print myfun2()\n",
    "print myfun2(1.0)\n",
    "print myfun2(y=3)"
   ]
  },
  {
   "cell_type": "markdown",
   "metadata": {},
   "source": [
    "**We can even pass a function to another function!**"
   ]
  },
  {
   "cell_type": "code",
   "execution_count": 30,
   "metadata": {
    "collapsed": false
   },
   "outputs": [
    {
     "name": "stdout",
     "output_type": "stream",
     "text": [
      "19\n"
     ]
    }
   ],
   "source": [
    "print myfun(myfun2(),myfun2(y=3))"
   ]
  },
  {
   "cell_type": "markdown",
   "metadata": {},
   "source": [
    "### Python is pass by reference OR pass by value\n",
    "\n",
    "####  *Pass by reference*\n",
    "This means Python passes the reference to the variable, not just the value.  This can cause some different behavior when certain *in place* operators are used.  Classes, numpy arrays, etc. are passed by reference.\n",
    "\n",
    "#### *Pass by value* \n",
    "This means Python passes the value and creates a new copy within the function. Variables that are strings, floats, and ints are passed by value (*they are immutable data types* meaning that the value is left unchanged by the function).\n",
    "\n",
    "Python variables created within a function also have local *scope*.\n",
    "- *scope* usually refers to the visibility of variables. In other words, which parts of your program can see or use it.  ***Local scope*** usually means only within the called function. "
   ]
  },
  {
   "cell_type": "code",
   "execution_count": 55,
   "metadata": {
    "collapsed": false
   },
   "outputs": [
    {
     "name": "stdout",
     "output_type": "stream",
     "text": [
      "before tester, a =  2\n",
      "within tester, the passed variable is changed to \n",
      " var =  4\n",
      "tester changed a in the scope of the function to 3\n",
      "after tester, a =  2\n",
      "before tester, \n",
      " A =  [[ 1.  1.]\n",
      " [ 1.  1.]]\n",
      "within tester, the passed variable is changed to \n",
      " var =  [[ 2.  2.]\n",
      " [ 2.  2.]]\n",
      "tester changed a in the scope of the function to 3\n",
      "after tester, \n",
      " A =  [[ 2.  2.]\n",
      " [ 2.  2.]]\n",
      "within tester, the passed variable is changed to \n",
      " var =  [[ 4.  4.]\n",
      " [ 4.  4.]]\n",
      "tester changed a in the scope of the function to 3\n",
      "after tester(2*A), \n",
      " A =  [[ 4.  4.]\n",
      " [ 4.  4.]]\n"
     ]
    }
   ],
   "source": [
    "import numpy as np\n",
    "def tester(var):\n",
    "    var *= 2      #if var is mutable, replaces in place (pass-by-reference)\n",
    "    print 'within tester, the passed variable is changed to \\n var = ', var\n",
    "    a = 3\n",
    "    print 'tester changed a in the scope of the function to', a\n",
    "    return\n",
    "\n",
    "a=2\n",
    "print 'before tester, a = ', a\n",
    "tester(a)\n",
    "print 'after tester, a = ', a\n",
    "A=np.ones([2,2])\n",
    "print 'before tester, \\n A = ', A\n",
    "tester(A)\n",
    "print 'after tester, \\n A = ', A\n",
    "tester(A)\n",
    "print 'after tester(2*A), \\n A = ', A\n"
   ]
  },
  {
   "cell_type": "markdown",
   "metadata": {},
   "source": [
    "### Wait a minute...\n",
    "\n",
    "What if I want to do local work to a *mutable* data type (i.e. a numpy array) but not have the change reflected back after function exit?  \n",
    "\n",
    "The answer is to not use *in place* operators like +=, \\*=, etc.  `var = var*2` creates a local copy of var and adds 2 to every entry."
   ]
  },
  {
   "cell_type": "code",
   "execution_count": 58,
   "metadata": {
    "collapsed": false
   },
   "outputs": [
    {
     "name": "stdout",
     "output_type": "stream",
     "text": [
      "before tester2,\n",
      " A =  [[ 1.  0.  0.]\n",
      " [ 0.  1.  0.]\n",
      " [ 0.  0.  1.]]\n",
      "within tester2, the passed variable is changed to, \n",
      " input =  [[ 2.  0.  0.]\n",
      " [ 0.  2.  0.]\n",
      " [ 0.  0.  2.]]\n",
      "after tester2,\n",
      " A =  [[ 1.  0.  0.]\n",
      " [ 0.  1.  0.]\n",
      " [ 0.  0.  1.]]\n"
     ]
    }
   ],
   "source": [
    "def tester2(var):\n",
    "    var = var*2    #if mutable, creates local copy of var.\n",
    "    print 'within tester2, the passed variable is changed to, \\n input = ',var\n",
    "    return \n",
    "\n",
    "A=np.eye(3) # creates 3x3 array with a_ii = 1, 0 otherwise.\n",
    "print 'before tester2,\\n A = ', A\n",
    "tester2(A)\n",
    "print 'after tester2,\\n A = ', A"
   ]
  },
  {
   "cell_type": "markdown",
   "metadata": {},
   "source": [
    "## Looping in Python\n",
    "\n",
    "### For loops\n",
    "\n",
    "**Syntax** \n",
    "```\n",
    "for iterator in list:\n",
    "    #indent for the loop\n",
    "    #do cool stuff in the loop\n",
    "#noindent to close the loop'\n",
    "```\n",
    "The list can be strings, for example:\n",
    "```\n",
    "for string in ('Alpha','Romeo','Sailor','Foxtrot'):\n",
    "    #string takes on values 'Alpha', 'Romeo', etc. in order.\n",
    "    print string\n",
    "```\n",
    "    \n",
    "\n",
    "You will commonly use the ``xrange`` command to build lists of numbers for iterating (see https://docs.python.org/2/library/functions.html#xrange).\n",
    "This is better than ``range`` for long sets of numbers or if you break the loop earlier.\n",
    "\n",
    "**SYNTAX** \n",
    "```\n",
    "xrange(stop)  #assumes start=0\n",
    "xrange(start, stop[, step])\n",
    "```\n",
    "\n",
    "Note that it **DOES NOT** execute the stop value.\n",
    "\n",
    "Let's  sum the first 20 terms of the geometric series corresponding to $2^{-x}$"
   ]
  },
  {
   "cell_type": "code",
   "execution_count": 9,
   "metadata": {
    "collapsed": false
   },
   "outputs": [
    {
     "name": "stdout",
     "output_type": "stream",
     "text": [
      "0 Sum =  1\n",
      "1 Sum =  1.5\n",
      "2 Sum =  1.75\n",
      "3 Sum =  1.875\n",
      "4 Sum =  1.9375\n",
      "5 Sum =  1.96875\n",
      "6 Sum =  1.984375\n",
      "7 Sum =  1.9921875\n",
      "8 Sum =  1.99609375\n",
      "9 Sum =  1.998046875\n",
      "10 Sum =  1.9990234375\n",
      "11 Sum =  1.99951171875\n",
      "12 Sum =  1.99975585938\n",
      "13 Sum =  1.99987792969\n",
      "14 Sum =  1.99993896484\n",
      "15 Sum =  1.99996948242\n",
      "16 Sum =  1.99998474121\n",
      "17 Sum =  1.99999237061\n",
      "18 Sum =  1.9999961853\n",
      "19 Sum =  1.99999809265\n",
      "Now start subtracting from the sum\n",
      "19 Sum =  1.9999961853\n",
      "18 Sum =  1.99999237061\n",
      "17 Sum =  1.99998474121\n",
      "16 Sum =  1.99996948242\n",
      "15 Sum =  1.99993896484\n",
      "14 Sum =  1.99987792969\n",
      "13 Sum =  1.99975585938\n",
      "12 Sum =  1.99951171875\n",
      "11 Sum =  1.9990234375\n",
      "10 Sum =  1.998046875\n",
      "9 Sum =  1.99609375\n",
      "8 Sum =  1.9921875\n",
      "7 Sum =  1.984375\n",
      "6 Sum =  1.96875\n",
      "5 Sum =  1.9375\n",
      "4 Sum =  1.875\n",
      "3 Sum =  1.75\n",
      "2 Sum =  1.5\n",
      "1 Sum =  1.0\n",
      "0 Sum =  0.0\n"
     ]
    }
   ],
   "source": [
    "sum=0\n",
    "for n in xrange(20):   #identical so xrange(0,20) or xrange(0,20,1)\n",
    "    sum += 2**(-n)\n",
    "    print n, 'Sum = ', sum\n",
    "    \n",
    "print 'Now start subtracting from the sum'\n",
    "    \n",
    "for n in xrange(19,-1,-1): #you need the colon\n",
    "    sum -= 2**(-n)  #all the things at the level of the loop get one indent\n",
    "    print n, 'Sum = ', sum #done with the loop variable"
   ]
  },
  {
   "cell_type": "markdown",
   "metadata": {},
   "source": [
    "### While loops \n",
    "\n",
    "We often use ***while*** loops for iterative methods, such as fixed-point iterations. These are typically used when we are unsure exactly how many iterations a process should take.\n",
    "\n",
    "```\n",
    "while condition:   #this condition is true\n",
    "    do something cool\n",
    "    update condition, or use break or continue for loop control\n",
    "#no indent as at end of loop\n",
    "```\n",
    "If the the ``condition`` never becomes false, then this will result in an infinite loop, so be careful. It is therefore fairly common practice to include some type of counter which tracks the number of iterations, and negating the condition if the counter reaches a specified value.\n",
    "\n",
    "You can also exit from any for loop by using ``break`` to exit the innermost loop, and ``continue`` to continue to the next iteration of this loop\n",
    "\n",
    "Let's look at an example where we are trying to iterate a logistic equation $x_{n+1}=a*x_n*(1-x_n)$ until we arrive at a fixed point:"
   ]
  },
  {
   "cell_type": "code",
   "execution_count": 5,
   "metadata": {
    "collapsed": false
   },
   "outputs": [
    {
     "name": "stdout",
     "output_type": "stream",
     "text": [
      "Iterating, X =  0.18\n",
      "This is skipped if the continue command is not commented out above.\n",
      "Iterating, X =  0.2952\n",
      "This is skipped if the continue command is not commented out above.\n",
      "Iterating, X =  0.41611392\n",
      "This is skipped if the continue command is not commented out above.\n",
      "Iterating, X =  0.485926251164\n",
      "This is skipped if the continue command is not commented out above.\n",
      "Iterating, X =  0.499603859187\n",
      "This is skipped if the continue command is not commented out above.\n",
      "Iterating, X =  0.499999686145\n",
      "This is skipped if the continue command is not commented out above.\n",
      "Iterating, X =  0.5\n",
      "This is skipped if the continue command is not commented out above.\n",
      "Fixed Point= 0.5\n"
     ]
    }
   ],
   "source": [
    "import math as m\n",
    "#from math import fabs  #absolute value function\n",
    "a = 2.0\n",
    "xnew = .1\n",
    "tol = 1E-8\n",
    "doit = True  #boolean True and False \n",
    "while doit:\n",
    "    xold = xnew\n",
    "    xnew *= a * (1-xnew)\n",
    "    if m.fabs(xnew-xold) > tol:\n",
    "        print 'Iterating, X = ', xnew\n",
    "        #continue  #play it again, Sam\n",
    "    else:\n",
    "        break\n",
    "    print 'This is skipped if the continue command is not commented out above.'\n",
    "print \"Fixed Point=\",xnew"
   ]
  },
  {
   "cell_type": "markdown",
   "metadata": {},
   "source": [
    "# Exercise: Simple Finite-Difference Discretization of a PDE\n",
    "\n",
    "Recall the following simplified form of the heat equation seen in Lecture I:\n",
    "\n",
    "\\begin{equation}\n",
    "\\Large \\left\\{\\begin{array}{l}\\frac{\\partial T}{\\partial t} - \\alpha_x\\frac{\\partial^2 T}{\\partial x^2}  - \\alpha_y\\frac{\\partial^2 T}{\\partial y^2} = f(x,y,t), &(x,y,t)\\in\\Omega\\times(0,t_f] \\\\\n",
    " \\nabla T(x,y,t) \\cdot \\mathbf{n} = g(x,y,t), & (x,y,t)\\in\\partial\\Omega\\times(0,t_f] \\\\\n",
    " T(x,y,0) = h(x,y), & (x,y)\\in\\Omega\n",
    " \\end{array}\\right.\n",
    "\\end{equation}\n",
    "\n",
    "Let $\\Omega = (0,1)\\times (0,1)$ and $t_f = \\ln(10)$ as before. \n",
    "\n",
    "Suppose to discretize $\\overline{\\Omega}$ we use a regular grid of $(M_x+1)\\times (M_y+1)$ points as shown in the figure below so that $$\\large x_i = i\\Delta_x, 0\\leq i\\leq M_x, \\text{ where } \\Delta_x = \\frac{1}{M_x},$$\n",
    "and\n",
    "$$ \\large y_j = j\\Delta_y, 0\\leq j\\leq M_y, \\text{ where } \\Delta_y = \\frac{1}{M_y}.$$\n",
    "![title](imgs/FD-mesh-space-2D.png)\n",
    "\n",
    "To discretize $[0,t_f]$, use a uniform grid of $N+1$ points $$\\large 0=t_0<t_1<t_2<\\cdots<t_N=t_f, \\text{ where } t_n = n\\Delta_t, 0\\leq n\\leq N, \\text{ and } \\Delta_t=\\frac{t_f}{N}.$$\n",
    "\n",
    "Let $T_{i,j}^n$ denote the approximation to $T(x,y,t)$ at the point in space-time given by $(x_i,y_j,t_n)$. \n",
    "\n",
    "Then, using centered finite difference schemes in space and a forward Euler scheme in space, we have the following equations that depend upon the choice of $(x_i,y_j)$.\n",
    "* If $0<i<M_x$ and $0<j<M_y$, then\n",
    "$$\n",
    "\\Large\n",
    "T_{i,j}^{n+1} = T_{i,j}^n + \\Delta_t \\left(\\alpha_x\\frac{T_{i+1,j}^n - 2T_{i,j}^n + T_{i-1,j}^n}{\\Delta_x^2} + \\alpha_y\\frac{T_{i,j+1}^n - 2T_{i,j}^n + T_{i,j-1}^n}{\\Delta_y^2} + f(x_i,y_j,t_n)\\right)\n",
    "$$\n",
    "\n",
    "* Else-If $i=0$ and $0\\leq j\\leq M_y$, then\n",
    "$$\n",
    "\\Large\n",
    "T_{i,j}^{n+1} = T_{i,j}^n + \\Delta_t \\left(\\alpha_x\\frac{T_{i+1,j}^n - 2T_{i,j}^n + \\color{blue}{\\left[T_{i+1,j}^n+2\\Delta_xg(x_i,y_j,t_n)\\right]}}{\\Delta_x^2} + \\alpha_y\\frac{T_{i,j+1}^n - 2T_{i,j}^n + T_{i,j-1}^n}{\\Delta_y^2} + f(x_i,y_j,t_n)\\right)\n",
    "$$\n",
    "\n",
    "* Else-If $i=M_x$ and $0\\leq j\\leq M_y$, then\n",
    "$$\n",
    "\\Large\n",
    "T_{i,j}^{n+1} = T_{i,j}^n + \\Delta_t \\left(\\alpha_x\\frac{\\color{blue}{\\left[T_{i-1,j}^n+2\\Delta_xg(x_i,y_j,t_n)\\right]} - 2T_{i,j}^n + T_{i-1,j}^n}{\\Delta_x^2} + \\alpha_y\\frac{T_{i,j+1}^n - 2T_{i,j}^n + T_{i,j-1}^n}{\\Delta_y^2} + f(x_i,y_j,t_n)\\right)\n",
    "$$\n",
    "\n",
    "* Else-If $0<i<M_x$ and $j=0$, then\n",
    "$$\n",
    "\\Large\n",
    "T_{i,j}^{n+1} = T_{i,j}^n + \\Delta_t \\left(\\alpha_x\\frac{T_{i+1,j}^n - 2T_{i,j}^n + T_{i-1,j}^n}{\\Delta_x^2} + \\alpha_y\\frac{T_{i,j+1}^n - 2T_{i,j}^n + \\color{red}{\\left[T_{i,j+1}^n+2\\Delta_yg(x_i,y_j,t_n)\\right]}}{\\Delta_y^2} + f(x_i,y_j,t_n)\\right)\n",
    "$$\n",
    "\n",
    "* Else (when $0<i<M_x$ and $j=M_y$), then\n",
    "$$\n",
    "\\Large\n",
    "T_{i,j}^{n+1} = T_{i,j}^n + \\Delta_t \\left(\\alpha_x\\frac{T_{i+1,j}^n - 2T_{i,j}^n + T_{i-1,j}^n}{h_x^2} + \\alpha_y\\frac{\\color{red}{\\left[T_{i,j-1}^n+2\\Delta_yg(x_i,y_j,t_n)\\right]} - 2T_{i,j}^n + T_{i,j-1}^n}{h_y^2} + f(x_i,y_j,t_n)\\right)\n",
    "$$\n",
    "\n",
    "Assume that $\\alpha_x=\\alpha_y = 1/2\\pi^2$, $h(x,y) = \\sin(\\pi x)\\sin(\\pi y)$, $f(x,y,t) \\equiv 0$ for all $(x,y,t)\\in\\Omega\\times(0,t_f]$, and $g(x,y,t)=-10\\pi \\exp(-t)$.\n",
    "### Do the following:\n",
    "\n",
    "* Step 1: Create user-defined functions called `eval_f`, `eval_h`, and `eval_g` for evaluating the \"data\" $f$, $h$, and $g$ at points in the space-time domain.\n",
    "\n",
    "\n",
    "* Step 2: Create a user-defined function called `get_T_new` for determining $T_{i,j}^{n+1}$ where the first three inputs are the indices `i`, `j`, and `T_old`, the next inputs are the required values of $f$ and $g$ followed by the values of `Delta_x`, `Delta_y`, and `Delta_t`, and for the last inputs ($\\alpha_x$ and $\\alpha_y$) use defaults values so that these inputs are optional. This function should include an if-elif-else structure and return a scalar `T_new`.\n",
    "\n",
    "\n",
    "* Step 3: Define  `M_x=20`, `M_y=20`, and `N=5*M_x` ***to-do: check if these actually give a stable answer***, and use nested for-loops for all space-time points $(x_i,y_j,t_n)$ to construct $T_{i,j}^{n}$, plot this approximation at $t_1$, $t_{N/2}$, and $t_{-1}$ using a single figure with subplots, and plot the errors at these same times using a single figure with subplots where we recall from the first lecture that the exact solution is given by\n",
    "$$\n",
    "  \\large  T(x,y,t) = 10 e^{-t} \\sin(\\pi x)\\sin(\\pi y)\n",
    "$$\n",
    "\n",
    "\n",
    "* Step 4: Compute and plot the maximum spatial error as a function of time. *Hint: Use `np.max`*\n",
    "\n",
    "\n",
    "* Step 5 [Optional]: Use a while-loop to reduce the `grid_spacing` by half until the maximum spatial error is less than `1E-4` and print out the `grid_spacing` required to reach this tolerance. "
   ]
  },
  {
   "cell_type": "markdown",
   "metadata": {},
   "source": [
    "Step 1. Create the user-defined functions for evaluating the data"
   ]
  },
  {
   "cell_type": "code",
   "execution_count": 4,
   "metadata": {
    "collapsed": true
   },
   "outputs": [],
   "source": [
    "import numpy as np\n",
    "\n",
    "def eval_f(x_i, y_j, t_n):\n",
    "    return 0\n",
    "\n",
    "def eval_h(x_i,y_j):\n",
    "    return\n",
    "\n",
    "def eval_g(x_i, y_j, t_n):\n",
    "    return"
   ]
  },
  {
   "cell_type": "markdown",
   "metadata": {},
   "source": [
    "Step 2. Create the user-defined function `get_T_new`"
   ]
  },
  {
   "cell_type": "code",
   "execution_count": 1,
   "metadata": {
    "collapsed": false
   },
   "outputs": [
    {
     "ename": "SyntaxError",
     "evalue": "invalid syntax (<ipython-input-1-4c63aa6d5b4c>, line 2)",
     "output_type": "error",
     "traceback": [
      "\u001b[1;36m  File \u001b[1;32m\"<ipython-input-1-4c63aa6d5b4c>\"\u001b[1;36m, line \u001b[1;32m2\u001b[0m\n\u001b[1;33m    if\u001b[0m\n\u001b[1;37m      ^\u001b[0m\n\u001b[1;31mSyntaxError\u001b[0m\u001b[1;31m:\u001b[0m invalid syntax\n"
     ]
    }
   ],
   "source": [
    "def get_T_new( i, j, T_old, f_val, g_val, Delta_x, Delta_y, Delta_t, alpha_x = 1/(2*np.pi**2), alpha_y = 1/(2*np.pi**2)):\n",
    "    if\n",
    "        T_new = \n",
    "    elif\n",
    "        T_new = \n",
    "    elif\n",
    "        T_new = \n",
    "    else\n",
    "        T_new = \n",
    "    return T_new"
   ]
  },
  {
   "cell_type": "markdown",
   "metadata": {},
   "source": [
    "Step 3: Define the grid and loop through the space-time points to evaluate $T_{i,j}^n$"
   ]
  },
  {
   "cell_type": "code",
   "execution_count": null,
   "metadata": {
    "collapsed": true
   },
   "outputs": [],
   "source": [
    "grid_spacing = .05\n",
    "\n"
   ]
  },
  {
   "cell_type": "markdown",
   "metadata": {},
   "source": []
  },
  {
   "cell_type": "code",
   "execution_count": null,
   "metadata": {
    "collapsed": true
   },
   "outputs": [],
   "source": []
  },
  {
   "cell_type": "markdown",
   "metadata": {},
   "source": []
  },
  {
   "cell_type": "code",
   "execution_count": null,
   "metadata": {
    "collapsed": true
   },
   "outputs": [],
   "source": []
  },
  {
   "cell_type": "markdown",
   "metadata": {},
   "source": []
  },
  {
   "cell_type": "code",
   "execution_count": null,
   "metadata": {
    "collapsed": true
   },
   "outputs": [],
   "source": []
  }
 ],
 "metadata": {
  "anaconda-cloud": {},
  "kernelspec": {
   "display_name": "Python 2",
   "language": "python",
   "name": "python2"
  },
  "language_info": {
   "codemirror_mode": {
    "name": "ipython",
    "version": 2
   },
   "file_extension": ".py",
   "mimetype": "text/x-python",
   "name": "python",
   "nbconvert_exporter": "python",
   "pygments_lexer": "ipython2",
   "version": "2.7.11"
  }
 },
 "nbformat": 4,
 "nbformat_minor": 0
}
