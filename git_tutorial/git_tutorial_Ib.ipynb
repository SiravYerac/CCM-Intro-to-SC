{
 "cells": [
  {
   "cell_type": "markdown",
   "metadata": {},
   "source": [
    "# Git Tutorial Ib: Branching & Merging\n",
    "\n",
    "Branches allow development on multiple indpendent modifications simultaneously. A branch could be used for:\n",
    "\n",
    "* Adding a new feature\n",
    "* Fixing a bug\n",
    "* Trying out potential changes \n",
    "\n",
    "You can easily and instantly switch between branches to work with different sets of changes or choose which changes to keep permanently.\n",
    "\n",
    "The following figures are taken from: \n",
    " https://git-scm.com/book/en/v1/Git-Branching-What-a-Branch-Is"
   ]
  },
  {
   "cell_type": "code",
   "execution_count": 1,
   "metadata": {
    "collapsed": true
   },
   "outputs": [],
   "source": [
    "cd ~/my_test_repo"
   ]
  },
  {
   "cell_type": "markdown",
   "metadata": {},
   "source": [
    "To create a new branch, we use the **git branch (branch name)** command.\n",
    "\n",
    "Let's create a branch called *testing*\n",
    "\n",
    "    git branch testing\n",
    "\n",
    "![Current Repo Status](branching2.png)"
   ]
  },
  {
   "cell_type": "code",
   "execution_count": 2,
   "metadata": {
    "collapsed": false
   },
   "outputs": [],
   "source": [
    "git branch testing"
   ]
  },
  {
   "cell_type": "markdown",
   "metadata": {},
   "source": [
    "The **git branch** command by itself lists all branches.\n",
    "\n",
    "    git branch"
   ]
  },
  {
   "cell_type": "code",
   "execution_count": 3,
   "metadata": {
    "collapsed": false
   },
   "outputs": [
    {
     "name": "stdout",
     "output_type": "stream",
     "text": [
      "* \u001b[32mmaster\u001b[m\n",
      "  testing\u001b[m\n"
     ]
    }
   ],
   "source": [
    "git branch"
   ]
  },
  {
   "cell_type": "markdown",
   "metadata": {
    "collapsed": false
   },
   "source": [
    "![](branching.png)"
   ]
  },
  {
   "cell_type": "markdown",
   "metadata": {},
   "source": [
    "We now switch to the *testing* branch by using **git checkout (branch name)**\n",
    "The command sequence is:\n",
    "\n",
    "    git checkout testing\n",
    "We verify that we have changed branches by typing in\n",
    "\n",
    "    git status"
   ]
  },
  {
   "cell_type": "code",
   "execution_count": 4,
   "metadata": {
    "collapsed": false
   },
   "outputs": [
    {
     "name": "stdout",
     "output_type": "stream",
     "text": [
      "Switched to branch 'testing'\n",
      "On branch testing\n",
      "nothing to commit, working tree clean\n"
     ]
    }
   ],
   "source": [
    "git checkout testing\n",
    "git status"
   ]
  },
  {
   "cell_type": "markdown",
   "metadata": {
    "collapsed": false
   },
   "source": [
    "![](branching3.png)\n",
    "\n",
    "In your text editor, modify hello_world.py, maybe to print some\n",
    "extra statement.  Save it, and then do a *git add*, and then a  *git commit*"
   ]
  },
  {
   "cell_type": "code",
   "execution_count": 5,
   "metadata": {
    "collapsed": false
   },
   "outputs": [
    {
     "name": "stdout",
     "output_type": "stream",
     "text": [
      "On branch testing\n",
      "Changes not staged for commit:\n",
      "  (use \"git add <file>...\" to update what will be committed)\n",
      "  (use \"git checkout -- <file>...\" to discard changes in working directory)\n",
      "\n",
      "\t\u001b[31mmodified:   hello_world.py\u001b[m\n",
      "\n",
      "Untracked files:\n",
      "  (use \"git add <file>...\" to include in what will be committed)\n",
      "\n",
      "\t\u001b[31mhello_world.py~\u001b[m\n",
      "\n",
      "no changes added to commit (use \"git add\" and/or \"git commit -a\")\n",
      "[testing 1b192e5] testing new hello_world\n",
      " 1 file changed, 1 insertion(+)\n"
     ]
    }
   ],
   "source": [
    "git status\n",
    "git add hello_world.py\n",
    "git commit -m \"testing new hello_world\""
   ]
  },
  {
   "cell_type": "markdown",
   "metadata": {
    "collapsed": false
   },
   "source": [
    "![](branching4.png)\n",
    "\n",
    "Now let's switch back to the *master* branch. \n",
    "\n",
    "Type:\n",
    "    git checkout master"
   ]
  },
  {
   "cell_type": "code",
   "execution_count": 6,
   "metadata": {
    "collapsed": false
   },
   "outputs": [
    {
     "name": "stdout",
     "output_type": "stream",
     "text": [
      "Switched to branch 'master'\n",
      "Your branch is up-to-date with 'my_github/master'.\n"
     ]
    }
   ],
   "source": [
    "git checkout master"
   ]
  },
  {
   "cell_type": "markdown",
   "metadata": {
    "collapsed": false
   },
   "source": [
    "![](branching5.png)\n",
    "\n",
    "Now we change *hello_world.py* via the text editor(you will have to reload) on the master branch.  We add a another new feature to the code, then git add, then git commit"
   ]
  },
  {
   "cell_type": "code",
   "execution_count": 7,
   "metadata": {
    "collapsed": false
   },
   "outputs": [
    {
     "name": "stdout",
     "output_type": "stream",
     "text": [
      "[master 6562a4f] Added new feature to master\n",
      " 1 file changed, 1 insertion(+)\n"
     ]
    }
   ],
   "source": [
    "git add hello_world.py\n",
    "git commit -m \"Added new feature to master\""
   ]
  },
  {
   "cell_type": "markdown",
   "metadata": {
    "collapsed": false
   },
   "source": [
    "![](branching6.png)\n",
    "\n",
    "Now let's try and merge the *testing* and *master* branches, so that both features are now part of the *master* branch. \n",
    "\n",
    "The syntax is **git merge branch1 branch2**.  If you leave off branch2 git assumes the 2nd target is *master*. "
   ]
  },
  {
   "cell_type": "code",
   "execution_count": 8,
   "metadata": {
    "collapsed": false
   },
   "outputs": [
    {
     "name": "stdout",
     "output_type": "stream",
     "text": [
      "Auto-merging hello_world.py\n",
      "Merge made by the 'recursive' strategy.\n",
      " hello_world.py | 1 \u001b[32m+\u001b[m\n",
      " 1 file changed, 1 insertion(+)\n"
     ]
    }
   ],
   "source": [
    "git merge testing -m \"merging tester and master\""
   ]
  },
  {
   "cell_type": "markdown",
   "metadata": {},
   "source": [
    "Usually this will work *like magic*, especially when you are just adding new files, or removing blocks of code.  However, sometimes you will get a **MERGE CONFLICT**"
   ]
  },
  {
   "cell_type": "markdown",
   "metadata": {},
   "source": [
    "## Resolving A Merge Conflict\n",
    "\n",
    "Open up the file with the merge conflict in your editor.\n",
    "You'll see something like\n",
    "\n",
    "\n",
    "    some ok code\n",
    "    <<<<<<< HEAD\n",
    "    change made on master branch\n",
    "    =======\n",
    "    change made on testing branch\n",
    "    >>>>>>> another-feature\n",
    "    more ok code\n",
    "\n",
    "Fix the file the way *you* want it manually, save, git add, git commit.\n",
    "\n",
    "Let's create a manual merge conflict by switching the order in which names appear in the *testing* branch and also add a name, \n",
    "and then resolve it.\n"
   ]
  },
  {
   "cell_type": "code",
   "execution_count": 9,
   "metadata": {
    "collapsed": false
   },
   "outputs": [
    {
     "name": "stdout",
     "output_type": "stream",
     "text": [
      "Counting objects: 9, done.\n",
      "Delta compression using up to 8 threads.\n",
      "Compressing objects: 100% (9/9), done.\n",
      "Writing objects: 100% (9/9), 895 bytes | 0 bytes/s, done.\n",
      "Total 9 (delta 3), reused 0 (delta 0)\n",
      "remote: Resolving deltas: 100% (3/3), done.\u001b[K\n",
      "To https://github.com/variscarey/my_test_repo\n",
      "   34a3794..1e28a81  master -> master\n"
     ]
    }
   ],
   "source": [
    "git push my_github master\n"
   ]
  },
  {
   "cell_type": "code",
   "execution_count": 10,
   "metadata": {
    "collapsed": false
   },
   "outputs": [
    {
     "name": "stdout",
     "output_type": "stream",
     "text": [
      "Switched to branch 'testing'\n"
     ]
    }
   ],
   "source": [
    "git checkout testing"
   ]
  },
  {
   "cell_type": "code",
   "execution_count": 11,
   "metadata": {
    "collapsed": false
   },
   "outputs": [
    {
     "name": "stdout",
     "output_type": "stream",
     "text": [
      "[testing b5ec942] added extra name and switched order\n",
      " 1 file changed, 1 insertion(+), 1 deletion(-)\n"
     ]
    }
   ],
   "source": [
    "git add hello_world.py\n",
    "git commit -m \"added extra name and switched order\""
   ]
  },
  {
   "cell_type": "code",
   "execution_count": 12,
   "metadata": {
    "collapsed": false
   },
   "outputs": [
    {
     "name": "stdout",
     "output_type": "stream",
     "text": [
      "Switched to branch 'master'\n",
      "Your branch is up-to-date with 'my_github/master'.\n",
      "Auto-merging hello_world.py\n",
      "CONFLICT (content): Merge conflict in hello_world.py\n",
      "Automatic merge failed; fix conflicts and then commit the result.\n"
     ]
    },
    {
     "ename": "",
     "evalue": "1",
     "output_type": "error",
     "traceback": []
    }
   ],
   "source": [
    "git checkout master\n",
    "git merge testing -m \"adding new feature from testing\""
   ]
  },
  {
   "cell_type": "code",
   "execution_count": 13,
   "metadata": {
    "collapsed": false
   },
   "outputs": [
    {
     "name": "stdout",
     "output_type": "stream",
     "text": [
      "[master 9998bc9] resolved Merge Conflict\n"
     ]
    }
   ],
   "source": [
    "git add hello_world.py\n",
    "git commit -m \"resolved Merge Conflict\""
   ]
  },
  {
   "cell_type": "code",
   "execution_count": 14,
   "metadata": {
    "collapsed": false
   },
   "outputs": [
    {
     "name": "stdout",
     "output_type": "stream",
     "text": [
      "Counting objects: 6, done.\n",
      "Delta compression using up to 8 threads.\n",
      "Compressing objects: 100% (6/6), done.\n",
      "Writing objects: 100% (6/6), 651 bytes | 0 bytes/s, done.\n",
      "Total 6 (delta 2), reused 0 (delta 0)\n",
      "remote: Resolving deltas: 100% (2/2), completed with 1 local object.\u001b[K\n",
      "To https://github.com/variscarey/my_test_repo\n",
      "   1e28a81..9998bc9  master -> master\n"
     ]
    }
   ],
   "source": [
    "git push my_github master"
   ]
  },
  {
   "cell_type": "markdown",
   "metadata": {},
   "source": [
    "Let's take a break(if we haven't already).  When we resume we'll look at\n",
    "\n",
    "* collaborating via GitHub \n",
    "* making a pull request\n",
    "* reporting bugs, issues, and requesting feature\n",
    "* pulling content in from a remote branch"
   ]
  }
 ],
 "metadata": {
  "anaconda-cloud": {},
  "kernelspec": {
   "display_name": "Bash",
   "language": "bash",
   "name": "bash"
  },
  "language_info": {
   "codemirror_mode": "shell",
   "file_extension": ".sh",
   "mimetype": "text/x-sh",
   "name": "bash"
  }
 },
 "nbformat": 4,
 "nbformat_minor": 1
}
