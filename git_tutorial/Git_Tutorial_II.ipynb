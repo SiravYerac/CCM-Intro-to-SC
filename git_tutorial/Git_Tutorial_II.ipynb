{
 "cells": [
  {
   "cell_type": "markdown",
   "metadata": {},
   "source": [
    "# Git Tutorial Part II: Collaborative Development\n",
    "\n",
    "What we are about to discuss uses the **Shared Repository Model**, which is the most commonly used model.\n",
    "\n",
    "## Forking \n",
    "\n",
    "Point your browser to:\n",
    "https://github.com/variscarey/shared_test_repo\n",
    "\n",
    "In the upper right hand corner of the page there is button to **Fork** the repo-this give you a copy of the repo on *your* github account.\n",
    "\n",
    "## Making a Pull Request\n",
    "\n",
    "We're going to add a \"feature\" to hello_world.py(your name or clever saying) in our *shared code base* by these steps:\n",
    "\n",
    "1. Fork the repo\n",
    "2. Make a local clone from Github.\n",
    "3. Add your feature(new branch-good code practice)\n",
    "4. Push your feature to your repository on Github\n",
    "5. Make a **PULL REQUEST** on Github.\n",
    "\n",
    "We've covered how to do steps 1-4 already in Tutorial I.  I've left a blank code box below where we can work through the steps together."
   ]
  },
  {
   "cell_type": "code",
   "execution_count": null,
   "metadata": {
    "collapsed": true
   },
   "outputs": [],
   "source": []
  },
  {
   "cell_type": "markdown",
   "metadata": {},
   "source": [
    "Pull requests let you notify other developers about changes you've pushed to a repository on GitHub. Once a pull request is opened, you can \n",
    "* Discuss and review the potential changes with collaborators \n",
    "* add additional commits before the changes are merged into the repository.\n",
    "\n",
    "To actually make a pull request, click on **NEW PULL REQUEST** on the repository (shared_test_repo) page."
   ]
  },
  {
   "cell_type": "markdown",
   "metadata": {},
   "source": [
    "*From Github PR Tutorial*\n",
    "Once you've created a pull request, you can push commits from your topic branch to add them to your existing pull request. These commits will appear in chronological order within your pull request and the changes will be visible in the \"Files changed\" tab.\n",
    "\n",
    "Other contributors can:\n",
    "* review your proposed changes \n",
    "* add review comments \n",
    "* contribute to the pull request discussion \n",
    "* add commits to the pull request.\n",
    "\n",
    "After you're happy with the proposed changes, you can merge the pull request. If you're working in a shared repository model, the proposed changes will be merged from the head branch to the base branch that was specified in the pull request.\n",
    "\n",
    "On Github, you can give multiple people push access, the ability to merge pull requests or push directly to this repo.  This allows you to avoid the PR process.\n",
    "\n",
    "I'll walk through doing the merge on Github for some of the pull requests now.\n",
    "\n",
    "\n",
    "## NEVER USE THE FORCE\n",
    "\n",
    "\"Use force push only as a last resort when everything else fails. Things might get ugly for you and for your repository.\"\n"
   ]
  },
  {
   "cell_type": "markdown",
   "metadata": {},
   "source": [
    "## Unit Testing\n",
    "\n",
    "Typically, a good code base should involve unit testing, tests of code portions that produce expected output.  When the code is changed, the unit tests are run, and if the output fails, it fails the test.  Typically one doesn't *merge* pull requests if it fais existing units tests.\n",
    "\n",
    "Here's the code from quad_form.py in our shared repo\n",
    "\n",
    "    def quad_form(a,b,c):\n",
    "\n",
    "        from math import sqrt\n",
    "        ''' expects inputs a,b,c, coefficients of ax^2+bx+c, returns tuple of roots. '''\n",
    "        discrim=b**2-4*a*c\n",
    "        root1=(-b+sqrt(discrim))/(2*a)\n",
    "        root2=(-b-sqrt(discrim))/(2*a)\n",
    "        return root1,root2\n",
    "\n",
    "I've pasted the corresponding unit test below.  It evaluates the formula for $x^2+x-1$ and compares against the analytic formula. \n",
    "\n",
    "A better practice would use a value of $\\sqrt{5}$ that actually doesn't come from a system library (here python math) but is precomputed elsewhere and transcribed."
   ]
  },
  {
   "cell_type": "code",
   "execution_count": 17,
   "metadata": {
    "collapsed": false
   },
   "outputs": [
    {
     "name": "stdout",
     "output_type": "stream",
     "text": [
      "/Users/Undertrick/shared_repo\n",
      "Pass Unit Test 1\n"
     ]
    }
   ],
   "source": [
    "%cd ~/shared_repo\n",
    "import math\n",
    "import quad_form as qf\n",
    "\n",
    "tol=1E-15\n",
    "a=1.0\n",
    "b=1.0\n",
    "c=-1.0\n",
    "roots=qf.quad_form(a,b,c)\n",
    "sqr5=math.sqrt(5)\n",
    "r1=.5*(-1.0+sqr5)\n",
    "r2=.5*(-1.0-sqr5)\n",
    "err1=math.fabs(roots[0]-r1)\n",
    "err2=math.fabs(roots[1]-r2)\n",
    "if err1 < tol and err2 < tol:\n",
    "    print('Pass Unit Test 1')\n",
    "else:\n",
    "    print('Fail Unit Test 1'),err1,err2"
   ]
  },
  {
   "cell_type": "markdown",
   "metadata": {},
   "source": [
    "Let's spend of the rest of the time adding features to quad_form.py and updating the unit_test file to test your new feature to see if it works properly.\n",
    "\n",
    "A few suggested features:\n",
    "1. Error handling in the case of imaginary roots\n",
    "2. Allowing complex coefficients in the quadratic\n",
    "3. Corner cases: linear functions, zero functions\n",
    "4. Harder: numerically stable implementation of quadratic formula.\n",
    "\n",
    "If $-b \\approx \\sqrt{b^2-4ac}$, the quadratic formula can have large cancellation due to subtraction of floating point numbers.\n",
    "Modify the algorithm to cater to this scenario.  The solution is to compute one root without subtraction and then use that fact that the **product** of the roots is equal to $c/a$ to compute the second root.\n",
    "\n",
    "In all cases, add your feature to your github repository, update a unit test, and make a pull request for my github repository, which is (repeated) https://github.com/variscarey/shared_test_repo"
   ]
  }
 ],
 "metadata": {
  "kernelspec": {
   "display_name": "Python [conda root]",
   "language": "python",
   "name": "conda-root-py"
  },
  "language_info": {
   "codemirror_mode": {
    "name": "ipython",
    "version": 2
   },
   "file_extension": ".py",
   "mimetype": "text/x-python",
   "name": "python",
   "nbconvert_exporter": "python",
   "pygments_lexer": "ipython2",
   "version": "2.7.12"
  }
 },
 "nbformat": 4,
 "nbformat_minor": 1
}
