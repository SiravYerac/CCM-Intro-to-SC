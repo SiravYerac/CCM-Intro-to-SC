{
 "cells": [
  {
   "cell_type": "markdown",
   "metadata": {},
   "source": [
    "# Git Tutorial Part II: Collaborative Development\n",
    "\n",
    "What we are about to discuss uses the **Shared Repository Model**, which is the most commonly used model.\n",
    "\n",
    "## Forking \n",
    "\n",
    "Point your browser to:\n",
    "https://github.com/variscarey/shared_test_repo\n",
    "\n",
    "In the upper right hand corner of the page there is button to **Fork** the repo-this give you a copy of the repo on *your* github account.\n",
    "\n",
    "## Making a Pull Request\n",
    "\n",
    "We're going to add a \"feature\" to hello_world.py(your name or clever saying) in our *shared code base* by these steps:\n",
    "\n",
    "1. Fork the repo\n",
    "2. Make a local clone from Github.\n",
    "3. Add your feature(new branch-good code practice)\n",
    "4. Push your feature to your repository on Github\n",
    "5. Make a **PULL REQUEST** on Github.\n",
    "\n",
    "We've covered how to do steps 1-4 already in Tutorial I.  I've left a blank code box below where we can work through the steps together."
   ]
  },
  {
   "cell_type": "code",
   "execution_count": null,
   "metadata": {
    "collapsed": true
   },
   "outputs": [],
   "source": [
    "cd ~/\n",
    "mkdir -p shared_test_repo\n",
    "git clone https://github.com/variscarey/shared_test_repo.git"
   ]
  },
  {
   "cell_type": "code",
   "execution_count": null,
   "metadata": {
    "collapsed": false
   },
   "outputs": [],
   "source": [
    "#add code to hello_world.py\n",
    "git add hello_world.py\n",
    "git commit -m \"added random line to code\"\n",
    "git remote -v  #checking to see where it knows to push\n",
    "git push origin master"
   ]
  },
  {
   "cell_type": "markdown",
   "metadata": {},
   "source": [
    "Pull requests let you notify other developers about changes you've pushed to a repository on GitHub. Once a pull request is opened, you can \n",
    "* Discuss and review the potential changes with collaborators \n",
    "* add additional commits before the changes are merged into the repository.\n",
    "\n",
    "To actually make a pull request, click on **NEW PULL REQUEST** on the repository (shared_test_repo) page."
   ]
  },
  {
   "cell_type": "markdown",
   "metadata": {},
   "source": [
    "*From Github PR Tutorial*\n",
    "Once you've created a pull request, you can push commits from your topic branch to add them to your existing pull request. These commits will appear in chronological order within your pull request and the changes will be visible in the \"Files changed\" tab.\n",
    "\n",
    "Other contributors can:\n",
    "* review your proposed changes \n",
    "* add review comments \n",
    "* contribute to the pull request discussion \n",
    "* add commits to the pull request.\n",
    "\n",
    "After you're happy with the proposed changes, you can merge the pull request. If you're working in a shared repository model, the proposed changes will be merged from the head branch to the base branch that was specified in the pull request.\n",
    "\n",
    "On Github, you can give multiple people push access, the ability to merge pull requests or push directly to this repo.  This allows you to avoid the PR process.\n",
    "\n",
    "I'll demo doing the merge on Github for some of your pull requests now.\n",
    "\n",
    "\n",
    "## NEVER USE THE FORCE"
   ]
  },
  {
   "cell_type": "code",
   "execution_count": null,
   "metadata": {
    "collapsed": false
   },
   "outputs": [],
   "source": [
    "![](Vaders_revelation.png)"
   ]
  },
  {
   "cell_type": "markdown",
   "metadata": {},
   "source": [
    "\"Use force push only as a last resort when everything else fails. Things might get ugly for you and for your repository.\""
   ]
  },
  {
   "cell_type": "markdown",
   "metadata": {},
   "source": [
    "## Pulling in from another repository \n",
    "\n",
    "Just like there is git push, there is git pull.  Say you forked a public repo to add a feature, but there are several later bugfixes that you need to pull in from downstream.\n",
    "\n",
    "The process is simple.  Make sure you've committed your work (or use *git stash* to remember where you where before you pulled in the new work), and do\n",
    "\n",
    "    git pull <remote repo ref> <remote branch to pull in>\n",
    "\n",
    "The defaults are identical to before, origin for the repo ref and master for the branch.\n",
    "    \n",
    "I'm going to add a new branch to *my* shared repo(this is after you have forked it). \n",
    "\n",
    "The sequence of my steps is\n",
    "\n",
    "    cd ~/shared-repo\n",
    "    git checkout -b add_date #create a branch + check it out\n",
    "    #open editor and add command to add the date\n",
    "    git add hello_world.py\n",
    "    git commit -m \"added date to hello_world\"\n",
    "    git push origin add_date\n",
    "\n",
    "Now you add *my remote repository* as a new remote on your local repo.  This allows you to pull in changes from my repository locally."
   ]
  },
  {
   "cell_type": "code",
   "execution_count": null,
   "metadata": {
    "collapsed": false
   },
   "outputs": [],
   "source": [
    "git remote add vc_repo https://github.com/variscarey/shared_test_repo\n",
    "git pull vc_repo add_date\n",
    "#this will pull the add_date branch into whatever local branch \n",
    "#you are working on\n"
   ]
  },
  {
   "cell_type": "markdown",
   "metadata": {},
   "source": [
    "## Options to *git pull*\n",
    "\n",
    "*git pull* is a combination of *git fetch* and *git merge*.  If you want to update your index/history, you can to a git fetch, which will not make any local changes, just update your index to reflect changes in the remote.   You will then have to *git merge* the changes after reviewing them.\n"
   ]
  },
  {
   "cell_type": "code",
   "execution_count": null,
   "metadata": {
    "collapsed": true
   },
   "outputs": [],
   "source": []
  }
 ],
 "metadata": {
  "kernelspec": {
   "display_name": "Bash",
   "language": "bash",
   "name": "bash"
  },
  "language_info": {
   "codemirror_mode": "shell",
   "file_extension": ".sh",
   "mimetype": "text/x-sh",
   "name": "bash"
  }
 },
 "nbformat": 4,
 "nbformat_minor": 1
}
