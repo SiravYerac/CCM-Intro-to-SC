{
 "cells": [
  {
   "cell_type": "markdown",
   "metadata": {},
   "source": [
    "# Git Tutorial Part II: Collaborative Development\n",
    "\n",
    "What we are about to discuss uses the **Shared Repository Model**, which is the most commonly used model.\n",
    "\n",
    "## Forking \n",
    "\n",
    "Point your browser to:\n",
    "https://github.com/variscarey/shared_test_repo\n",
    "\n",
    "In the upper right hand corner of the page there is button to **Fork** the repo-this gives you a copy of the repo on *your* github account.\n",
    "\n",
    "## Making a Pull Request\n",
    "\n",
    "We're going to add a \"feature\" to hello_world.py(your name or clever saying) in our *shared code base* by these steps:\n",
    "\n",
    "1. Fork the repo\n",
    "2. Make a local clone from Github.\n",
    "3. Add your feature(new branch-good code practice)\n",
    "4. Push your feature to your repository on Github\n",
    "5. Make a **PULL REQUEST** on Github.\n",
    "\n",
    "We've covered how to do steps 1-4 already in Tutorial I.  I've left a blank code box below where we can work through the steps together."
   ]
  },
  {
   "cell_type": "code",
   "execution_count": 1,
   "metadata": {
    "collapsed": false
   },
   "outputs": [
    {
     "name": "stdout",
     "output_type": "stream",
     "text": [
      "Cloning into 'shared_test_repo'...\n",
      "remote: Counting objects: 25, done.\u001b[K\n",
      "remote: Total 25 (delta 0), reused 0 (delta 0), pack-reused 25\u001b[K\n",
      "Unpacking objects: 100% (25/25), done.\n",
      "Checking connectivity... done.\n"
     ]
    }
   ],
   "source": [
    "cd ~/\n",
    "mkdir -p shared_test_repo\n",
    "git clone https://github.com/variscarey/shared_test_repo.git"
   ]
  },
  {
   "cell_type": "code",
   "execution_count": 3,
   "metadata": {
    "collapsed": true
   },
   "outputs": [],
   "source": [
    "#add code to hello_world.py\n",
    "cd ~/shared_test_repo\n",
    "echo \"Fall 2017 Tutorial additions\" >> hello_world.py"
   ]
  },
  {
   "cell_type": "code",
   "execution_count": 4,
   "metadata": {
    "collapsed": false
   },
   "outputs": [
    {
     "name": "stdout",
     "output_type": "stream",
     "text": [
      "On branch master\n",
      "Your branch is up-to-date with 'origin/master'.\n",
      "Changes not staged for commit:\n",
      "  (use \"git add <file>...\" to update what will be committed)\n",
      "  (use \"git checkout -- <file>...\" to discard changes in working directory)\n",
      "\n",
      "\t\u001b[31mmodified:   hello_world.py\u001b[m\n",
      "\n",
      "no changes added to commit (use \"git add\" and/or \"git commit -a\")\n"
     ]
    }
   ],
   "source": [
    "git status"
   ]
  },
  {
   "cell_type": "code",
   "execution_count": 5,
   "metadata": {
    "collapsed": false
   },
   "outputs": [
    {
     "name": "stdout",
     "output_type": "stream",
     "text": [
      "[master 47cc277] added new line to show new tutorial adds\n",
      " 1 file changed, 1 insertion(+)\n"
     ]
    }
   ],
   "source": [
    "git add hello_world.py\n",
    "git commit -m \"added new line to show new tutorial adds\""
   ]
  },
  {
   "cell_type": "code",
   "execution_count": 6,
   "metadata": {
    "collapsed": false
   },
   "outputs": [
    {
     "name": "stdout",
     "output_type": "stream",
     "text": [
      "origin\thttps://github.com/variscarey/shared_test_repo.git (fetch)\n",
      "origin\thttps://github.com/variscarey/shared_test_repo.git (push)\n",
      "Counting objects: 3, done.\n",
      "Delta compression using up to 8 threads.\n",
      "Compressing objects: 100% (3/3), done.\n",
      "Writing objects: 100% (3/3), 335 bytes | 0 bytes/s, done.\n",
      "Total 3 (delta 2), reused 0 (delta 0)\n",
      "remote: Resolving deltas: 100% (2/2), completed with 2 local objects.\u001b[K\n",
      "To https://github.com/variscarey/shared_test_repo.git\n",
      "   95e55d7..47cc277  master -> master\n"
     ]
    }
   ],
   "source": [
    "git remote -v  #checking to see where it knows to push\n",
    "git push origin master"
   ]
  },
  {
   "cell_type": "markdown",
   "metadata": {},
   "source": [
    "Pull requests let you notify other developers about changes you've pushed to a repository on GitHub. Once a pull request is opened, you can \n",
    "* Discuss and review the potential changes with collaborators \n",
    "* add additional commits before the changes are merged into the repository.\n",
    "\n",
    "To actually make a pull request, click on **NEW PULL REQUEST** on the repository (shared_test_repo) page."
   ]
  },
  {
   "cell_type": "markdown",
   "metadata": {},
   "source": [
    "*From Github PR Tutorial*\n",
    "Once you've created a pull request, you can push commits from your topic branch to add them to your existing pull request. These commits will appear in chronological order within your pull request and the changes will be visible in the \"Files changed\" tab.\n",
    "\n",
    "Other contributors can:\n",
    "* review your proposed changes \n",
    "* add review comments \n",
    "* contribute to the pull request discussion \n",
    "* add commits to the pull request.\n",
    "\n",
    "After you're happy with the proposed changes, you can merge the pull request. If you're working in a shared repository model, the proposed changes will be merged from the head branch to the base branch that was specified in the pull request.\n",
    "\n",
    "On Github, you can give multiple people push access, the ability to merge pull requests or push directly to this repo.  This allows you to avoid the PR process.\n",
    "\n",
    "I'll demo doing the merge on Github for some of your pull requests now.\n",
    "\n",
    "\n",
    "## NEVER USE THE FORCE\n",
    "\n",
    "![](Vaders_revelation.png)"
   ]
  },
  {
   "cell_type": "markdown",
   "metadata": {},
   "source": [
    "### \"Use force push only as a last resort when everything else fails. Things might get ugly for you and for your repository.\""
   ]
  },
  {
   "cell_type": "markdown",
   "metadata": {},
   "source": [
    "## Pulling in from another repository \n",
    "\n",
    "Just like there is git push, there is git pull.  Say you forked a public repo to add a feature, but there are several later bugfixes that you need to pull in from downstream.\n",
    "\n",
    "The process is simple.  Make sure you've committed your work (or use *git stash* to remember where you where before you pulled in the new work), and do\n",
    "\n",
    "    git pull <remote repo ref> <remote branch to pull in>\n",
    "\n",
    "The defaults are identical to before, origin for the repo ref and master for the branch.\n",
    "    \n",
    "I'm going to add a new branch to *my* shared repo(this is after you have forked it). \n",
    "\n",
    "The sequence of my steps is\n",
    "\n",
    "    cd ~/shared-repo\n",
    "    git checkout -b add_date #create a branch + check it out\n",
    "    #open editor and add command to add the date\n",
    "    git add hello_world.py\n",
    "    git commit -m \"added date to hello_world\"\n",
    "    git push origin add_date\n",
    "\n",
    "Now you add *my remote repository* as a new remote on your local repo.  This allows you to pull in changes from my repository locally."
   ]
  },
  {
   "cell_type": "code",
   "execution_count": null,
   "metadata": {
    "collapsed": false
   },
   "outputs": [],
   "source": [
    "git remote add vc_repo https://github.com/variscarey/shared_test_repo\n",
    "git pull vc_repo add_date\n",
    "#this will pull the add_date branch into whatever local branch \n",
    "#you are working on\n"
   ]
  },
  {
   "cell_type": "markdown",
   "metadata": {},
   "source": [
    "## Options to *git pull*\n",
    "\n",
    "*git pull* is a combination of *git fetch* and *git merge*.  If you want to update your index/history, you can to a git fetch, which will not make any local changes, just update your index to reflect changes in the remote.   You will then have to *git merge* the changes after reviewing them.\n"
   ]
  },
  {
   "cell_type": "markdown",
   "metadata": {
    "collapsed": true
   },
   "source": [
    "## Optional material:  unit testing \n",
    "\n",
    "You can clone the CCM-Intro-to-SC repo(if you haven't already) to check out the the jupyter notebook covering this topic: https://github.com/variscarey/CCM-Intro-to-SC"
   ]
  },
  {
   "cell_type": "markdown",
   "metadata": {},
   "source": [
    "## Final Exercise\n",
    "\n",
    "* Form small groups.  \n",
    "* Pick a group member's fork of shared_test_repo to be the \"main repo\"  \n",
    "* Have someone *open an issue* on the main branch.  Maybe add last names.  Maybe sort the entries beforing printing.  Add a newline. Be creative!\n",
    "* Have someone implement a solution to that issue and make a pull request from their github repo to the \"main repo\"\n",
    "* If time permits, open another issue and repeat the process."
   ]
  }
 ],
 "metadata": {
  "kernelspec": {
   "display_name": "Bash",
   "language": "bash",
   "name": "bash"
  },
  "language_info": {
   "codemirror_mode": "shell",
   "file_extension": ".sh",
   "mimetype": "text/x-sh",
   "name": "bash"
  }
 },
 "nbformat": 4,
 "nbformat_minor": 1
}
