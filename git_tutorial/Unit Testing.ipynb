{
 "cells": [
  {
   "cell_type": "markdown",
   "metadata": {},
   "source": [
    "## Unit Testing\n",
    "\n",
    "Typically, a good code base should involve unit testing, tests of code portions that produce expected output.  When the code is changed, the unit tests are run, and if the output fails, it fails the test.  Typically one doesn't *merge* pull requests if it fais existing units tests.\n",
    "\n",
    "Here's the code from quad_form.py in our shared repo\n",
    "\n",
    "    def quad_form(a,b,c):\n",
    "\n",
    "        from math import sqrt\n",
    "        ''' expects inputs a,b,c, coefficients of ax^2+bx+c, returns tuple of roots. '''\n",
    "        discrim=b**2-4*a*c\n",
    "        root1=(-b+sqrt(discrim))/(2*a)\n",
    "        root2=(-b-sqrt(discrim))/(2*a)\n",
    "        return root1,root2\n",
    "\n",
    "I've pasted the corresponding unit test below.  It evaluates the formula for $x^2+x-1$ and compares against the known roots. \n",
    "\n",
    "A better practice would use a value of $\\sqrt{5}$ that actually doesn't come from a system library (here python math) but is precomputed elsewhere and transcribed."
   ]
  },
  {
   "cell_type": "code",
   "execution_count": null,
   "metadata": {
    "collapsed": false
   },
   "outputs": [],
   "source": [
    "import math\n",
    "import quad_form as qf\n",
    "\n",
    "tol=1E-15\n",
    "a=1.0\n",
    "b=1.0\n",
    "c=-1.0\n",
    "roots=qf.quad_form(a,b,c)\n",
    "sqr5=math.sqrt(5)\n",
    "r1=.5*(-1.0+sqr5)\n",
    "r2=.5*(-1.0-sqr5)\n",
    "err1=math.fabs(roots[0]-r1)\n",
    "err2=math.fabs(roots[1]-r2)\n",
    "if err1 < tol and err2 < tol:\n",
    "    print('Pass Unit Test 1')\n",
    "else:\n",
    "    print('Fail Unit Test 1'),err1,err2"
   ]
  },
  {
   "cell_type": "markdown",
   "metadata": {},
   "source": [
    "Let's spend of the rest of the time adding features to quad_form.py and updating the unit_test file to test your new feature to see if it works properly.\n",
    "\n",
    "A few suggested features:\n",
    "1. Error handling in the case of imaginary roots\n",
    "2. Allowing complex coefficients in the quadratic\n",
    "3. Corner cases: linear functions, zero functions\n",
    "4. Harder: numerically stable implementation of quadratic formula.\n",
    "\n",
    "If $|b| \\approx \\sqrt{b^2-4ac}$, the quadratic formula can have large cancellation for one of the roots due to subtraction of floating point numbers.\n",
    "Modify the algorithm to cater to this scenario.  The solution is to compute one root without subtraction and then use that fact that the **product** of the roots is equal to $c/a$ to compute the second root.\n",
    "\n",
    "In all cases: \n",
    "* add your feature to your github repository\n",
    "* update a unit test\n",
    "* make a pull request for my github repository, which is (repeated) https://github.com/variscarey/shared_test_repo"
   ]
  }
 ],
 "metadata": {
  "kernelspec": {
   "display_name": "Python [conda env:ipykernel_py3]",
   "language": "python",
   "name": "conda-env-ipykernel_py3-py"
  },
  "language_info": {
   "codemirror_mode": {
    "name": "ipython",
    "version": 3
   },
   "file_extension": ".py",
   "mimetype": "text/x-python",
   "name": "python",
   "nbconvert_exporter": "python",
   "pygments_lexer": "ipython3",
   "version": "3.6.2"
  }
 },
 "nbformat": 4,
 "nbformat_minor": 1
}
