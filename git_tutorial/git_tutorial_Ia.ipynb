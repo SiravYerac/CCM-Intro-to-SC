{
 "cells": [
  {
   "cell_type": "markdown",
   "metadata": {},
   "source": [
    "# CCM GIT TUTORIAL\n",
    "\n",
    "## Getting Started\n",
    "\n",
    "1. Install GIT on your computer\n",
    "    * It may already be there: from a command prompt(see Step 3), try\n",
    "      git config --list\n",
    "    * If not, go to https://git-scm.com/downloads and select the appropriate operating system.\n",
    "    \n",
    "    **On MacOs you may also need to install Xcode**\n",
    "    \n",
    "    * This tutorial uses command-line *git*, which is what you would typically use when accessing a large supercomputer remotely.\n",
    "    * There are *git gui* implementations, e.g. **github desktop**-for more information see: https://desktop.github.com/\n",
    "    \n",
    "2.  Sign up for a GitHub account(if you don't already have one):\n",
    "    * Go to https://github.com/join\n",
    "    * If you use an .edu email address you *may* have access to *free* **private repositories**, see https://education.github.com.\n",
    "    \n",
    "3. Get access to a **Command Prompt/Terminal**\n",
    "\n",
    "   * Linux: open up a terminal.\n",
    "   \n",
    "   * MacOs: open up a terminal.  See house.com/introduction-to-the-mac-os-x-command-line on how to navigate there and for more information.  (In Finder, select Applications, then the Utilities submenu, and finally Terminal).\n",
    "\n",
    "   * Windows: Go to the installed apps in the start menu and find/run \"Git Bash\" to open a terminal.\n",
    "\n",
    "4. In the terminal, configure your version of git:\n",
    "\n",
    "    * paste and modify the following commands in your terminal window(command prompt):\n",
    "\n",
    "        git config --global user.name \"John Doe\"\n",
    "        \n",
    "        git config --global user.email johndoe@example.com\n",
    "        \n",
    "5. You should be set up and ready to go.  You will need to open a command prompt/terminal again on the day of the tutorial."
   ]
  },
  {
   "cell_type": "markdown",
   "metadata": {},
   "source": [
    "## Starting your first *Repository*\n",
    "Now that we've given **git** some basic configuration, let's initialize an *empty repository* and put some code in it.\n",
    "\n",
    "We start by navigating via command prompt to the desired root directory for the repository and\n",
    "creating it."
   ]
  },
  {
   "cell_type": "code",
   "execution_count": 1,
   "metadata": {
    "collapsed": false
   },
   "outputs": [
    {
     "name": "stdout",
     "output_type": "stream",
     "text": [
      "/Users/Undertrick\n"
     ]
    }
   ],
   "source": [
    "cd ~/\n",
    "pwd \n",
    "mkdir -p my_test_repo #only creates it if the directory doesn't already exist.\n",
    "cd my_test_repo"
   ]
  },
  {
   "cell_type": "markdown",
   "metadata": {},
   "source": [
    "To create an empty code repository, type *git init*"
   ]
  },
  {
   "cell_type": "code",
   "execution_count": 2,
   "metadata": {
    "collapsed": false
   },
   "outputs": [
    {
     "name": "stdout",
     "output_type": "stream",
     "text": [
      "Reinitialized existing Git repository in /Users/Undertrick/my_test_repo/.git/\n"
     ]
    }
   ],
   "source": [
    "git init  "
   ]
  },
  {
   "cell_type": "markdown",
   "metadata": {},
   "source": [
    "## Your first *commit*\n",
    "Now open up a text editor (Notepad, emacs, vi, etc.) and make a README.txt file.  We're going to \n",
    "\n",
    "1. *add* it to the current list of tracked files (via **git add**)\n",
    "2. *commit* our change (via **git commit**) to update the index.\n"
   ]
  },
  {
   "cell_type": "code",
   "execution_count": 3,
   "metadata": {
    "collapsed": true
   },
   "outputs": [],
   "source": [
    "#bash commands to create a simple README.txt file\n",
    "echo \"This is my first local GIT Repository\" >> README.txt "
   ]
  },
  {
   "cell_type": "code",
   "execution_count": 4,
   "metadata": {
    "collapsed": false
   },
   "outputs": [
    {
     "name": "stdout",
     "output_type": "stream",
     "text": [
      "On branch master\n",
      "\n",
      "Initial commit\n",
      "\n",
      "Changes to be committed:\n",
      "  (use \"git rm --cached <file>...\" to unstage)\n",
      "\n",
      "\t\u001b[32mnew file:   README.txt\u001b[m\n",
      "\n"
     ]
    }
   ],
   "source": [
    "#first add\n",
    "git add README.txt\n",
    "\n",
    "#check what's going on\n",
    "git status"
   ]
  },
  {
   "cell_type": "code",
   "execution_count": 5,
   "metadata": {
    "collapsed": false
   },
   "outputs": [
    {
     "name": "stdout",
     "output_type": "stream",
     "text": [
      "[master (root-commit) 27158dd] Initial commit\n",
      " 1 file changed, 1 insertion(+)\n",
      " create mode 100644 README.txt\n"
     ]
    }
   ],
   "source": [
    "git commit -m \"Initial commit\""
   ]
  },
  {
   "cell_type": "markdown",
   "metadata": {},
   "source": [
    "The -m option to **git commit** allows you to specify a small text message to accompany the commit.  If you do not use this, git will open up your default editor and you can craft a longer commit message in the editor."
   ]
  },
  {
   "cell_type": "code",
   "execution_count": 6,
   "metadata": {
    "collapsed": false
   },
   "outputs": [
    {
     "name": "stdout",
     "output_type": "stream",
     "text": [
      "On branch master\n",
      "nothing to commit, working tree clean\n"
     ]
    }
   ],
   "source": [
    "git status"
   ]
  },
  {
   "cell_type": "markdown",
   "metadata": {},
   "source": [
    "### **git status** \n",
    "* tells you if you have *modified tracked files* than are not *checked in* via a commit.\n",
    "* tells you if you have files that are not indexed by the repository (*untracked files*)\n",
    "\n",
    "Now let's open up our editor and write a little python code,\n",
    "*add* the code, and then *commit* the new code.\n",
    "\n",
    "I've put some python code below(feel free to modify) that you can paste into the editor:\n",
    "\n",
    "    name=[]\n",
    "    name.append('Varis')\n",
    "    for i in name:\n",
    "        print('Hello world, my name is '+i)\n",
    "\n"
   ]
  },
  {
   "cell_type": "code",
   "execution_count": 7,
   "metadata": {
    "collapsed": false
   },
   "outputs": [
    {
     "name": "stdout",
     "output_type": "stream",
     "text": [
      "On branch master\n",
      "Untracked files:\n",
      "  (use \"git add <file>...\" to include in what will be committed)\n",
      "\n",
      "\t\u001b[31mhello_world.py\u001b[m\n",
      "\n",
      "nothing added to commit but untracked files present (use \"git add\" to track)\n",
      "On branch master\n",
      "Changes to be committed:\n",
      "  (use \"git reset HEAD <file>...\" to unstage)\n",
      "\n",
      "\t\u001b[32mnew file:   hello_world.py\u001b[m\n",
      "\n",
      "[master 34a3794] Added hello_world to repo\n",
      " 1 file changed, 4 insertions(+)\n",
      " create mode 100644 hello_world.py\n"
     ]
    }
   ],
   "source": [
    "git status\n",
    "git add hello_world.py\n",
    "git status\n",
    "git commit -m \"Added hello_world to repo\""
   ]
  },
  {
   "cell_type": "markdown",
   "metadata": {},
   "source": [
    "Now let's look at our *log* of the repository: "
   ]
  },
  {
   "cell_type": "code",
   "execution_count": 8,
   "metadata": {
    "collapsed": false
   },
   "outputs": [
    {
     "name": "stdout",
     "output_type": "stream",
     "text": [
      "\u001b[33mcommit 34a37942ec8e3c4746c42f534beb77c46f6206c9\u001b[m\n",
      "Author: Varis Carey <variscarey@googlemail.com>\n",
      "Date:   Thu Sep 21 20:08:19 2017 -0600\n",
      "\n",
      "    Added hello_world to repo\n",
      "\n",
      "\u001b[33mcommit 27158dd57b6525a859db5f87e8be66ff4e2f5f5d\u001b[m\n",
      "Author: Varis Carey <variscarey@googlemail.com>\n",
      "Date:   Thu Sep 21 20:06:42 2017 -0600\n",
      "\n",
      "    Initial commit\n"
     ]
    }
   ],
   "source": [
    "git log "
   ]
  },
  {
   "cell_type": "markdown",
   "metadata": {},
   "source": [
    "## Basic Repository Manipulation\n",
    "We can *checkout* a specific **past snapshot of the repository** by specifying a commit by its **hash code**,\n",
    "a unique 40-character hexadecimal string.\n",
    "\n",
    "Let's rewind to our initial commit by specifying the first few numbers of the hash code, via\n",
    "\n",
    "    git checkout first_few_numbers_in_hash_code"
   ]
  },
  {
   "cell_type": "code",
   "execution_count": 9,
   "metadata": {
    "collapsed": false
   },
   "outputs": [
    {
     "name": "stdout",
     "output_type": "stream",
     "text": [
      "Note: checking out '27158dd'.\n",
      "\n",
      "You are in 'detached HEAD' state. You can look around, make experimental\n",
      "changes and commit them, and you can discard any commits you make in this\n",
      "state without impacting any branches by performing another checkout.\n",
      "\n",
      "If you want to create a new branch to retain commits you create, you may\n",
      "do so (now or later) by using -b with the checkout command again. Example:\n",
      "\n",
      "  git checkout -b <new-branch-name>\n",
      "\n",
      "HEAD is now at 27158dd... Initial commit\n",
      "\u001b[31mHEAD detached at \u001b[m27158dd\n",
      "nothing to commit, working tree clean\n",
      ".\t\t..\t\t.git\t\tREADME.txt\n"
     ]
    }
   ],
   "source": [
    "git checkout 27158dd\n",
    "git status\n",
    "ls -a \n"
   ]
  },
  {
   "cell_type": "markdown",
   "metadata": {},
   "source": [
    "To revert back to the main line of development(usually called(the default) *master*), we do \n",
    "\n",
    "git checkout master\n",
    "\n",
    "We will discuss **branches** later.\n"
   ]
  },
  {
   "cell_type": "code",
   "execution_count": 10,
   "metadata": {
    "collapsed": false
   },
   "outputs": [
    {
     "name": "stdout",
     "output_type": "stream",
     "text": [
      "Previous HEAD position was 27158dd... Initial commit\n",
      "Switched to branch 'master'\n",
      ".\t\t..\t\t.git\t\tREADME.txt\thello_world.py\n"
     ]
    }
   ],
   "source": [
    "git checkout master\n",
    "ls -a\n"
   ]
  },
  {
   "cell_type": "markdown",
   "metadata": {},
   "source": [
    "## Adding a remote, pushing and pulling\n",
    "\n",
    "We're ready to add our software to our *remote* repository on Github. \n",
    "\n",
    "First, we create a new (empty) repository on GitHub, called *test_repo*(or whatever you want to call it).  The link is\n",
    "https://github.com/new.\n",
    "\n",
    "\n",
    "We're going to *add a remote*.  The syntax is\n",
    "\n",
    "*git remote add alias url-for-remote-repo*  "
   ]
  },
  {
   "cell_type": "code",
   "execution_count": 11,
   "metadata": {
    "collapsed": false
   },
   "outputs": [
    {
     "name": "stdout",
     "output_type": "stream",
     "text": [
      "my_github\thttps://github.com/variscarey/my_test_repo (fetch)\n",
      "my_github\thttps://github.com/variscarey/my_test_repo (push)\n"
     ]
    }
   ],
   "source": [
    "git remote add my_github https://github.com/variscarey/my_test_repo\n",
    "git remote -v  #lists all remotes added for a current repo\n"
   ]
  },
  {
   "cell_type": "markdown",
   "metadata": {},
   "source": [
    "We now *push* our repository to the remote.  The syntax is\n",
    "\n",
    "git push remote alias=origin branch_name=master\n",
    "\n",
    "If you leave off the branch name the default is **master**.  If you leave off the alias the assumption is **origin**."
   ]
  },
  {
   "cell_type": "code",
   "execution_count": 12,
   "metadata": {
    "collapsed": false
   },
   "outputs": [
    {
     "name": "stdout",
     "output_type": "stream",
     "text": [
      "fatal: The current branch master has no upstream branch.\n",
      "To push the current branch and set the remote as upstream, use\n",
      "\n",
      "    git push --set-upstream my_github master\n",
      "\n",
      "Counting objects: 6, done.\n",
      "Delta compression using up to 8 threads.\n",
      "Compressing objects: 100% (4/4), done.\n",
      "Writing objects: 100% (6/6), 599 bytes | 0 bytes/s, done.\n",
      "Total 6 (delta 0), reused 0 (delta 0)\n",
      "To https://github.com/variscarey/my_test_repo\n",
      " * [new branch]      master -> master\n",
      "Branch master set up to track remote branch master from my_github.\n"
     ]
    }
   ],
   "source": [
    "git push my_github \n",
    "git push --set-upstream my_github master"
   ]
  },
  {
   "cell_type": "code",
   "execution_count": 13,
   "metadata": {
    "collapsed": false
   },
   "outputs": [
    {
     "name": "stdout",
     "output_type": "stream",
     "text": [
      "Everything up-to-date\n",
      "error: src refspec test_branch does not match any.\n",
      "error: failed to push some refs to 'https://github.com/variscarey/my_test_repo'\n"
     ]
    },
    {
     "ename": "",
     "evalue": "1",
     "output_type": "error",
     "traceback": []
    }
   ],
   "source": [
    "git push my_github master\n",
    "git push my_github test_branch"
   ]
  },
  {
   "cell_type": "markdown",
   "metadata": {},
   "source": [
    "If you navigate to your github page, you should now see your test repo \"up in lights\"."
   ]
  },
  {
   "cell_type": "markdown",
   "metadata": {},
   "source": [
    "## Fixes to Common Problems\n",
    "\n",
    "### I removed a file my accident from the filesystem.  Can I use git to recover the file?\n",
    "\n",
    "Yes, if the file is tracked by *git*.  For example:\n"
   ]
  },
  {
   "cell_type": "code",
   "execution_count": 14,
   "metadata": {
    "collapsed": false
   },
   "outputs": [
    {
     "name": "stdout",
     "output_type": "stream",
     "text": [
      "On branch master\n",
      "Your branch is up-to-date with 'my_github/master'.\n",
      "Changes not staged for commit:\n",
      "  (use \"git add/rm <file>...\" to update what will be committed)\n",
      "  (use \"git checkout -- <file>...\" to discard changes in working directory)\n",
      "\n",
      "\t\u001b[31mdeleted:    README.txt\u001b[m\n",
      "\n",
      "no changes added to commit (use \"git add\" and/or \"git commit -a\")\n"
     ]
    }
   ],
   "source": [
    "rm README.txt\n",
    "#oops\n",
    "git status\n",
    "git checkout -- README.txt"
   ]
  },
  {
   "cell_type": "code",
   "execution_count": 15,
   "metadata": {
    "collapsed": false
   },
   "outputs": [
    {
     "name": "stdout",
     "output_type": "stream",
     "text": [
      ".\t\t..\t\t.git\t\tREADME.txt\thello_world.py\n"
     ]
    }
   ],
   "source": [
    "ls -a  "
   ]
  },
  {
   "cell_type": "markdown",
   "metadata": {},
   "source": [
    "This checks out the last **committed* version of this file in the index. \n",
    "**Any uncommited changes were lost when you deleted the file.**\n",
    "    \n",
    "    git checkout -- . \n",
    "    \n",
    "will discard **all** changes made to the current working directory.\n",
    "\n",
    "### I want to get rid of all files that are *not tracked*-i.e. files that I don't want in the repo.\n",
    "\n",
    "**git clean** is the command you want.  I recommend **git clean -i** to do this interactively.\n"
   ]
  },
  {
   "cell_type": "markdown",
   "metadata": {},
   "source": [
    "In the next notebook, we'll start building up the next set of tools you will need for collaborative software development.  We'll also look at some more advanced repo management."
   ]
  }
 ],
 "metadata": {
  "anaconda-cloud": {},
  "kernelspec": {
   "display_name": "Bash",
   "language": "bash",
   "name": "bash"
  },
  "language_info": {
   "codemirror_mode": "shell",
   "file_extension": ".sh",
   "mimetype": "text/x-sh",
   "name": "bash"
  }
 },
 "nbformat": 4,
 "nbformat_minor": 1
}
