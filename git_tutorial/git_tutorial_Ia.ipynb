{
 "cells": [
  {
   "cell_type": "markdown",
   "metadata": {},
   "source": [
    "# CCM GIT TUTORIAL\n",
    "\n",
    "## Getting Started\n",
    "\n",
    "1. Install GIT on your computer\n",
    "    * It may already be there: from a command prompt, try\n",
    "      git config --list\n",
    "    * If not, go to https://git-scm.com/downloads and select the appropriate operating system **On MacOs you may also need to install Xcode**\n",
    "    * This tutorial uses command-line *git*, which is what you would typically use when accessing a large supercomputer remotely.\n",
    "    * There are git-gui implementations, e.g. *github desktop*\n",
    "2.  Sign up for a GitHub account(if you don't already have one):\n",
    "    * Go to https://github.com/join\n",
    "    * If you use an .edu email address you *may* have access to private repositories.\n",
    "    \n",
    "3.  If you do not have **anaconda** and some version of **python** installed, go to https://www.continuum.io/downloads and select the appropriate OS.  You will want to open *Anaconda-Navigator* when you are done with the install.\n",
    "\n",
    "3.  From the command line, change directories to where you want the tutorial repo to be based.\n",
    "\n",
    "4.  Type in:\n",
    "    git clone https://github.com/variscarey/CCM-Intro-to-SC.git\n",
    "5.  If you have problems with step 4 you can also download the repository(repo) directly by going to https://github.com/variscarey/CCM-Intro-to-SC and manually downloaded the repo as a zip file.\n",
    "\n",
    "6. Once you've *cloned* the repo; either\n",
    "   * cd into ./CCM/git_tutorial and type in juypter notebook git_tutorial.ipynb\n",
    "   * or click on launch from Anaconda Navigator.  This should open up a jupyter tab in your browser.  From there, click File, open, and then select the git_tutorial notebook from the CCM/git_tutorial subdirectory.\n"
   ]
  },
  {
   "cell_type": "markdown",
   "metadata": {},
   "source": [
    "We are going to use jupyter *cell magics* to perform command line *git*.  Let's look at the code cell below."
   ]
  },
  {
   "cell_type": "markdown",
   "metadata": {},
   "source": [
    "## configure our version of git:\n",
    "\n",
    "* In the empty cell below:\n",
    "* paste and modify the following commands\n",
    "%bash\n",
    "git config --global user.name \"John Doe\"\n",
    "git config --global user.email johndoe@example.com\n",
    "git config --global core.editor nano # or vim, emacs, etc.\n",
    "\n"
   ]
  },
  {
   "cell_type": "code",
   "execution_count": null,
   "metadata": {
    "collapsed": true
   },
   "outputs": [],
   "source": []
  },
  {
   "cell_type": "markdown",
   "metadata": {},
   "source": [
    "Now that we've given git some basic configuration, let's initialize an *empty repository* and put some code in it."
   ]
  },
  {
   "cell_type": "code",
   "execution_count": null,
   "metadata": {
    "collapsed": false
   },
   "outputs": [],
   "source": [
    "%%bash \n",
    "%cd ~/ \n",
    "#whereever you want to put the folder/directory \n",
    "mkdir test_repo\n",
    "cd test_repo\n",
    "git init"
   ]
  },
  {
   "cell_type": "markdown",
   "metadata": {},
   "source": [
    "Now open up a text editor (Notepad, emacs, vi, etc.) and make a README.txt file.  We're going to *add* it to the current list of tracked files and then *commit* our change to update the index.\n"
   ]
  },
  {
   "cell_type": "code",
   "execution_count": null,
   "metadata": {
    "collapsed": false
   },
   "outputs": [],
   "source": [
    "%%bash \n",
    "cd ~/test_repo  #cell resets path to notebook working directory\n",
    "#first add\n",
    "git add README.txt\n",
    "#check what's going on\n",
    "git status"
   ]
  },
  {
   "cell_type": "code",
   "execution_count": null,
   "metadata": {
    "collapsed": false
   },
   "outputs": [],
   "source": [
    "%%bash\n",
    "cd ~/test_repo\n",
    "git commit -m \"Initial commit\""
   ]
  },
  {
   "cell_type": "markdown",
   "metadata": {},
   "source": [
    "The -m flag allows us to specify a brief message at the command line.  Otherwise, *git* will open up the default editor and you can craft a lengthier description of the commit.\n",
    "\n",
    "Now let's open up our editor and write a little python code,\n",
    "*add* the code, and then *commit* the new code.\n"
   ]
  },
  {
   "cell_type": "code",
   "execution_count": null,
   "metadata": {
    "collapsed": false
   },
   "outputs": [],
   "source": [
    "%%bash\n",
    "cd ~/test_repo\n",
    "git add hello_world.py\n",
    "git status\n",
    "git commit -m \"Added hello_world to repo\""
   ]
  },
  {
   "cell_type": "markdown",
   "metadata": {},
   "source": [
    "Now let's look at our log of the repository: "
   ]
  },
  {
   "cell_type": "code",
   "execution_count": null,
   "metadata": {
    "collapsed": false
   },
   "outputs": [],
   "source": [
    "%%bash\n",
    "cd ~/test_repo\n",
    "git log "
   ]
  },
  {
   "cell_type": "markdown",
   "metadata": {},
   "source": [
    "We can *checkout* a specific past snapshot of the repository by specifying a commit by its **hash code**,\n",
    "a unique 40-character hexadecimal string.\n",
    "\n",
    "Let's rewind to our initial commit by specifying the first few numbers of the hash code, via\n",
    "\n",
    "git checkout first_few_numbers_in_hash_code"
   ]
  },
  {
   "cell_type": "code",
   "execution_count": null,
   "metadata": {
    "collapsed": false
   },
   "outputs": [],
   "source": [
    "%%bash\n",
    "cd ~/test_repo\n",
    "git checkout de428868\n",
    "git status\n",
    "ls -a \n"
   ]
  },
  {
   "cell_type": "markdown",
   "metadata": {},
   "source": [
    "To revert back to the main line of development(usually called *master*), we do \n",
    "\n",
    "git checkout master\n",
    "\n",
    "We will discuss branches later.\n"
   ]
  },
  {
   "cell_type": "code",
   "execution_count": null,
   "metadata": {
    "collapsed": false
   },
   "outputs": [],
   "source": [
    "%%bash\n",
    "cd ~/test_repo\n",
    "git checkout master\n",
    "ls -a\n"
   ]
  },
  {
   "cell_type": "markdown",
   "metadata": {},
   "source": [
    "## Adding a remote, pushing and pulling\n",
    "\n",
    "We're ready to add our software to our *remote* repository on Github. \n",
    "\n",
    "First, we create a new (empty) repository on GitHub, called *test_repo*(or whatever you want to call it).  The link is\n",
    "https://github.com/new.\n",
    "\n",
    "\n",
    "We're going to add a remote.  The syntax is\n",
    "*git remote add alias url-for-remote-repo*  "
   ]
  },
  {
   "cell_type": "code",
   "execution_count": null,
   "metadata": {
    "collapsed": false
   },
   "outputs": [],
   "source": [
    "%%bash\n",
    "cd ~/test_repo\n",
    "git remote add my_github https://github.com/variscarey/test_repo\n",
    "\n",
    "git remote -v  #lists all remotes added for a current repo\n"
   ]
  },
  {
   "cell_type": "markdown",
   "metadata": {},
   "source": [
    "We now *push* our repository to the remote.  The syntax is\n",
    "\n",
    "git push remote alias=origin branch_name=master\n",
    "\n",
    "If you leave off the branch name the default is master.  If you leave off the alias the assumption is origin."
   ]
  },
  {
   "cell_type": "code",
   "execution_count": null,
   "metadata": {
    "collapsed": false
   },
   "outputs": [],
   "source": [
    "%%bash\n",
    "cd ~/test_repo\n",
    "git push my_github \n",
    "git push --set-upstream my_github master"
   ]
  },
  {
   "cell_type": "code",
   "execution_count": null,
   "metadata": {
    "collapsed": true
   },
   "outputs": [],
   "source": [
    "%%bash\n",
    "cd ~/test_repo\n",
    "git push my_github master\n",
    "git push my_github test_branch"
   ]
  },
  {
   "cell_type": "markdown",
   "metadata": {},
   "source": [
    "If you navigate to your github page, you should now see your test repo \"up in lights\".\n",
    "\n",
    "In the next notebook, we'll start building up the next set of tools you will need for collaborative software development."
   ]
  },
  {
   "cell_type": "code",
   "execution_count": null,
   "metadata": {
    "collapsed": true
   },
   "outputs": [],
   "source": []
  }
 ],
 "metadata": {
  "anaconda-cloud": {},
  "kernelspec": {
   "display_name": "Python [conda root]",
   "language": "python",
   "name": "conda-root-py"
  },
  "language_info": {
   "codemirror_mode": {
    "name": "ipython",
    "version": 2
   },
   "file_extension": ".py",
   "mimetype": "text/x-python",
   "name": "python",
   "nbconvert_exporter": "python",
   "pygments_lexer": "ipython2",
   "version": "2.7.12"
  }
 },
 "nbformat": 4,
 "nbformat_minor": 1
}
