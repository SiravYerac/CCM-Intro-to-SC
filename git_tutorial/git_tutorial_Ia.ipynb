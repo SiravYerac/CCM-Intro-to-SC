{
 "cells": [
  {
   "cell_type": "markdown",
   "metadata": {},
   "source": [
    "# CCM GIT TUTORIAL\n",
    "\n",
    "## Getting Started\n",
    "\n",
    "1. Install GIT on your computer\n",
    "    * It may already be there: from a command prompt, try\n",
    "      git config --list\n",
    "    * If not, go to https://git-scm.com/downloads and select the appropriate operating system **On MacOs you may also need to install Xcode**\n",
    "    * This tutorial uses command-line *git*, which is what you would typically use when accessing a large supercomputer remotely.\n",
    "    * There are git-gui implementations, e.g. *github desktop*\n",
    "2.  Sign up for a GitHub account(if you don't already have one):\n",
    "    * Go to https://github.com/join\n",
    "    * If you use an .edu email address you *may* have access to private repositories.\n",
    "    \n",
    "3.  If you do not have **anaconda** and some version of **python** installed, go to https://www.continuum.io/downloads and select the appropriate OS.  You will want to open *Anaconda-Navigator* when you are done with the install.\n",
    "\n",
    "3.  From the command line, change directories to where you want the tutorial repo to be based.\n",
    "\n",
    "3.  If you attended the *CCM Intro to SC shortcourse* and cloned the repo then, type in\n",
    "    git pull origin master\n",
    "to update your local version\n",
    "\n",
    "    **OTHERWISE**\n",
    "\n",
    "4.  Type in:\n",
    "    git clone https://github.com/variscarey/CCM-Intro-to-SC.git\n",
    "5.  If you have problems with step 4 you can also download the repository(repo) directly by going to https://github.com/variscarey/CCM-Intro-to-SC and manually downloaded the repo as a zip file.\n",
    "\n",
    "6. Once you've *cloned* the repo; either\n",
    "   * cd into ./CCM/git_tutorial and type in juypter notebook git_tutorial.ipynb\n",
    "   * or click on launch from Anaconda Navigator.  This should open up a jupyter tab in your browser.  From there, click File, open, and then select the git_tutorial notebook from the CCM/git_tutorial subdirectory.\n"
   ]
  },
  {
   "cell_type": "markdown",
   "metadata": {},
   "source": [
    "We are going to use jupyter *cell magics* to perform command line *git*.  Let's look at the code cell below."
   ]
  },
  {
   "cell_type": "markdown",
   "metadata": {},
   "source": [
    "## configure our version of git:\n",
    "\n",
    "* In the empty cell below:\n",
    "* paste and modify the following commands\n",
    "\n",
    "        %bash\n",
    "        git config --global user.name \"John Doe\"\n",
    "        git config --global user.email johndoe@example.com\n",
    "        git config --global core.editor nano # or vim, emacs, etc.\n",
    "\n"
   ]
  },
  {
   "cell_type": "code",
   "execution_count": null,
   "metadata": {
    "collapsed": true
   },
   "outputs": [],
   "source": []
  },
  {
   "cell_type": "markdown",
   "metadata": {},
   "source": [
    "Now that we've given git some basic configuration, let's initialize an *empty repository* and put some code in it."
   ]
  },
  {
   "cell_type": "code",
   "execution_count": 2,
   "metadata": {
    "collapsed": false
   },
   "outputs": [
    {
     "name": "stdout",
     "output_type": "stream",
     "text": [
      "Initialized empty Git repository in /Users/Undertrick/test_repo/.git/\n"
     ]
    }
   ],
   "source": [
    "%%bash \n",
    "cd ~/ \n",
    "#whereever you want to put the folder/directory \n",
    "mkdir test_repo\n",
    "cd test_repo\n",
    "git init"
   ]
  },
  {
   "cell_type": "markdown",
   "metadata": {},
   "source": [
    "Now open up a text editor (Notepad, emacs, vi, etc.) and make a README.txt file.  We're going to *add* it to the current list of tracked files and then *commit* our change to update the index.\n"
   ]
  },
  {
   "cell_type": "code",
   "execution_count": 3,
   "metadata": {
    "collapsed": false
   },
   "outputs": [
    {
     "name": "stdout",
     "output_type": "stream",
     "text": [
      "On branch master\n",
      "\n",
      "Initial commit\n",
      "\n",
      "Changes to be committed:\n",
      "  (use \"git rm --cached <file>...\" to unstage)\n",
      "\n",
      "\tnew file:   README.txt\n",
      "\n",
      "Untracked files:\n",
      "  (use \"git add <file>...\" to include in what will be committed)\n",
      "\n",
      "\thello_world.py\n",
      "\n"
     ]
    }
   ],
   "source": [
    "%%bash \n",
    "cd ~/test_repo  #cell resets path to notebook working directory\n",
    "#first add\n",
    "git add README.txt\n",
    "#check what's going on\n",
    "git status"
   ]
  },
  {
   "cell_type": "code",
   "execution_count": 4,
   "metadata": {
    "collapsed": false
   },
   "outputs": [
    {
     "name": "stdout",
     "output_type": "stream",
     "text": [
      "[master (root-commit) 5929e6a] Initial commit\n",
      " 1 file changed, 1 insertion(+)\n",
      " create mode 100644 README.txt\n"
     ]
    }
   ],
   "source": [
    "%%bash\n",
    "cd ~/test_repo\n",
    "git commit -m \"Initial commit\""
   ]
  },
  {
   "cell_type": "markdown",
   "metadata": {},
   "source": [
    "The -m flag allows us to specify a brief message at the command line.  Otherwise, *git* will open up the default editor and you can craft a lengthier description of the commit.\n",
    "\n",
    "Now let's open up our editor and write a little python code,\n",
    "*add* the code, and then *commit* the new code.\n",
    "\n",
    "I've put some python code below(feel free to modify) that you can paste into the editor:\n",
    "\n",
    "    name=[]\n",
    "    name.append('Varis')\n",
    "    for i in name:\n",
    "        print('Hello world, my name is '+i)\n",
    "\n"
   ]
  },
  {
   "cell_type": "code",
   "execution_count": 5,
   "metadata": {
    "collapsed": false
   },
   "outputs": [
    {
     "name": "stdout",
     "output_type": "stream",
     "text": [
      "On branch master\n",
      "Changes to be committed:\n",
      "  (use \"git reset HEAD <file>...\" to unstage)\n",
      "\n",
      "\tnew file:   hello_world.py\n",
      "\n",
      "[master 74294c1] Added hello_world to repo\n",
      " 1 file changed, 5 insertions(+)\n",
      " create mode 100644 hello_world.py\n"
     ]
    }
   ],
   "source": [
    "%%bash\n",
    "cd ~/test_repo\n",
    "git add hello_world.py\n",
    "git status\n",
    "git commit -m \"Added hello_world to repo\""
   ]
  },
  {
   "cell_type": "markdown",
   "metadata": {},
   "source": [
    "Now let's look at our log of the repository: "
   ]
  },
  {
   "cell_type": "code",
   "execution_count": 6,
   "metadata": {
    "collapsed": false
   },
   "outputs": [
    {
     "name": "stdout",
     "output_type": "stream",
     "text": [
      "commit 74294c1606b567680a2259f078aea11b81b087c2\n",
      "Author: Varis Carey <variscarey@googlemail.com>\n",
      "Date:   Fri Mar 3 11:31:06 2017 -0700\n",
      "\n",
      "    Added hello_world to repo\n",
      "\n",
      "commit 5929e6a7888394879ba3566d76e6ccedbb32d728\n",
      "Author: Varis Carey <variscarey@googlemail.com>\n",
      "Date:   Fri Mar 3 11:30:59 2017 -0700\n",
      "\n",
      "    Initial commit\n"
     ]
    }
   ],
   "source": [
    "%%bash\n",
    "cd ~/test_repo\n",
    "git log "
   ]
  },
  {
   "cell_type": "markdown",
   "metadata": {},
   "source": [
    "We can *checkout* a specific past snapshot of the repository by specifying a commit by its **hash code**,\n",
    "a unique 40-character hexadecimal string.\n",
    "\n",
    "Let's rewind to our initial commit by specifying the first few numbers of the hash code, via\n",
    "\n",
    "    git checkout first_few_numbers_in_hash_code"
   ]
  },
  {
   "cell_type": "code",
   "execution_count": 7,
   "metadata": {
    "collapsed": false
   },
   "outputs": [
    {
     "name": "stdout",
     "output_type": "stream",
     "text": [
      "HEAD detached at 5929e6a\n",
      "nothing to commit, working tree clean\n",
      ".\n",
      "..\n",
      ".git\n",
      "README.txt\n"
     ]
    },
    {
     "name": "stderr",
     "output_type": "stream",
     "text": [
      "Note: checking out '5929e6a'.\n",
      "\n",
      "You are in 'detached HEAD' state. You can look around, make experimental\n",
      "changes and commit them, and you can discard any commits you make in this\n",
      "state without impacting any branches by performing another checkout.\n",
      "\n",
      "If you want to create a new branch to retain commits you create, you may\n",
      "do so (now or later) by using -b with the checkout command again. Example:\n",
      "\n",
      "  git checkout -b <new-branch-name>\n",
      "\n",
      "HEAD is now at 5929e6a... Initial commit\n"
     ]
    }
   ],
   "source": [
    "%%bash\n",
    "cd ~/test_repo\n",
    "git checkout 5929e6a\n",
    "git status\n",
    "ls -a \n"
   ]
  },
  {
   "cell_type": "markdown",
   "metadata": {},
   "source": [
    "To revert back to the main line of development(usually called *master*), we do \n",
    "\n",
    "git checkout master\n",
    "\n",
    "We will discuss branches later.\n"
   ]
  },
  {
   "cell_type": "code",
   "execution_count": 8,
   "metadata": {
    "collapsed": false
   },
   "outputs": [
    {
     "name": "stdout",
     "output_type": "stream",
     "text": [
      ".\n",
      "..\n",
      ".git\n",
      "README.txt\n",
      "hello_world.py\n"
     ]
    },
    {
     "name": "stderr",
     "output_type": "stream",
     "text": [
      "Previous HEAD position was 5929e6a... Initial commit\n",
      "Switched to branch 'master'\n"
     ]
    }
   ],
   "source": [
    "%%bash\n",
    "cd ~/test_repo\n",
    "git checkout master\n",
    "ls -a\n"
   ]
  },
  {
   "cell_type": "markdown",
   "metadata": {},
   "source": [
    "## Adding a remote, pushing and pulling\n",
    "\n",
    "We're ready to add our software to our *remote* repository on Github. \n",
    "\n",
    "First, we create a new (empty) repository on GitHub, called *test_repo*(or whatever you want to call it).  The link is\n",
    "https://github.com/new.\n",
    "\n",
    "\n",
    "We're going to add a remote.  The syntax is\n",
    "*git remote add alias url-for-remote-repo*  "
   ]
  },
  {
   "cell_type": "code",
   "execution_count": 9,
   "metadata": {
    "collapsed": false
   },
   "outputs": [
    {
     "name": "stdout",
     "output_type": "stream",
     "text": [
      "my_github\thttps://github.com/variscarey/test_repo (fetch)\n",
      "my_github\thttps://github.com/variscarey/test_repo (push)\n"
     ]
    }
   ],
   "source": [
    "%%bash\n",
    "cd ~/test_repo\n",
    "git remote add my_github https://github.com/variscarey/test_repo\n",
    "\n",
    "git remote -v  #lists all remotes added for a current repo\n"
   ]
  },
  {
   "cell_type": "markdown",
   "metadata": {},
   "source": [
    "We now *push* our repository to the remote.  The syntax is\n",
    "\n",
    "git push remote alias=origin branch_name=master\n",
    "\n",
    "If you leave off the branch name the default is master.  If you leave off the alias the assumption is origin."
   ]
  },
  {
   "cell_type": "code",
   "execution_count": 10,
   "metadata": {
    "collapsed": false
   },
   "outputs": [
    {
     "name": "stderr",
     "output_type": "stream",
     "text": [
      "fatal: The current branch master has no upstream branch.\n",
      "To push the current branch and set the remote as upstream, use\n",
      "\n",
      "    git push --set-upstream my_github master\n",
      "\n",
      "fatal: unable to access 'https://github.com/variscarey/test_repo/': Could not resolve host: github.com\n"
     ]
    }
   ],
   "source": [
    "%%bash\n",
    "cd ~/test_repo\n",
    "git push my_github \n",
    "git push --set-upstream my_github master"
   ]
  },
  {
   "cell_type": "code",
   "execution_count": 11,
   "metadata": {
    "collapsed": false
   },
   "outputs": [
    {
     "name": "stderr",
     "output_type": "stream",
     "text": [
      "fatal: unable to access 'https://github.com/variscarey/test_repo/': Could not resolve host: github.com\n",
      "error: src refspec test_branch does not match any.\n",
      "error: failed to push some refs to 'https://github.com/variscarey/test_repo'\n"
     ]
    }
   ],
   "source": [
    "%%bash\n",
    "cd ~/test_repo\n",
    "git push my_github master\n",
    "git push my_github test_branch"
   ]
  },
  {
   "cell_type": "markdown",
   "metadata": {},
   "source": [
    "If you navigate to your github page, you should now see your test repo \"up in lights\".\n",
    "\n",
    "In the next notebook, we'll start building up the next set of tools you will need for collaborative software development."
   ]
  },
  {
   "cell_type": "code",
   "execution_count": null,
   "metadata": {
    "collapsed": true
   },
   "outputs": [],
   "source": []
  }
 ],
 "metadata": {
  "anaconda-cloud": {},
  "kernelspec": {
   "display_name": "Python [conda root]",
   "language": "python",
   "name": "conda-root-py"
  },
  "language_info": {
   "codemirror_mode": {
    "name": "ipython",
    "version": 2
   },
   "file_extension": ".py",
   "mimetype": "text/x-python",
   "name": "python",
   "nbconvert_exporter": "python",
   "pygments_lexer": "ipython2",
   "version": "2.7.12"
  }
 },
 "nbformat": 4,
 "nbformat_minor": 1
}
