{
 "cells": [
  {
   "cell_type": "markdown",
   "metadata": {},
   "source": [
    "# CCM GIT TUTORIAL\n",
    "\n",
    "## Getting Started\n",
    "\n",
    "1. Install GIT on your computer\n",
    "    * It may already be there: from a command prompt, try\n",
    "      git config --list\n",
    "    * If not, go to https://git-scm.com/downloads and select the appropriate operating system **On MacOs you may also need to install Xcode**\n",
    "    * This tutorial uses command-line *git*, which is what you would typically use when accessing a large supercomputer remotely.\n",
    "    * There are git-gui implementations, e.g. *github desktop*\n",
    "2.  Sign up for a GitHub account(if you don't already have one):\n",
    "    * Go to https://github.com/join\n",
    "    * If you use an .edu email address you *may* have access to private repositories.\n",
    "    \n",
    "3.  If you do not have **anaconda** and some version of **python** installed, go to https://www.continuum.io/downloads and select the appropriate OS.  You will want to open *Anaconda-Navigator* when you are done with the install.\n",
    "\n",
    "3.  From the command line, change directories to where you want the tutorial repo to be based.\n",
    "\n",
    "4.  Type in:\n",
    "    git clone https://github.com/variscarey/CCM-Intro-to-SC.git\n",
    "5.  If you have problems with step 4 you can also download the repository(repo) directly by going to https://github.com/variscarey/CCM-Intro-to-SC and manually downloaded the repo as a zip file.\n",
    "\n",
    "6. Once you've *cloned* the repo; either\n",
    "   * cd into ./CCM/git_tutorial and type in juypter notebook git_tutorial.ipynb\n",
    "   * or click on launch from Anaconda Navigator.  This should open up a jupyter tab in your browser.  From there, click File, open, and then select the git_tutorial notebook from the CCM/git_tutorial subdirectory.\n"
   ]
  },
  {
   "cell_type": "markdown",
   "metadata": {},
   "source": [
    "We are going to use jupyter *cell magics* to perform command line *git*.  Let's look at the code cell below."
   ]
  },
  {
   "cell_type": "markdown",
   "metadata": {},
   "source": [
    "## configure our version of git:\n",
    "\n",
    "* In the empty cell below:\n",
    "* paste and modify the following commands\n",
    "%bash\n",
    "git config --global user.name \"John Doe\"\n",
    "git config --global user.email johndoe@example.com\n",
    "git config --global core.editor nano # or vim, emacs, etc.\n",
    "\n"
   ]
  },
  {
   "cell_type": "code",
   "execution_count": null,
   "metadata": {
    "collapsed": true
   },
   "outputs": [],
   "source": []
  },
  {
   "cell_type": "markdown",
   "metadata": {},
   "source": [
    "Now that we've given git some basic configuration, let's initialize an *empty repository* and put some code in it."
   ]
  },
  {
   "cell_type": "code",
   "execution_count": 14,
   "metadata": {
    "collapsed": false
   },
   "outputs": [
    {
     "name": "stdout",
     "output_type": "stream",
     "text": [
      "Reinitialized existing Git repository in /Users/Undertrick/python-machine-learning-book/code/ch03/test_repo/.git/\n"
     ]
    },
    {
     "name": "stderr",
     "output_type": "stream",
     "text": [
      "bash: line 1: fg: no job control\n",
      "mkdir: test_repo: File exists\n"
     ]
    }
   ],
   "source": [
    "%%bash \n",
    "%cd ~/ \n",
    "#whereever you want to put the folder/directory \n",
    "mkdir test_repo\n",
    "cd test_repo\n",
    "git init"
   ]
  },
  {
   "cell_type": "markdown",
   "metadata": {},
   "source": [
    "Now open up a text editor (Notepad, emacs, vi, etc.) and make a README.txt file.  We're going to *add* it to the current list of tracked files and then *commit* our change to update the index.\n"
   ]
  },
  {
   "cell_type": "code",
   "execution_count": 15,
   "metadata": {
    "collapsed": false
   },
   "outputs": [
    {
     "name": "stdout",
     "output_type": "stream",
     "text": [
      "On branch master\n",
      "\n",
      "Initial commit\n",
      "\n",
      "Changes to be committed:\n",
      "  (use \"git rm --cached <file>...\" to unstage)\n",
      "\n",
      "\tnew file:   README.txt\n",
      "\n"
     ]
    }
   ],
   "source": [
    "%%bash \n",
    "cd ~/test_repo  #cell resets path to notebook working directory\n",
    "#first add\n",
    "git add README.txt\n",
    "#check what's going on\n",
    "git status"
   ]
  },
  {
   "cell_type": "code",
   "execution_count": 16,
   "metadata": {
    "collapsed": false
   },
   "outputs": [
    {
     "name": "stdout",
     "output_type": "stream",
     "text": [
      "[master (root-commit) de42886] Initial commit\n",
      " 1 file changed, 1 insertion(+)\n",
      " create mode 100644 README.txt\n"
     ]
    }
   ],
   "source": [
    "%%bash\n",
    "cd ~/test_repo\n",
    "git commit -m \"Initial commit\""
   ]
  },
  {
   "cell_type": "markdown",
   "metadata": {},
   "source": [
    "The -m flag allows us to specify a brief message at the command line.  Otherwise, *git* will open up the default editor and you can craft a lengthier description of the commit.\n",
    "\n",
    "Now let's open up our editor and write a little python code,\n",
    "*add* the code, and then *commit* the new code.\n"
   ]
  },
  {
   "cell_type": "code",
   "execution_count": 17,
   "metadata": {
    "collapsed": false
   },
   "outputs": [
    {
     "name": "stdout",
     "output_type": "stream",
     "text": [
      "On branch master\n",
      "Changes to be committed:\n",
      "  (use \"git reset HEAD <file>...\" to unstage)\n",
      "\n",
      "\tnew file:   hello_world.py\n",
      "\n",
      "Untracked files:\n",
      "  (use \"git add <file>...\" to include in what will be committed)\n",
      "\n",
      "\thello_world.py~\n",
      "\n",
      "[master 0d83f80] Added hello_world to repo\n",
      " 1 file changed, 5 insertions(+)\n",
      " create mode 100644 hello_world.py\n"
     ]
    }
   ],
   "source": [
    "%%bash\n",
    "cd ~/test_repo\n",
    "git add hello_world.py\n",
    "git status\n",
    "git commit -m \"Added hello_world to repo\""
   ]
  },
  {
   "cell_type": "markdown",
   "metadata": {},
   "source": [
    "Now let's look at our log of the repository: "
   ]
  },
  {
   "cell_type": "code",
   "execution_count": 18,
   "metadata": {
    "collapsed": false
   },
   "outputs": [
    {
     "name": "stdout",
     "output_type": "stream",
     "text": [
      "commit 0d83f803d8415d942fbbdd7ec65bb70a5025b3ba\n",
      "Author: Varis Carey <variscarey@googlemail.com>\n",
      "Date:   Thu Mar 2 14:30:53 2017 -0700\n",
      "\n",
      "    Added hello_world to repo\n",
      "\n",
      "commit de42886868aaa93c39214b97f9ad148eb32af54b\n",
      "Author: Varis Carey <variscarey@googlemail.com>\n",
      "Date:   Thu Mar 2 14:24:47 2017 -0700\n",
      "\n",
      "    Initial commit\n"
     ]
    }
   ],
   "source": [
    "%%bash\n",
    "cd ~/test_repo\n",
    "git log "
   ]
  },
  {
   "cell_type": "markdown",
   "metadata": {},
   "source": [
    "We can *checkout* a specific past snapshot of the repository by specifying a commit by its **hash code**,\n",
    "a unique 40-character hexadecimal string.\n",
    "\n",
    "Let's rewind to our initial commit by specifying the first few numbers of the hash code, via\n",
    "\n",
    "git checkout first_few_numbers_in_hash_code"
   ]
  },
  {
   "cell_type": "code",
   "execution_count": 19,
   "metadata": {
    "collapsed": false
   },
   "outputs": [
    {
     "name": "stdout",
     "output_type": "stream",
     "text": [
      "HEAD detached at de42886\n",
      "Untracked files:\n",
      "  (use \"git add <file>...\" to include in what will be committed)\n",
      "\n",
      "\thello_world.py~\n",
      "\n",
      "nothing added to commit but untracked files present (use \"git add\" to track)\n",
      ".\n",
      "..\n",
      ".git\n",
      "README.txt\n",
      "hello_world.py~\n"
     ]
    },
    {
     "name": "stderr",
     "output_type": "stream",
     "text": [
      "Note: checking out 'de428868'.\n",
      "\n",
      "You are in 'detached HEAD' state. You can look around, make experimental\n",
      "changes and commit them, and you can discard any commits you make in this\n",
      "state without impacting any branches by performing another checkout.\n",
      "\n",
      "If you want to create a new branch to retain commits you create, you may\n",
      "do so (now or later) by using -b with the checkout command again. Example:\n",
      "\n",
      "  git checkout -b <new-branch-name>\n",
      "\n",
      "HEAD is now at de42886... Initial commit\n"
     ]
    }
   ],
   "source": [
    "%%bash\n",
    "cd ~/test_repo\n",
    "git checkout de428868\n",
    "git status\n",
    "ls -a \n"
   ]
  },
  {
   "cell_type": "markdown",
   "metadata": {},
   "source": [
    "To revert back to the main line of development(usually called *master*), we do \n",
    "\n",
    "git checkout master\n",
    "\n",
    "We will discuss branches later.\n"
   ]
  },
  {
   "cell_type": "code",
   "execution_count": 21,
   "metadata": {
    "collapsed": false
   },
   "outputs": [
    {
     "name": "stdout",
     "output_type": "stream",
     "text": [
      ".\n",
      "..\n",
      ".git\n",
      "README.txt\n",
      "hello_world.py\n"
     ]
    },
    {
     "name": "stderr",
     "output_type": "stream",
     "text": [
      "Already on 'master'\n"
     ]
    }
   ],
   "source": [
    "%%bash\n",
    "cd ~/test_repo\n",
    "git checkout master\n",
    "ls -a\n"
   ]
  },
  {
   "cell_type": "markdown",
   "metadata": {},
   "source": [
    "## Adding a remote, pushing and pulling\n",
    "\n",
    "We're ready to add our software to our *remote* repository on Github.  \n",
    "\n",
    "We're going to add a remote.  The syntax is\n",
    "*git remote add <alias> "
   ]
  },
  {
   "cell_type": "code",
   "execution_count": 27,
   "metadata": {
    "collapsed": false
   },
   "outputs": [
    {
     "name": "stdout",
     "output_type": "stream",
     "text": [
      "GIT-REMOTE(1)                     Git Manual                     GIT-REMOTE(1)\n",
      "\n",
      "\n",
      "\n",
      "N\bNA\bAM\bME\bE\n",
      "       git-remote - Manage set of tracked repositories\n",
      "\n",
      "S\bSY\bYN\bNO\bOP\bPS\bSI\bIS\bS\n",
      "       _\bg_\bi_\bt _\br_\be_\bm_\bo_\bt_\be [-v | --verbose]\n",
      "       _\bg_\bi_\bt _\br_\be_\bm_\bo_\bt_\be _\ba_\bd_\bd [-t <branch>] [-m <master>] [-f] [--[no-]tags] [--mirror=<fetch|push>] <name> <url>\n",
      "       _\bg_\bi_\bt _\br_\be_\bm_\bo_\bt_\be _\br_\be_\bn_\ba_\bm_\be <old> <new>\n",
      "       _\bg_\bi_\bt _\br_\be_\bm_\bo_\bt_\be _\br_\be_\bm_\bo_\bv_\be <name>\n",
      "       _\bg_\bi_\bt _\br_\be_\bm_\bo_\bt_\be _\bs_\be_\bt_\b-_\bh_\be_\ba_\bd <name> (-a | --auto | -d | --delete | <branch>)\n",
      "       _\bg_\bi_\bt _\br_\be_\bm_\bo_\bt_\be _\bs_\be_\bt_\b-_\bb_\br_\ba_\bn_\bc_\bh_\be_\bs [--add] <name> <branch>...\n",
      "       _\bg_\bi_\bt _\br_\be_\bm_\bo_\bt_\be _\bg_\be_\bt_\b-_\bu_\br_\bl [--push] [--all] <name>\n",
      "       _\bg_\bi_\bt _\br_\be_\bm_\bo_\bt_\be _\bs_\be_\bt_\b-_\bu_\br_\bl [--push] <name> <newurl> [<oldurl>]\n",
      "       _\bg_\bi_\bt _\br_\be_\bm_\bo_\bt_\be _\bs_\be_\bt_\b-_\bu_\br_\bl _\b-_\b-_\ba_\bd_\bd [--push] <name> <newurl>\n",
      "       _\bg_\bi_\bt _\br_\be_\bm_\bo_\bt_\be _\bs_\be_\bt_\b-_\bu_\br_\bl _\b-_\b-_\bd_\be_\bl_\be_\bt_\be [--push] <name> <url>\n",
      "       _\bg_\bi_\bt _\br_\be_\bm_\bo_\bt_\be [-v | --verbose] _\bs_\bh_\bo_\bw [-n] <name>...\n",
      "       _\bg_\bi_\bt _\br_\be_\bm_\bo_\bt_\be _\bp_\br_\bu_\bn_\be [-n | --dry-run] <name>...\n",
      "       _\bg_\bi_\bt _\br_\be_\bm_\bo_\bt_\be [-v | --verbose] _\bu_\bp_\bd_\ba_\bt_\be [-p | --prune] [(<group> | <remote>)...]\n",
      "\n",
      "\n",
      "D\bDE\bES\bSC\bCR\bRI\bIP\bPT\bTI\bIO\bON\bN\n",
      "       Manage the set of repositories (\"remotes\") whose branches you track.\n",
      "\n",
      "O\bOP\bPT\bTI\bIO\bON\bNS\bS\n",
      "       -v, --verbose\n",
      "           Be a little more verbose and show remote url after name. NOTE: This\n",
      "           must be placed between r\bre\bem\bmo\bot\bte\be and s\bsu\bub\bbc\bco\bom\bmm\bma\ban\bnd\bd.\n",
      "\n",
      "C\bCO\bOM\bMM\bMA\bAN\bND\bDS\bS\n",
      "       With no arguments, shows a list of existing remotes. Several\n",
      "       subcommands are available to perform operations on the remotes.\n",
      "\n",
      "       _\ba_\bd_\bd\n",
      "           Adds a remote named <name> for the repository at <url>. The command\n",
      "           g\bgi\bit\bt f\bfe\bet\btc\bch\bh <\b<n\bna\bam\bme\be>\b> can then be used to create and update\n",
      "           remote-tracking branches <name>/<branch>.\n",
      "\n",
      "           With -\b-f\bf option, g\bgi\bit\bt f\bfe\bet\btc\bch\bh <\b<n\bna\bam\bme\be>\b> is run immediately after the\n",
      "           remote information is set up.\n",
      "\n",
      "           With -\b--\b-t\bta\bag\bgs\bs option, g\bgi\bit\bt f\bfe\bet\btc\bch\bh <\b<n\bna\bam\bme\be>\b> imports every tag from the\n",
      "           remote repository.\n",
      "\n",
      "           With -\b--\b-n\bno\bo-\b-t\bta\bag\bgs\bs option, g\bgi\bit\bt f\bfe\bet\btc\bch\bh <\b<n\bna\bam\bme\be>\b> does not import tags from\n",
      "           the remote repository.\n",
      "\n",
      "           By default, only tags on fetched branches are imported (see g\bgi\bit\bt-\b-\n",
      "           f\bfe\bet\btc\bch\bh(1)).\n",
      "\n",
      "           With -\b-t\bt <\b<b\bbr\bra\ban\bnc\bch\bh>\b> option, instead of the default glob refspec for\n",
      "           the remote to track all branches under the r\bre\bef\bfs\bs/\b/r\bre\bem\bmo\bot\bte\bes\bs/\b/<\b<n\bna\bam\bme\be>\b>/\b/\n",
      "           namespace, a refspec to track only <\b<b\bbr\bra\ban\bnc\bch\bh>\b> is created. You can\n",
      "           give more than one -\b-t\bt <\b<b\bbr\bra\ban\bnc\bch\bh>\b> to track multiple branches without\n",
      "           grabbing all branches.\n",
      "\n",
      "           With -\b-m\bm <\b<m\bma\bas\bst\bte\ber\br>\b> option, a symbolic-ref r\bre\bef\bfs\bs/\b/r\bre\bem\bmo\bot\bte\bes\bs/\b/<\b<n\bna\bam\bme\be>\b>/\b/H\bHE\bEA\bAD\bD is\n",
      "           set up to point at remote's <\b<m\bma\bas\bst\bte\ber\br>\b> branch. See also the set-head\n",
      "           command.\n",
      "\n",
      "           When a fetch mirror is created with -\b--\b-m\bmi\bir\brr\bro\bor\br=\b=f\bfe\bet\btc\bch\bh, the refs will\n",
      "           not be stored in the _\br_\be_\bf_\bs_\b/_\br_\be_\bm_\bo_\bt_\be_\bs_\b/ namespace, but rather everything\n",
      "           in _\br_\be_\bf_\bs_\b/ on the remote will be directly mirrored into _\br_\be_\bf_\bs_\b/ in the\n",
      "           local repository. This option only makes sense in bare\n",
      "           repositories, because a fetch would overwrite any local commits.\n",
      "\n",
      "           When a push mirror is created with -\b--\b-m\bmi\bir\brr\bro\bor\br=\b=p\bpu\bus\bsh\bh, then g\bgi\bit\bt p\bpu\bus\bsh\bh\n",
      "           will always behave as if -\b--\b-m\bmi\bir\brr\bro\bor\br was passed.\n",
      "\n",
      "       _\br_\be_\bn_\ba_\bm_\be\n",
      "           Rename the remote named <old> to <new>. All remote-tracking\n",
      "           branches and configuration settings for the remote are updated.\n",
      "\n",
      "           In case <old> and <new> are the same, and <old> is a file under\n",
      "           $\b$G\bGI\bIT\bT_\b_D\bDI\bIR\bR/\b/r\bre\bem\bmo\bot\bte\bes\bs or $\b$G\bGI\bIT\bT_\b_D\bDI\bIR\bR/\b/b\bbr\bra\ban\bnc\bch\bhe\bes\bs, the remote is converted to\n",
      "           the configuration file format.\n",
      "\n",
      "       _\br_\be_\bm_\bo_\bv_\be, _\br_\bm\n",
      "           Remove the remote named <name>. All remote-tracking branches and\n",
      "           configuration settings for the remote are removed.\n",
      "\n",
      "       _\bs_\be_\bt_\b-_\bh_\be_\ba_\bd\n",
      "           Sets or deletes the default branch (i.e. the target of the\n",
      "           symbolic-ref r\bre\bef\bfs\bs/\b/r\bre\bem\bmo\bot\bte\bes\bs/\b/<\b<n\bna\bam\bme\be>\b>/\b/H\bHE\bEA\bAD\bD) for the named remote. Having\n",
      "           a default branch for a remote is not required, but allows the name\n",
      "           of the remote to be specified in lieu of a specific branch. For\n",
      "           example, if the default branch for o\bor\bri\big\bgi\bin\bn is set to m\bma\bas\bst\bte\ber\br, then\n",
      "           o\bor\bri\big\bgi\bin\bn may be specified wherever you would normally specify\n",
      "           o\bor\bri\big\bgi\bin\bn/\b/m\bma\bas\bst\bte\ber\br.\n",
      "\n",
      "           With -\b-d\bd or -\b--\b-d\bde\bel\ble\bet\bte\be, the symbolic ref r\bre\bef\bfs\bs/\b/r\bre\bem\bmo\bot\bte\bes\bs/\b/<\b<n\bna\bam\bme\be>\b>/\b/H\bHE\bEA\bAD\bD is\n",
      "           deleted.\n",
      "\n",
      "           With -\b-a\ba or -\b--\b-a\bau\but\bto\bo, the remote is queried to determine its H\bHE\bEA\bAD\bD,\n",
      "           then the symbolic-ref r\bre\bef\bfs\bs/\b/r\bre\bem\bmo\bot\bte\bes\bs/\b/<\b<n\bna\bam\bme\be>\b>/\b/H\bHE\bEA\bAD\bD is set to the same\n",
      "           branch. e.g., if the remote H\bHE\bEA\bAD\bD is pointed at n\bne\bex\bxt\bt, \"g\bgi\bit\bt r\bre\bem\bmo\bot\bte\be\n",
      "           s\bse\bet\bt-\b-h\bhe\bea\bad\bd o\bor\bri\big\bgi\bin\bn -\b-a\ba\" will set the symbolic-ref\n",
      "           r\bre\bef\bfs\bs/\b/r\bre\bem\bmo\bot\bte\bes\bs/\b/o\bor\bri\big\bgi\bin\bn/\b/H\bHE\bEA\bAD\bD to r\bre\bef\bfs\bs/\b/r\bre\bem\bmo\bot\bte\bes\bs/\b/o\bor\bri\big\bgi\bin\bn/\b/n\bne\bex\bxt\bt. This will\n",
      "           only work if r\bre\bef\bfs\bs/\b/r\bre\bem\bmo\bot\bte\bes\bs/\b/o\bor\bri\big\bgi\bin\bn/\b/n\bne\bex\bxt\bt already exists; if not it\n",
      "           must be fetched first.\n",
      "\n",
      "           Use <\b<b\bbr\bra\ban\bnc\bch\bh>\b> to set the symbolic-ref r\bre\bef\bfs\bs/\b/r\bre\bem\bmo\bot\bte\bes\bs/\b/<\b<n\bna\bam\bme\be>\b>/\b/H\bHE\bEA\bAD\bD\n",
      "           explicitly. e.g., \"git remote set-head origin master\" will set the\n",
      "           symbolic-ref r\bre\bef\bfs\bs/\b/r\bre\bem\bmo\bot\bte\bes\bs/\b/o\bor\bri\big\bgi\bin\bn/\b/H\bHE\bEA\bAD\bD to\n",
      "           r\bre\bef\bfs\bs/\b/r\bre\bem\bmo\bot\bte\bes\bs/\b/o\bor\bri\big\bgi\bin\bn/\b/m\bma\bas\bst\bte\ber\br. This will only work if\n",
      "           r\bre\bef\bfs\bs/\b/r\bre\bem\bmo\bot\bte\bes\bs/\b/o\bor\bri\big\bgi\bin\bn/\b/m\bma\bas\bst\bte\ber\br already exists; if not it must be\n",
      "           fetched first.\n",
      "\n",
      "       _\bs_\be_\bt_\b-_\bb_\br_\ba_\bn_\bc_\bh_\be_\bs\n",
      "           Changes the list of branches tracked by the named remote. This can\n",
      "           be used to track a subset of the available remote branches after\n",
      "           the initial setup for a remote.\n",
      "\n",
      "           The named branches will be interpreted as if specified with the -\b-t\bt\n",
      "           option on the _\bg_\bi_\bt _\br_\be_\bm_\bo_\bt_\be _\ba_\bd_\bd command line.\n",
      "\n",
      "           With -\b--\b-a\bad\bdd\bd, instead of replacing the list of currently tracked\n",
      "           branches, adds to that list.\n",
      "\n",
      "       _\bg_\be_\bt_\b-_\bu_\br_\bl\n",
      "           Retrieves the URLs for a remote. Configurations for i\bin\bns\bst\bte\bea\bad\bdO\bOf\bf and\n",
      "           p\bpu\bus\bsh\bhI\bIn\bns\bst\bte\bea\bad\bdO\bOf\bf are expanded here. By default, only the first URL is\n",
      "           listed.\n",
      "\n",
      "           With _\b-_\b-_\bp_\bu_\bs_\bh, push URLs are queried rather than fetch URLs.\n",
      "\n",
      "           With _\b-_\b-_\ba_\bl_\bl, all URLs for the remote will be listed.\n",
      "\n",
      "       _\bs_\be_\bt_\b-_\bu_\br_\bl\n",
      "           Changes URLs for the remote. Sets first URL for remote <name> that\n",
      "           matches regex <oldurl> (first URL if no <oldurl> is given) to\n",
      "           <newurl>. If <oldurl> doesn't match any URL, an error occurs and\n",
      "           nothing is changed.\n",
      "\n",
      "           With _\b-_\b-_\bp_\bu_\bs_\bh, push URLs are manipulated instead of fetch URLs.\n",
      "\n",
      "           With _\b-_\b-_\ba_\bd_\bd, instead of changing existing URLs, new URL is added.\n",
      "\n",
      "           With _\b-_\b-_\bd_\be_\bl_\be_\bt_\be, instead of changing existing URLs, all URLs matching\n",
      "           regex <url> are deleted for remote <name>. Trying to delete all\n",
      "           non-push URLs is an error.\n",
      "\n",
      "           Note that the push URL and the fetch URL, even though they can be\n",
      "           set differently, must still refer to the same place. What you\n",
      "           pushed to the push URL should be what you would see if you\n",
      "           immediately fetched from the fetch URL. If you are trying to fetch\n",
      "           from one place (e.g. your upstream) and push to another (e.g. your\n",
      "           publishing repository), use two separate remotes.\n",
      "\n",
      "       _\bs_\bh_\bo_\bw\n",
      "           Gives some information about the remote <name>.\n",
      "\n",
      "           With -\b-n\bn option, the remote heads are not queried first with g\bgi\bit\bt\n",
      "           l\bls\bs-\b-r\bre\bem\bmo\bot\bte\be <\b<n\bna\bam\bme\be>\b>; cached information is used instead.\n",
      "\n",
      "       _\bp_\br_\bu_\bn_\be\n",
      "           Deletes all stale remote-tracking branches under <name>. These\n",
      "           stale branches have already been removed from the remote repository\n",
      "           referenced by <name>, but are still locally available in\n",
      "           \"remotes/<name>\".\n",
      "\n",
      "           With -\b--\b-d\bdr\bry\by-\b-r\bru\bun\bn option, report what branches will be pruned, but do\n",
      "           not actually prune them.\n",
      "\n",
      "       _\bu_\bp_\bd_\ba_\bt_\be\n",
      "           Fetch updates for a named set of remotes in the repository as\n",
      "           defined by remotes.<group>. If a named group is not specified on\n",
      "           the command line, the configuration parameter remotes.default will\n",
      "           be used; if remotes.default is not defined, all remotes which do\n",
      "           not have the configuration parameter\n",
      "           remote.<name>.skipDefaultUpdate set to true will be updated. (See\n",
      "           g\bgi\bit\bt-\b-c\bco\bon\bnf\bfi\big\bg(1)).\n",
      "\n",
      "           With -\b--\b-p\bpr\bru\bun\bne\be option, prune all the remotes that are updated.\n",
      "\n",
      "D\bDI\bIS\bSC\bCU\bUS\bSS\bSI\bIO\bON\bN\n",
      "       The remote configuration is achieved using the r\bre\bem\bmo\bot\bte\be.\b.o\bor\bri\big\bgi\bin\bn.\b.u\bur\brl\bl and\n",
      "       r\bre\bem\bmo\bot\bte\be.\b.o\bor\bri\big\bgi\bin\bn.\b.f\bfe\bet\btc\bch\bh configuration variables. (See g\bgi\bit\bt-\b-c\bco\bon\bnf\bfi\big\bg(1)).\n",
      "\n",
      "E\bEX\bXA\bAM\bMP\bPL\bLE\bES\bS\n",
      "       +\bo   Add a new remote, fetch, and check out a branch from it\n",
      "\n",
      "               $ git remote\n",
      "               origin\n",
      "               $ git branch -r\n",
      "                 origin/HEAD -> origin/master\n",
      "                 origin/master\n",
      "               $ git remote add staging git://git.kernel.org/.../gregkh/staging.git\n",
      "               $ git remote\n",
      "               origin\n",
      "               staging\n",
      "               $ git fetch staging\n",
      "               ...\n",
      "               From git://git.kernel.org/pub/scm/linux/kernel/git/gregkh/staging\n",
      "                * [new branch]      master     -> staging/master\n",
      "                * [new branch]      staging-linus -> staging/staging-linus\n",
      "                * [new branch]      staging-next -> staging/staging-next\n",
      "               $ git branch -r\n",
      "                 origin/HEAD -> origin/master\n",
      "                 origin/master\n",
      "                 staging/master\n",
      "                 staging/staging-linus\n",
      "                 staging/staging-next\n",
      "               $ git checkout -b staging staging/master\n",
      "               ...\n",
      "\n",
      "\n",
      "       +\bo   Imitate _\bg_\bi_\bt _\bc_\bl_\bo_\bn_\be but track only selected branches\n",
      "\n",
      "               $ mkdir project.git\n",
      "               $ cd project.git\n",
      "               $ git init\n",
      "               $ git remote add -f -t master -m master origin git://example.com/git.git/\n",
      "               $ git merge origin\n",
      "\n",
      "\n",
      "S\bSE\bEE\bE A\bAL\bLS\bSO\bO\n",
      "       g\bgi\bit\bt-\b-f\bfe\bet\btc\bch\bh(1) g\bgi\bit\bt-\b-b\bbr\bra\ban\bnc\bch\bh(1) g\bgi\bit\bt-\b-c\bco\bon\bnf\bfi\big\bg(1)\n",
      "\n",
      "G\bGI\bIT\bT\n",
      "       Part of the g\bgi\bit\bt(1) suite\n",
      "\n",
      "\n",
      "\n",
      "Git 2.9.0                         06/13/2016                     GIT-REMOTE(1)\n"
     ]
    }
   ],
   "source": [
    "%%bash\n",
    "cd ~/test_repo\n",
    "#git remote add my_github https://github.com/variscarey\n",
    "\n",
    "git remote -v  #lists all remotes added for a current repo\n"
   ]
  },
  {
   "cell_type": "markdown",
   "metadata": {},
   "source": [
    "We now *push* our repository to the remote.  The syntax is\n",
    "\n",
    "git push <remote alias=origin> <branch name=master>\n",
    "\n",
    "if you leave off the branch name the default is master.  If you leave off the alias the assumption is origin."
   ]
  },
  {
   "cell_type": "code",
   "execution_count": null,
   "metadata": {
    "collapsed": true
   },
   "outputs": [],
   "source": [
    "%%bash\n",
    "cd ~/test_repo\n",
    "git push my_github "
   ]
  },
  {
   "cell_type": "code",
   "execution_count": null,
   "metadata": {
    "collapsed": true
   },
   "outputs": [],
   "source": [
    "%%bash\n",
    "cd ~/test_repo\n",
    "git push my_github master\n",
    "git push my_github test_branch"
   ]
  },
  {
   "cell_type": "markdown",
   "metadata": {},
   "source": [
    "If you navigate to your github page, you should now see your test repo \"up in lights\".\n",
    "\n"
   ]
  },
  {
   "cell_type": "code",
   "execution_count": null,
   "metadata": {
    "collapsed": true
   },
   "outputs": [],
   "source": []
  }
 ],
 "metadata": {
  "kernelspec": {
   "display_name": "Python [conda root]",
   "language": "python",
   "name": "conda-root-py"
  },
  "language_info": {
   "codemirror_mode": {
    "name": "ipython",
    "version": 2
   },
   "file_extension": ".py",
   "mimetype": "text/x-python",
   "name": "python",
   "nbconvert_exporter": "python",
   "pygments_lexer": "ipython2",
   "version": "2.7.12"
  }
 },
 "nbformat": 4,
 "nbformat_minor": 1
}
